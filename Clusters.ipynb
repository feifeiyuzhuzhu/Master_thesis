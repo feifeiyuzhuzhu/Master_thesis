{
 "cells": [
  {
   "cell_type": "code",
   "execution_count": 1,
   "metadata": {},
   "outputs": [],
   "source": [
    "from subprocess import call\n",
    "import os\n",
    "import glob\n",
    "import numpy as np\n",
    "import pandas as pd\n",
    "import matplotlib.pyplot as plt\n",
    "from shutil import copyfile, move, copy, copytree, rmtree\n",
    "from distutils.dir_util import copy_tree\n",
    "from IPython.display import clear_output\n",
    "from tempfile import mkstemp\n",
    "from os import fdopen, remove\n",
    "from sklearn import metrics\n",
    "import plotly\n",
    "from ema_workbench import (RealParameter, IntegerParameter, BooleanParameter, ScalarOutcome, ArrayOutcome, Constant, Model, MultiprocessingEvaluator, Policy, perform_experiments, ema_logging )\n",
    "from ema_workbench import (save_results, load_results, experiments_to_scenarios)\n",
    "from ema_workbench.em_framework import (sample_uncertainties)\n",
    "\n",
    "from functools import partial\n",
    "from multiprocessing import Pool, Lock\n",
    "import seaborn as sns\n",
    "%matplotlib inline\n",
    "import plotly.express as px\n",
    "\n",
    "import matplotlib.pyplot as plt\n",
    "from scipy import stats\n",
    "\n",
    "from numpy.lib import recfunctions as rf\n",
    "\n",
    "#import ema_workbench.analysis.cart as cart\n",
    "#from ema_workbench import ema_logging, load_results\n",
    "#from ema_workbench.analysis import (cart, RuleInductionType)\n",
    "\n",
    "ema_logging.log_to_stderr(level=ema_logging.INFO)\n",
    "\n",
    "import io\n",
    "import math\n",
    "from io import StringIO\n",
    "\n",
    "import matplotlib.pyplot as plt\n",
    "import matplotlib.image as mpimg\n",
    "\n",
    "from sklearn import tree\n",
    "\n",
    "\n",
    "from ema_workbench.util.ema_exceptions import EMAError\n",
    "from pygments.unistring import cats\n",
    "\n",
    "import numpy as np\n",
    "import matplotlib.mlab as mlab\n",
    "import matplotlib.pyplot as plt\n",
    "\n",
    "from scipy.cluster.hierarchy import dendrogram, linkage\n",
    "from scipy.spatial.distance import squareform\n",
    "import matplotlib.pyplot as plt\n",
    "import seaborn as sns\n",
    "\n",
    "import numpy as np\n",
    "import pandas as pd\n",
    "import matplotlib.pyplot as plt\n",
    "from sklearn.cluster import AgglomerativeClustering\n",
    "from scipy.spatial.distance import squareform\n",
    "from sklearn.cluster import KMeans\n",
    "from sklearn.manifold import MDS\n",
    "from sklearn import metrics\n",
    "\n",
    "import os"
   ]
  },
  {
   "cell_type": "code",
   "execution_count": 2,
   "metadata": {},
   "outputs": [],
   "source": [
    "df = pd.read_csv(r'C:\\Users\\teres\\Documents\\MasterThesis\\Final_Run_EMA\\Model_2015_2050\\kappa_2000.csv')"
   ]
  },
  {
   "cell_type": "code",
   "execution_count": 3,
   "metadata": {},
   "outputs": [
    {
     "data": {
      "text/html": [
       "<div>\n",
       "<style scoped>\n",
       "    .dataframe tbody tr th:only-of-type {\n",
       "        vertical-align: middle;\n",
       "    }\n",
       "\n",
       "    .dataframe tbody tr th {\n",
       "        vertical-align: top;\n",
       "    }\n",
       "\n",
       "    .dataframe thead th {\n",
       "        text-align: right;\n",
       "    }\n",
       "</style>\n",
       "<table border=\"1\" class=\"dataframe\">\n",
       "  <thead>\n",
       "    <tr style=\"text-align: right;\">\n",
       "      <th></th>\n",
       "      <th>Unnamed: 0</th>\n",
       "      <th>0</th>\n",
       "      <th>1</th>\n",
       "      <th>2</th>\n",
       "      <th>3</th>\n",
       "      <th>4</th>\n",
       "      <th>5</th>\n",
       "      <th>6</th>\n",
       "      <th>7</th>\n",
       "      <th>8</th>\n",
       "      <th>...</th>\n",
       "      <th>1990</th>\n",
       "      <th>1991</th>\n",
       "      <th>1992</th>\n",
       "      <th>1993</th>\n",
       "      <th>1994</th>\n",
       "      <th>1995</th>\n",
       "      <th>1996</th>\n",
       "      <th>1997</th>\n",
       "      <th>1998</th>\n",
       "      <th>1999</th>\n",
       "    </tr>\n",
       "  </thead>\n",
       "  <tbody>\n",
       "    <tr>\n",
       "      <th>0</th>\n",
       "      <td>0</td>\n",
       "      <td>1.000000</td>\n",
       "      <td>0.945943</td>\n",
       "      <td>0.940829</td>\n",
       "      <td>0.940768</td>\n",
       "      <td>0.945914</td>\n",
       "      <td>0.938394</td>\n",
       "      <td>0.939565</td>\n",
       "      <td>0.940379</td>\n",
       "      <td>0.944670</td>\n",
       "      <td>...</td>\n",
       "      <td>0.936431</td>\n",
       "      <td>0.942675</td>\n",
       "      <td>0.944665</td>\n",
       "      <td>0.943154</td>\n",
       "      <td>0.939039</td>\n",
       "      <td>0.938092</td>\n",
       "      <td>0.940712</td>\n",
       "      <td>0.947192</td>\n",
       "      <td>0.948316</td>\n",
       "      <td>0.936765</td>\n",
       "    </tr>\n",
       "    <tr>\n",
       "      <th>1</th>\n",
       "      <td>1</td>\n",
       "      <td>0.945943</td>\n",
       "      <td>1.000000</td>\n",
       "      <td>0.942197</td>\n",
       "      <td>0.942996</td>\n",
       "      <td>0.943883</td>\n",
       "      <td>0.944958</td>\n",
       "      <td>0.942265</td>\n",
       "      <td>0.943190</td>\n",
       "      <td>0.943839</td>\n",
       "      <td>...</td>\n",
       "      <td>0.938278</td>\n",
       "      <td>0.943128</td>\n",
       "      <td>0.944666</td>\n",
       "      <td>0.943121</td>\n",
       "      <td>0.941274</td>\n",
       "      <td>0.942671</td>\n",
       "      <td>0.943259</td>\n",
       "      <td>0.945813</td>\n",
       "      <td>0.945397</td>\n",
       "      <td>0.938231</td>\n",
       "    </tr>\n",
       "    <tr>\n",
       "      <th>2</th>\n",
       "      <td>2</td>\n",
       "      <td>0.940829</td>\n",
       "      <td>0.942197</td>\n",
       "      <td>1.000000</td>\n",
       "      <td>0.943161</td>\n",
       "      <td>0.941988</td>\n",
       "      <td>0.941363</td>\n",
       "      <td>0.944394</td>\n",
       "      <td>0.941697</td>\n",
       "      <td>0.942908</td>\n",
       "      <td>...</td>\n",
       "      <td>0.937805</td>\n",
       "      <td>0.947268</td>\n",
       "      <td>0.941786</td>\n",
       "      <td>0.941566</td>\n",
       "      <td>0.941842</td>\n",
       "      <td>0.938945</td>\n",
       "      <td>0.944923</td>\n",
       "      <td>0.939701</td>\n",
       "      <td>0.939764</td>\n",
       "      <td>0.943820</td>\n",
       "    </tr>\n",
       "    <tr>\n",
       "      <th>3</th>\n",
       "      <td>3</td>\n",
       "      <td>0.940768</td>\n",
       "      <td>0.942996</td>\n",
       "      <td>0.943161</td>\n",
       "      <td>1.000000</td>\n",
       "      <td>0.936974</td>\n",
       "      <td>0.942453</td>\n",
       "      <td>0.941211</td>\n",
       "      <td>0.945243</td>\n",
       "      <td>0.939268</td>\n",
       "      <td>...</td>\n",
       "      <td>0.933727</td>\n",
       "      <td>0.943447</td>\n",
       "      <td>0.937043</td>\n",
       "      <td>0.938501</td>\n",
       "      <td>0.946927</td>\n",
       "      <td>0.939959</td>\n",
       "      <td>0.941386</td>\n",
       "      <td>0.941151</td>\n",
       "      <td>0.940514</td>\n",
       "      <td>0.945181</td>\n",
       "    </tr>\n",
       "    <tr>\n",
       "      <th>4</th>\n",
       "      <td>4</td>\n",
       "      <td>0.945914</td>\n",
       "      <td>0.943883</td>\n",
       "      <td>0.941988</td>\n",
       "      <td>0.936974</td>\n",
       "      <td>1.000000</td>\n",
       "      <td>0.940053</td>\n",
       "      <td>0.941051</td>\n",
       "      <td>0.939283</td>\n",
       "      <td>0.945947</td>\n",
       "      <td>...</td>\n",
       "      <td>0.941204</td>\n",
       "      <td>0.943744</td>\n",
       "      <td>0.947731</td>\n",
       "      <td>0.945319</td>\n",
       "      <td>0.936549</td>\n",
       "      <td>0.939695</td>\n",
       "      <td>0.944285</td>\n",
       "      <td>0.945528</td>\n",
       "      <td>0.944342</td>\n",
       "      <td>0.936905</td>\n",
       "    </tr>\n",
       "  </tbody>\n",
       "</table>\n",
       "<p>5 rows × 2001 columns</p>\n",
       "</div>"
      ],
      "text/plain": [
       "   Unnamed: 0         0         1         2         3         4         5  \\\n",
       "0           0  1.000000  0.945943  0.940829  0.940768  0.945914  0.938394   \n",
       "1           1  0.945943  1.000000  0.942197  0.942996  0.943883  0.944958   \n",
       "2           2  0.940829  0.942197  1.000000  0.943161  0.941988  0.941363   \n",
       "3           3  0.940768  0.942996  0.943161  1.000000  0.936974  0.942453   \n",
       "4           4  0.945914  0.943883  0.941988  0.936974  1.000000  0.940053   \n",
       "\n",
       "          6         7         8  ...      1990      1991      1992      1993  \\\n",
       "0  0.939565  0.940379  0.944670  ...  0.936431  0.942675  0.944665  0.943154   \n",
       "1  0.942265  0.943190  0.943839  ...  0.938278  0.943128  0.944666  0.943121   \n",
       "2  0.944394  0.941697  0.942908  ...  0.937805  0.947268  0.941786  0.941566   \n",
       "3  0.941211  0.945243  0.939268  ...  0.933727  0.943447  0.937043  0.938501   \n",
       "4  0.941051  0.939283  0.945947  ...  0.941204  0.943744  0.947731  0.945319   \n",
       "\n",
       "       1994      1995      1996      1997      1998      1999  \n",
       "0  0.939039  0.938092  0.940712  0.947192  0.948316  0.936765  \n",
       "1  0.941274  0.942671  0.943259  0.945813  0.945397  0.938231  \n",
       "2  0.941842  0.938945  0.944923  0.939701  0.939764  0.943820  \n",
       "3  0.946927  0.939959  0.941386  0.941151  0.940514  0.945181  \n",
       "4  0.936549  0.939695  0.944285  0.945528  0.944342  0.936905  \n",
       "\n",
       "[5 rows x 2001 columns]"
      ]
     },
     "execution_count": 3,
     "metadata": {},
     "output_type": "execute_result"
    }
   ],
   "source": [
    "df.head()"
   ]
  },
  {
   "cell_type": "code",
   "execution_count": 4,
   "metadata": {},
   "outputs": [],
   "source": [
    "df = df.drop(['Unnamed: 0'], axis=1)\n",
    "kappa_df = df"
   ]
  },
  {
   "cell_type": "code",
   "execution_count": 5,
   "metadata": {},
   "outputs": [],
   "source": [
    "distance =  1 - df"
   ]
  },
  {
   "cell_type": "code",
   "execution_count": 6,
   "metadata": {},
   "outputs": [
    {
     "data": {
      "text/plain": [
       "<AxesSubplot:>"
      ]
     },
     "execution_count": 6,
     "metadata": {},
     "output_type": "execute_result"
    },
    {
     "data": {
      "image/png": "[encoded data removed]",
      "text/plain": [
       "<Figure size 432x288 with 2 Axes>"
      ]
     },
     "metadata": {
      "needs_background": "light"
     },
     "output_type": "display_data"
    }
   ],
   "source": [
    "sns.heatmap(distance)"
   ]
  },
  {
   "cell_type": "markdown",
   "metadata": {},
   "source": [
    "### Determine the clustering algorithms and the number of clusters"
   ]
  },
  {
   "cell_type": "markdown",
   "metadata": {},
   "source": [
    "#### Agglomerative Clustering"
   ]
  },
  {
   "cell_type": "code",
   "execution_count": 6,
   "metadata": {},
   "outputs": [],
   "source": [
    "def within_dissimilarity(df, clustering):\n",
    "    clusters = np.unique(clustering.labels_)\n",
    "    \n",
    "    all_wk = []\n",
    "    \n",
    "    for cluster in clusters:\n",
    "        slicer = clustering.labels_==cluster\n",
    "        df_sliced = df.iloc[slicer, slicer]\n",
    "        wk = np.mean(np.mean(df_sliced))\n",
    "        \n",
    "        all_wk.append(wk)\n",
    "        \n",
    "    mean_wk = np.mean(all_wk)\n",
    "    \n",
    "    return mean_wk\n",
    "\n",
    "def between_dissimilarity(df, clustering):\n",
    "    clusters = np.unique(clustering.labels_)\n",
    "    \n",
    "    all_wk = []\n",
    "    \n",
    "    for cluster in clusters:\n",
    "        slicer = clustering.labels_==cluster\n",
    "        slicer_ = clustering.labels_!=cluster\n",
    "        df_sliced = df.iloc[slicer, slicer_]\n",
    "        wk = np.median(np.median(df_sliced))\n",
    "        \n",
    "        all_wk.append(wk)\n",
    "        \n",
    "    mean_wk = np.median(all_wk)\n",
    "    \n",
    "    return mean_wk"
   ]
  },
  {
   "cell_type": "markdown",
   "metadata": {},
   "source": [
    "Test the linkage methoods and the number of clusters"
   ]
  },
  {
   "cell_type": "code",
   "execution_count": 23,
   "metadata": {},
   "outputs": [],
   "source": [
    "all_wk_complete = {}\n",
    "all_wk_average = {}\n",
    "all_wk_complete_d = {}\n",
    "all_wk_average_d = {}\n",
    "\n",
    "for i in range(10):\n",
    "    clustering = AgglomerativeClustering(n_clusters=i+2, affinity='precomputed', linkage='complete').fit(distance)\n",
    "    labels = clustering.labels_\n",
    "    wk = within_dissimilarity(distance, clustering)\n",
    "    all_wk_complete[i+2] = wk\n",
    "    \n",
    "    clustering = AgglomerativeClustering(n_clusters=i+2, affinity='precomputed', linkage='average').fit(distance)\n",
    "    labels = clustering.labels_\n",
    "    wk = within_dissimilarity(distance, clustering)\n",
    "    all_wk_average[i+2] = wk\n",
    "    \n",
    "    if i>0:\n",
    "        all_wk_complete_d[i+2] = all_wk_complete[i+1] - all_wk_complete[i+2]\n",
    "        all_wk_average_d[i+2] = all_wk_average[i+1] - all_wk_average[i+2]\n",
    "    else:\n",
    "        all_wk_complete_d[i+2] = 0\n",
    "        all_wk_average_d[i+2] = 0"
   ]
  },
  {
   "cell_type": "code",
   "execution_count": 24,
   "metadata": {},
   "outputs": [
    {
     "data": {
      "text/plain": [
       "<matplotlib.axes._subplots.AxesSubplot at 0x183ac36bb70>"
      ]
     },
     "execution_count": 24,
     "metadata": {},
     "output_type": "execute_result"
    },
    {
     "data": {
      "image/png": "[encoded data removed]",
      "text/plain": [
       "<matplotlib.figure.Figure at 0x183ac363400>"
      ]
     },
     "metadata": {},
     "output_type": "display_data"
    }
   ],
   "source": [
    "import seaborn as sns\n",
    "import matplotlib.pyplot as plt\n",
    "%matplotlib inline\n",
    "\n",
    "wk_df = pd.DataFrame()\n",
    "wk_df['no_cluster'] = all_wk_complete.keys()\n",
    "wk_df['wk_complete'] = all_wk_complete.values()\n",
    "wk_df['wk_average'] = all_wk_average.values()\n",
    "\n",
    "wk_df.plot(x='no_cluster', y=['wk_complete', 'wk_average'], style='.-')"
   ]
  },
  {
   "cell_type": "markdown",
   "metadata": {},
   "source": [
    "#### Multi Dimensional Scaling + Agglomerative clustering"
   ]
  },
  {
   "cell_type": "code",
   "execution_count": 177,
   "metadata": {},
   "outputs": [
    {
     "name": "stdout",
     "output_type": "stream",
     "text": [
      "no MDS\n"
     ]
    },
    {
     "data": {
      "image/png": "[encoded data removed]",
      "text/plain": [
       "<Figure size 432x288 with 1 Axes>"
      ]
     },
     "metadata": {
      "needs_background": "light"
     },
     "output_type": "display_data"
    },
    {
     "name": "stdout",
     "output_type": "stream",
     "text": [
      "MDS to 2 components\n"
     ]
    },
    {
     "data": {
      "image/png": "[encoded data removed]",
      "text/plain": [
       "<Figure size 432x288 with 1 Axes>"
      ]
     },
     "metadata": {
      "needs_background": "light"
     },
     "output_type": "display_data"
    },
    {
     "name": "stdout",
     "output_type": "stream",
     "text": [
      "MDS to 3 components\n"
     ]
    },
    {
     "data": {
      "image/png": "[encoded data removed]",
      "text/plain": [
       "<Figure size 432x288 with 1 Axes>"
      ]
     },
     "metadata": {
      "needs_background": "light"
     },
     "output_type": "display_data"
    },
    {
     "name": "stdout",
     "output_type": "stream",
     "text": [
      "MDS to 4 components\n"
     ]
    },
    {
     "data": {
      "image/png": "[encoded data removed]",
      "text/plain": [
       "<Figure size 432x288 with 1 Axes>"
      ]
     },
     "metadata": {
      "needs_background": "light"
     },
     "output_type": "display_data"
    },
    {
     "name": "stdout",
     "output_type": "stream",
     "text": [
      "MDS to 5 components\n"
     ]
    },
    {
     "data": {
      "image/png": "[encoded data removed]",
      "text/plain": [
       "<Figure size 432x288 with 1 Axes>"
      ]
     },
     "metadata": {
      "needs_background": "light"
     },
     "output_type": "display_data"
    },
    {
     "name": "stdout",
     "output_type": "stream",
     "text": [
      "MDS to 6 components\n"
     ]
    },
    {
     "data": {
      "image/png": "[encoded data removed]",
      "text/plain": [
       "<Figure size 432x288 with 1 Axes>"
      ]
     },
     "metadata": {
      "needs_background": "light"
     },
     "output_type": "display_data"
    },
    {
     "name": "stdout",
     "output_type": "stream",
     "text": [
      "MDS to 7 components\n"
     ]
    },
    {
     "data": {
      "image/png": "[encoded data removed]",
      "text/plain": [
       "<Figure size 432x288 with 1 Axes>"
      ]
     },
     "metadata": {
      "needs_background": "light"
     },
     "output_type": "display_data"
    },
    {
     "name": "stdout",
     "output_type": "stream",
     "text": [
      "MDS to 8 components\n"
     ]
    },
    {
     "data": {
      "image/png": "[encoded data removed]",
      "text/plain": [
       "<Figure size 432x288 with 1 Axes>"
      ]
     },
     "metadata": {
      "needs_background": "light"
     },
     "output_type": "display_data"
    },
    {
     "name": "stdout",
     "output_type": "stream",
     "text": [
      "MDS to 9 components\n"
     ]
    },
    {
     "data": {
      "image/png": "[encoded data removed]",
      "text/plain": [
       "<Figure size 432x288 with 1 Axes>"
      ]
     },
     "metadata": {
      "needs_background": "light"
     },
     "output_type": "display_data"
    },
    {
     "name": "stdout",
     "output_type": "stream",
     "text": [
      "MDS to 10 components\n"
     ]
    },
    {
     "data": {
      "image/png": "[encoded data removed]",
      "text/plain": [
       "<Figure size 432x288 with 1 Axes>"
      ]
     },
     "metadata": {
      "needs_background": "light"
     },
     "output_type": "display_data"
    },
    {
     "name": "stdout",
     "output_type": "stream",
     "text": [
      "MDS to 11 components\n"
     ]
    },
    {
     "data": {
      "image/png": "[encoded data removed]",
      "text/plain": [
       "<Figure size 432x288 with 1 Axes>"
      ]
     },
     "metadata": {
      "needs_background": "light"
     },
     "output_type": "display_data"
    }
   ],
   "source": [
    "all_within_complete = {}\n",
    "all_within_average = {}\n",
    "all_between_complete = {}\n",
    "all_between_average = {}\n",
    "\n",
    "print('no MDS')\n",
    "\n",
    "for i in range(9):\n",
    "    clustering = AgglomerativeClustering(n_clusters=i+2, affinity='precomputed', linkage='complete').fit(distance)\n",
    "    labels = clustering.labels_\n",
    "    wk0 = within_dissimilarity(distance,clustering)\n",
    "    wk0_ = between_dissimilarity(distance,clustering)\n",
    "    all_within_complete[i+2] = wk0\n",
    "    all_between_complete[i+2] = wk0_\n",
    "\n",
    "    clustering = AgglomerativeClustering(n_clusters=i+2, affinity='precomputed', linkage='average').fit(distance)\n",
    "    labels = clustering.labels_\n",
    "    wk01 = within_dissimilarity(distance,clustering)\n",
    "    wk01_ = between_dissimilarity(distance,clustering)\n",
    "    all_within_average[i+2] = wk01\n",
    "    all_between_average[i+2] = wk01_\n",
    "\n",
    "wk_df = pd.DataFrame()\n",
    "wk_df['no_cluster'] = all_within_complete.keys()\n",
    "wk_df['wk_within_complete'] = all_within_complete.values()\n",
    "wk_df['wk_between_complete'] = all_between_complete.values()\n",
    "wk_df['wk_within_average'] = all_within_average.values()\n",
    "wk_df['wk_between_average'] = all_between_average.values()\n",
    "\n",
    "wk_df.plot(x='no_cluster', y=['wk_within_complete', 'wk_between_complete',\n",
    "                             'wk_within_average','wk_between_average'], style='.-')\n",
    "plt.ylim((0.030, 0.065))\n",
    "plt.show()\n",
    "\n",
    "\n",
    "for n in range(10):\n",
    "    ncom = n+2\n",
    "    print('MDS to '+ str(ncom) + ' components')\n",
    "    model = MDS(n_components=ncom, dissimilarity='precomputed', random_state=1, metric=False)\n",
    "    out = model.fit_transform(distance)\n",
    "    \n",
    "    all_within_complete_1 = {}\n",
    "    all_within_average_1 = {}\n",
    "    all_between_complete_1 = {}\n",
    "    all_between_average_1 = {}\n",
    "    \n",
    "    for i in range(9):\n",
    "        clustering = AgglomerativeClustering(n_clusters=i+2, affinity='euclidean', linkage='complete').fit(out)\n",
    "        labels = clustering.labels_\n",
    "        wk = within_dissimilarity(distance,clustering)\n",
    "        wk1 = between_dissimilarity(distance,clustering)\n",
    "        all_within_complete_1[i+2] = wk\n",
    "        all_between_complete_1[i+2] = wk1\n",
    "\n",
    "        clustering = AgglomerativeClustering(n_clusters=i+2, affinity='euclidean', linkage='average').fit(out)\n",
    "        labels = clustering.labels_\n",
    "        wk_ = within_dissimilarity(distance,clustering)\n",
    "        wk1_ = between_dissimilarity(distance,clustering)\n",
    "        all_within_average_1[i+2] = wk_\n",
    "        all_between_average_1[i+2] = wk1_\n",
    "\n",
    "    wk_df = pd.DataFrame()\n",
    "    wk_df['no_cluster'] = all_within_complete_1.keys()\n",
    "    wk_df['wk_within_complete'] = all_within_complete_1.values()\n",
    "    wk_df['wk_between_complete'] = all_between_complete_1.values()\n",
    "    wk_df['wk_within_average'] = all_within_average_1.values()\n",
    "    wk_df['wk_between_average'] = all_between_average_1.values()\n",
    "\n",
    "    wk_df.plot(x='no_cluster', y=['wk_within_complete', 'wk_between_complete',\n",
    "                             'wk_within_average','wk_between_average'], style='.-')\n",
    "    plt.ylim((0.030, 0.065))\n",
    "    plt.show()"
   ]
  },
  {
   "cell_type": "markdown",
   "metadata": {},
   "source": [
    "#### K-Means + MDS"
   ]
  },
  {
   "cell_type": "code",
   "execution_count": 158,
   "metadata": {},
   "outputs": [
    {
     "name": "stdout",
     "output_type": "stream",
     "text": [
      "MDS to 2 components\n"
     ]
    },
    {
     "data": {
      "image/png": "[encoded data removed]",
      "text/plain": [
       "<Figure size 432x288 with 1 Axes>"
      ]
     },
     "metadata": {
      "needs_background": "light"
     },
     "output_type": "display_data"
    },
    {
     "name": "stdout",
     "output_type": "stream",
     "text": [
      "MDS to 3 components\n"
     ]
    },
    {
     "data": {
      "image/png": "[encoded data removed]",
      "text/plain": [
       "<Figure size 432x288 with 1 Axes>"
      ]
     },
     "metadata": {
      "needs_background": "light"
     },
     "output_type": "display_data"
    },
    {
     "name": "stdout",
     "output_type": "stream",
     "text": [
      "MDS to 4 components\n"
     ]
    },
    {
     "data": {
      "image/png": "[encoded data removed]",
      "text/plain": [
       "<Figure size 432x288 with 1 Axes>"
      ]
     },
     "metadata": {
      "needs_background": "light"
     },
     "output_type": "display_data"
    },
    {
     "name": "stdout",
     "output_type": "stream",
     "text": [
      "MDS to 5 components\n"
     ]
    },
    {
     "data": {
      "image/png": "[encoded data removed]",
      "text/plain": [
       "<Figure size 432x288 with 1 Axes>"
      ]
     },
     "metadata": {
      "needs_background": "light"
     },
     "output_type": "display_data"
    },
    {
     "name": "stdout",
     "output_type": "stream",
     "text": [
      "MDS to 6 components\n"
     ]
    },
    {
     "data": {
      "image/png": "[encoded data removed]",
      "text/plain": [
       "<Figure size 432x288 with 1 Axes>"
      ]
     },
     "metadata": {
      "needs_background": "light"
     },
     "output_type": "display_data"
    },
    {
     "name": "stdout",
     "output_type": "stream",
     "text": [
      "MDS to 7 components\n"
     ]
    },
    {
     "data": {
      "image/png": "[encoded data removed]",
      "text/plain": [
       "<Figure size 432x288 with 1 Axes>"
      ]
     },
     "metadata": {
      "needs_background": "light"
     },
     "output_type": "display_data"
    },
    {
     "name": "stdout",
     "output_type": "stream",
     "text": [
      "MDS to 8 components\n"
     ]
    },
    {
     "data": {
      "image/png": "[encoded data removed]",
      "text/plain": [
       "<Figure size 432x288 with 1 Axes>"
      ]
     },
     "metadata": {
      "needs_background": "light"
     },
     "output_type": "display_data"
    },
    {
     "name": "stdout",
     "output_type": "stream",
     "text": [
      "MDS to 9 components\n"
     ]
    },
    {
     "data": {
      "image/png": "[encoded data removed]",
      "text/plain": [
       "<Figure size 432x288 with 1 Axes>"
      ]
     },
     "metadata": {
      "needs_background": "light"
     },
     "output_type": "display_data"
    },
    {
     "name": "stdout",
     "output_type": "stream",
     "text": [
      "MDS to 10 components\n"
     ]
    },
    {
     "data": {
      "image/png": "[encoded data removed]",
      "text/plain": [
       "<Figure size 432x288 with 1 Axes>"
      ]
     },
     "metadata": {
      "needs_background": "light"
     },
     "output_type": "display_data"
    }
   ],
   "source": [
    "#all_wk_complete = {}\n",
    "#all_wk_average = {}\n",
    "\n",
    "for n in range(9):\n",
    "    ncom = n+2\n",
    "    print('MDS to '+ str(ncom) + ' components')\n",
    "    model = MDS(n_components=ncom, dissimilarity='precomputed', random_state=1, metric=False)\n",
    "    out = model.fit_transform(distance)\n",
    "    \n",
    "    all_within = {}\n",
    "    all_between = {}\n",
    "    \n",
    "    for i in range(9):\n",
    "        clustering = KMeans(n_clusters=i+2, random_state=0).fit(out)\n",
    "        labels = clustering.labels_\n",
    "        wk = within_dissimilarity(distance, clustering)\n",
    "        wk_1 = between_dissimilarity(distance, clustering)\n",
    "        all_within[i+2] = wk\n",
    "        all_between[i+2] = wk_1\n",
    "            \n",
    "    wk_df = pd.DataFrame()\n",
    "    wk_df['no_cluster'] = all_within.keys()\n",
    "    wk_df['within_dissimilarity'] = all_within.values()\n",
    "    wk_df['between_dissimilarity'] = all_between.values()\n",
    "\n",
    "    wk_df.plot(x='no_cluster', y=['within_dissimilarity','between_dissimilarity'], style='.-')\n",
    "    #y_ticks = np.arange(0.035, 0.065, 10)\n",
    "    #plt.yticks(y_ticks)\n",
    "    plt.ylim((0.035, 0.065))\n",
    "    plt.show()"
   ]
  },
  {
   "cell_type": "code",
   "execution_count": 159,
   "metadata": {},
   "outputs": [
    {
     "data": {
      "text/html": [
       "<div>\n",
       "<style scoped>\n",
       "    .dataframe tbody tr th:only-of-type {\n",
       "        vertical-align: middle;\n",
       "    }\n",
       "\n",
       "    .dataframe tbody tr th {\n",
       "        vertical-align: top;\n",
       "    }\n",
       "\n",
       "    .dataframe thead th {\n",
       "        text-align: right;\n",
       "    }\n",
       "</style>\n",
       "<table border=\"1\" class=\"dataframe\">\n",
       "  <thead>\n",
       "    <tr style=\"text-align: right;\">\n",
       "      <th></th>\n",
       "      <th>no_cluster</th>\n",
       "      <th>within_dissimilarity</th>\n",
       "      <th>between_dissimilarity</th>\n",
       "    </tr>\n",
       "  </thead>\n",
       "  <tbody>\n",
       "    <tr>\n",
       "      <th>0</th>\n",
       "      <td>2</td>\n",
       "      <td>0.059780</td>\n",
       "      <td>0.059466</td>\n",
       "    </tr>\n",
       "    <tr>\n",
       "      <th>1</th>\n",
       "      <td>3</td>\n",
       "      <td>0.059744</td>\n",
       "      <td>0.059460</td>\n",
       "    </tr>\n",
       "    <tr>\n",
       "      <th>2</th>\n",
       "      <td>4</td>\n",
       "      <td>0.059712</td>\n",
       "      <td>0.059472</td>\n",
       "    </tr>\n",
       "    <tr>\n",
       "      <th>3</th>\n",
       "      <td>5</td>\n",
       "      <td>0.059692</td>\n",
       "      <td>0.059456</td>\n",
       "    </tr>\n",
       "    <tr>\n",
       "      <th>4</th>\n",
       "      <td>6</td>\n",
       "      <td>0.059655</td>\n",
       "      <td>0.059463</td>\n",
       "    </tr>\n",
       "    <tr>\n",
       "      <th>5</th>\n",
       "      <td>7</td>\n",
       "      <td>0.059625</td>\n",
       "      <td>0.059480</td>\n",
       "    </tr>\n",
       "    <tr>\n",
       "      <th>6</th>\n",
       "      <td>8</td>\n",
       "      <td>0.059605</td>\n",
       "      <td>0.059443</td>\n",
       "    </tr>\n",
       "    <tr>\n",
       "      <th>7</th>\n",
       "      <td>9</td>\n",
       "      <td>0.059573</td>\n",
       "      <td>0.059436</td>\n",
       "    </tr>\n",
       "    <tr>\n",
       "      <th>8</th>\n",
       "      <td>10</td>\n",
       "      <td>0.059542</td>\n",
       "      <td>0.059470</td>\n",
       "    </tr>\n",
       "  </tbody>\n",
       "</table>\n",
       "</div>"
      ],
      "text/plain": [
       "   no_cluster  within_dissimilarity  between_dissimilarity\n",
       "0           2              0.059780               0.059466\n",
       "1           3              0.059744               0.059460\n",
       "2           4              0.059712               0.059472\n",
       "3           5              0.059692               0.059456\n",
       "4           6              0.059655               0.059463\n",
       "5           7              0.059625               0.059480\n",
       "6           8              0.059605               0.059443\n",
       "7           9              0.059573               0.059436\n",
       "8          10              0.059542               0.059470"
      ]
     },
     "execution_count": 159,
     "metadata": {},
     "output_type": "execute_result"
    }
   ],
   "source": [
    "wk_df"
   ]
  },
  {
   "cell_type": "markdown",
   "metadata": {},
   "source": [
    "As indicated by the table and figures above, K-Means is not very capable of clustering the maps in terms of the dissimilarity within and between clusters"
   ]
  },
  {
   "cell_type": "markdown",
   "metadata": {},
   "source": [
    "#### k-Medoids"
   ]
  },
  {
   "cell_type": "code",
   "execution_count": 91,
   "metadata": {},
   "outputs": [
    {
     "name": "stdout",
     "output_type": "stream",
     "text": [
      "Collecting pyclusteringNote: you may need to restart the kernel to use updated packages.\n",
      "  Downloading pyclustering-0.10.1.2.tar.gz (2.6 MB)\n",
      "Requirement already satisfied: scipy>=1.1.0 in c:\\users\\teres\\anaconda3\\lib\\site-packages (from pyclustering) (1.5.2)\n",
      "Requirement already satisfied: matplotlib>=3.0.0 in c:\\users\\teres\\anaconda3\\lib\\site-packages (from pyclustering) (3.3.1)\n",
      "\n",
      "Requirement already satisfied: numpy>=1.15.2 in c:\\users\\teres\\anaconda3\\lib\\site-packages (from pyclustering) (1.18.5)\n",
      "Requirement already satisfied: Pillow>=5.2.0 in c:\\users\\teres\\anaconda3\\lib\\site-packages (from pyclustering) (7.2.0)\n",
      "Requirement already satisfied: python-dateutil>=2.1 in c:\\users\\teres\\anaconda3\\lib\\site-packages (from matplotlib>=3.0.0->pyclustering) (2.8.1)\n",
      "Requirement already satisfied: kiwisolver>=1.0.1 in c:\\users\\teres\\anaconda3\\lib\\site-packages (from matplotlib>=3.0.0->pyclustering) (1.2.0)\n",
      "Requirement already satisfied: pyparsing!=2.0.4,!=2.1.2,!=2.1.6,>=2.0.3 in c:\\users\\teres\\anaconda3\\lib\\site-packages (from matplotlib>=3.0.0->pyclustering) (2.4.7)\n",
      "Requirement already satisfied: certifi>=2020.06.20 in c:\\users\\teres\\anaconda3\\lib\\site-packages (from matplotlib>=3.0.0->pyclustering) (2020.6.20)\n",
      "Requirement already satisfied: cycler>=0.10 in c:\\users\\teres\\anaconda3\\lib\\site-packages (from matplotlib>=3.0.0->pyclustering) (0.10.0)\n",
      "Requirement already satisfied: six>=1.5 in c:\\users\\teres\\anaconda3\\lib\\site-packages (from python-dateutil>=2.1->matplotlib>=3.0.0->pyclustering) (1.15.0)\n",
      "Building wheels for collected packages: pyclustering\n",
      "  Building wheel for pyclustering (setup.py): started\n",
      "  Building wheel for pyclustering (setup.py): finished with status 'done'\n",
      "  Created wheel for pyclustering: filename=pyclustering-0.10.1.2-py3-none-any.whl size=2395109 sha256=9b781cb9ffee34c7a35c80cadc5e2818406244bb3dad8e0fe7512c58adcb4381\n",
      "  Stored in directory: c:\\users\\teres\\appdata\\local\\pip\\cache\\wheels\\ea\\87\\6b\\1e0568b5ba9dc6518a25338bae90bd8392f35206bb90bb10f1\n",
      "Successfully built pyclustering\n",
      "Installing collected packages: pyclustering\n",
      "Successfully installed pyclustering-0.10.1.2\n"
     ]
    }
   ],
   "source": [
    "#pip install pyclustering"
   ]
  },
  {
   "cell_type": "code",
   "execution_count": 7,
   "metadata": {},
   "outputs": [],
   "source": [
    "# If getting an error \" no module named \"pyclustering”, try run the cell above to install the library again\n",
    "from pyclustering.cluster.kmedoids import kmedoids"
   ]
  },
  {
   "cell_type": "code",
   "execution_count": 8,
   "metadata": {},
   "outputs": [],
   "source": [
    "def within_dissimilarity_kmedoids(df, clusters):\n",
    "    \n",
    "    all_wk = []\n",
    "    \n",
    "    for cluster in clusters:\n",
    "        slicer = [x in cluster for x in list(np.arange(len(df)))]\n",
    "        df_sliced = df.iloc[slicer, slicer]\n",
    "        wk = np.median(np.median(df_sliced))\n",
    "        \n",
    "        all_wk.append(wk)\n",
    "        \n",
    "    mean_wk = np.median(all_wk)\n",
    "    \n",
    "    return mean_wk\n",
    "\n",
    "def between_dissimilarity_kmedoids(df, clusters):\n",
    "    \n",
    "    all_wk = []\n",
    "    \n",
    "    for cluster in clusters:\n",
    "        \n",
    "        slicer = [x in cluster for x in list(np.arange(len(df)))]\n",
    "        slicer_ = [x not in cluster for x in list(np.arange(len(df)))]     \n",
    "        df_sliced = df.iloc[slicer, slicer_]\n",
    "        \n",
    "        wk = np.median(np.median(df_sliced))\n",
    "        \n",
    "        all_wk.append(wk)\n",
    "        \n",
    "    mean_wk = np.median(all_wk)\n",
    "    \n",
    "    return mean_wk"
   ]
  },
  {
   "cell_type": "code",
   "execution_count": 9,
   "metadata": {},
   "outputs": [],
   "source": [
    "matrix2 = []\n",
    "for i in range(len(distance)):\n",
    "    lst = list(distance.iloc[:,i])\n",
    "    matrix2.append(lst)"
   ]
  },
  {
   "cell_type": "code",
   "execution_count": 12,
   "metadata": {},
   "outputs": [
    {
     "data": {
      "image/png": "[encoded data removed]",
      "text/plain": [
       "<Figure size 432x288 with 1 Axes>"
      ]
     },
     "metadata": {
      "needs_background": "light"
     },
     "output_type": "display_data"
    }
   ],
   "source": [
    "all_wk_within = {}\n",
    "all_wk_between = {}\n",
    "\n",
    "for n in range(10):\n",
    "    n_medoids = n+2\n",
    "    init_medoids = list(np.arange(n_medoids))\n",
    "    init_medoids = [(x+1)*220 for x in init_medoids]\n",
    "    \n",
    "    kmedoids_instance = kmedoids(matrix2, init_medoids, data_type='distance_matrix')\n",
    "    kmedoids_instance.process()\n",
    "    \n",
    "    clusters = kmedoids_instance.get_clusters()\n",
    "    medoids = kmedoids_instance.get_medoids()\n",
    "    \n",
    "    wk = within_dissimilarity_kmedoids(distance, clusters)\n",
    "    wk_1 = between_dissimilarity_kmedoids(distance, clusters)\n",
    "    all_wk_within[n+2] = wk\n",
    "    all_wk_between[n+2] = wk_1\n",
    "    \n",
    "            \n",
    "wk_df = pd.DataFrame()\n",
    "wk_df['no_cluster'] = all_wk_within.keys()\n",
    "wk_df['within_dissimilarity'] = all_wk_within.values()\n",
    "wk_df['between_dissimilarity'] = all_wk_between.values()\n",
    "\n",
    "wk_df.plot(x='no_cluster', y=['within_dissimilarity','between_dissimilarity'], style='.-')\n",
    "#plt.ylim((0.035, 0.065))\n",
    "plt.show()"
   ]
  },
  {
   "cell_type": "markdown",
   "metadata": {},
   "source": [
    "#### Comparison between the \"complete\" and the \"average\" linkage method"
   ]
  },
  {
   "cell_type": "code",
   "execution_count": 105,
   "metadata": {},
   "outputs": [
    {
     "data": {
      "text/plain": [
       "Text(0.5, 1.0, 'average')"
      ]
     },
     "execution_count": 105,
     "metadata": {},
     "output_type": "execute_result"
    },
    {
     "data": {
      "image/png": "[encoded data removed]",
      "text/plain": [
       "<Figure size 864x288 with 2 Axes>"
      ]
     },
     "metadata": {
      "needs_background": "light"
     },
     "output_type": "display_data"
    }
   ],
   "source": [
    "all_wk_within1 = {}\n",
    "all_wk_between1 = {}\n",
    "all_wk_within2 = {}\n",
    "all_wk_between2 = {}\n",
    "\n",
    "\n",
    "for i in range(10):\n",
    "    clustering = AgglomerativeClustering(n_clusters=i+2, affinity='precomputed', linkage='complete').fit(distance)\n",
    "    labels = clustering.labels_\n",
    "    wk1 = within_dissimilarity(distance, clustering)\n",
    "    wk_between1 = between_dissimilarity(distance, clustering)\n",
    "    all_wk_within1[i+2] = wk1\n",
    "    all_wk_between1[i+2] = wk_between1\n",
    "    \n",
    "for i in range(10):\n",
    "    clustering = AgglomerativeClustering(n_clusters=i+2, affinity='precomputed', linkage='average').fit(distance)\n",
    "    labels = clustering.labels_\n",
    "    wk2 = within_dissimilarity(distance, clustering)\n",
    "    wk_between2 = between_dissimilarity(distance, clustering)\n",
    "    all_wk_within2[i+2] = wk2\n",
    "    all_wk_between2[i+2] = wk_between2\n",
    "\n",
    "wk_df = pd.DataFrame()\n",
    "wk_df['no_cluster'] = all_wk_complete.keys()\n",
    "wk_df['dissimilarity_within_complete'] = all_wk_within1.values()\n",
    "wk_df['dissimilarity_between_complete'] = all_wk_between1.values()\n",
    "wk_df['dissimilarity_within_average'] = all_wk_within2.values()\n",
    "wk_df['dissimilarity_between_average'] = all_wk_between2.values()\n",
    "\n",
    "plt.figure(figsize=(12, 4))\n",
    "#sns.palplot(sns.color_palette(\"hls\",8))\n",
    "plt.subplot(121)\n",
    "sns.scatterplot(x='dissimilarity_within_complete', y='dissimilarity_between_complete', hue='no_cluster', data=wk_df, palette=sns.color_palette(\"Paired\", 10) )\n",
    "plt.title('complete')\n",
    "plt.subplot(122)\n",
    "sns.scatterplot(x='dissimilarity_within_average', y='dissimilarity_between_average', hue='no_cluster', data=wk_df, palette=sns.color_palette(\"Paired\", 10))\n",
    "plt.title('average')\n"
   ]
  },
  {
   "cell_type": "markdown",
   "metadata": {},
   "source": [
    "The points at the left upper are the mostly wanted, as they have low within similarity and high between dissimilarity"
   ]
  },
  {
   "cell_type": "markdown",
   "metadata": {},
   "source": [
    "#### Check the distributions of maps"
   ]
  },
  {
   "cell_type": "code",
   "execution_count": 22,
   "metadata": {},
   "outputs": [],
   "source": [
    "clustering = AgglomerativeClustering(n_clusters=3,affinity='precomputed', linkage='complete').fit(distance)\n",
    "\n",
    "wk = within_dissimilarity(distance, clustering)\n",
    "wk_between = between_dissimilarity(distance, clustering)"
   ]
  },
  {
   "cell_type": "code",
   "execution_count": 23,
   "metadata": {},
   "outputs": [
    {
     "data": {
      "text/plain": [
       "(array([0, 1, 2], dtype=int64), array([1029,  297,  674], dtype=int64))"
      ]
     },
     "execution_count": 23,
     "metadata": {},
     "output_type": "execute_result"
    }
   ],
   "source": [
    "np.unique(clustering.labels_, return_counts=True)"
   ]
  },
  {
   "cell_type": "code",
   "execution_count": 94,
   "metadata": {},
   "outputs": [
    {
     "data": {
      "text/plain": [
       "0.05794191707034537"
      ]
     },
     "execution_count": 94,
     "metadata": {},
     "output_type": "execute_result"
    }
   ],
   "source": [
    "wk"
   ]
  },
  {
   "cell_type": "code",
   "execution_count": 95,
   "metadata": {},
   "outputs": [
    {
     "data": {
      "text/plain": [
       "0.06053136775667478"
      ]
     },
     "execution_count": 95,
     "metadata": {},
     "output_type": "execute_result"
    }
   ],
   "source": [
    "wk_between"
   ]
  },
  {
   "cell_type": "code",
   "execution_count": 9,
   "metadata": {},
   "outputs": [],
   "source": [
    "clustering = AgglomerativeClustering(n_clusters=3, affinity='precomputed', linkage='average').fit(distance)\n",
    "wk = within_dissimilarity(distance, clustering)\n",
    "wk_between = between_dissimilarity(distance, clustering)"
   ]
  },
  {
   "cell_type": "code",
   "execution_count": 10,
   "metadata": {},
   "outputs": [
    {
     "data": {
      "text/plain": [
       "(array([0, 1, 2], dtype=int64), array([1994,    5,    1], dtype=int64))"
      ]
     },
     "execution_count": 10,
     "metadata": {},
     "output_type": "execute_result"
    }
   ],
   "source": [
    "np.unique(clustering.labels_, return_counts=True)"
   ]
  },
  {
   "cell_type": "code",
   "execution_count": 26,
   "metadata": {},
   "outputs": [
    {
     "data": {
      "text/plain": [
       "0.03543079347022159"
      ]
     },
     "execution_count": 26,
     "metadata": {},
     "output_type": "execute_result"
    }
   ],
   "source": [
    "wk"
   ]
  },
  {
   "cell_type": "code",
   "execution_count": 27,
   "metadata": {},
   "outputs": [
    {
     "data": {
      "text/plain": [
       "0.06323736422412574"
      ]
     },
     "execution_count": 27,
     "metadata": {},
     "output_type": "execute_result"
    }
   ],
   "source": [
    "wk_between"
   ]
  },
  {
   "cell_type": "code",
   "execution_count": 144,
   "metadata": {},
   "outputs": [],
   "source": [
    "cluster2 = kappa_df[clustering.labels_==1] \n",
    "cluster3 = kappa_df[clustering.labels_==2]"
   ]
  },
  {
   "cell_type": "code",
   "execution_count": 145,
   "metadata": {},
   "outputs": [
    {
     "data": {
      "text/html": [
       "<div>\n",
       "<style scoped>\n",
       "    .dataframe tbody tr th:only-of-type {\n",
       "        vertical-align: middle;\n",
       "    }\n",
       "\n",
       "    .dataframe tbody tr th {\n",
       "        vertical-align: top;\n",
       "    }\n",
       "\n",
       "    .dataframe thead th {\n",
       "        text-align: right;\n",
       "    }\n",
       "</style>\n",
       "<table border=\"1\" class=\"dataframe\">\n",
       "  <thead>\n",
       "    <tr style=\"text-align: right;\">\n",
       "      <th></th>\n",
       "      <th>0</th>\n",
       "      <th>1</th>\n",
       "      <th>2</th>\n",
       "      <th>3</th>\n",
       "      <th>4</th>\n",
       "      <th>5</th>\n",
       "      <th>6</th>\n",
       "      <th>7</th>\n",
       "      <th>8</th>\n",
       "      <th>9</th>\n",
       "      <th>...</th>\n",
       "      <th>1990</th>\n",
       "      <th>1991</th>\n",
       "      <th>1992</th>\n",
       "      <th>1993</th>\n",
       "      <th>1994</th>\n",
       "      <th>1995</th>\n",
       "      <th>1996</th>\n",
       "      <th>1997</th>\n",
       "      <th>1998</th>\n",
       "      <th>1999</th>\n",
       "    </tr>\n",
       "  </thead>\n",
       "  <tbody>\n",
       "    <tr>\n",
       "      <th>178</th>\n",
       "      <td>0.939972</td>\n",
       "      <td>0.937019</td>\n",
       "      <td>0.940916</td>\n",
       "      <td>0.932683</td>\n",
       "      <td>0.941200</td>\n",
       "      <td>0.933680</td>\n",
       "      <td>0.936766</td>\n",
       "      <td>0.934860</td>\n",
       "      <td>0.938673</td>\n",
       "      <td>0.937657</td>\n",
       "      <td>...</td>\n",
       "      <td>0.937891</td>\n",
       "      <td>0.941104</td>\n",
       "      <td>0.937814</td>\n",
       "      <td>0.940292</td>\n",
       "      <td>0.931037</td>\n",
       "      <td>0.933427</td>\n",
       "      <td>0.939147</td>\n",
       "      <td>0.939204</td>\n",
       "      <td>0.938338</td>\n",
       "      <td>0.936547</td>\n",
       "    </tr>\n",
       "    <tr>\n",
       "      <th>1195</th>\n",
       "      <td>0.942067</td>\n",
       "      <td>0.940078</td>\n",
       "      <td>0.939501</td>\n",
       "      <td>0.935868</td>\n",
       "      <td>0.941465</td>\n",
       "      <td>0.936019</td>\n",
       "      <td>0.938133</td>\n",
       "      <td>0.937469</td>\n",
       "      <td>0.937696</td>\n",
       "      <td>0.936486</td>\n",
       "      <td>...</td>\n",
       "      <td>0.937205</td>\n",
       "      <td>0.939148</td>\n",
       "      <td>0.939653</td>\n",
       "      <td>0.940855</td>\n",
       "      <td>0.934791</td>\n",
       "      <td>0.935384</td>\n",
       "      <td>0.938884</td>\n",
       "      <td>0.940446</td>\n",
       "      <td>0.940995</td>\n",
       "      <td>0.936374</td>\n",
       "    </tr>\n",
       "    <tr>\n",
       "      <th>1366</th>\n",
       "      <td>0.942058</td>\n",
       "      <td>0.939133</td>\n",
       "      <td>0.937016</td>\n",
       "      <td>0.930462</td>\n",
       "      <td>0.944341</td>\n",
       "      <td>0.932694</td>\n",
       "      <td>0.934760</td>\n",
       "      <td>0.930822</td>\n",
       "      <td>0.940392</td>\n",
       "      <td>0.937926</td>\n",
       "      <td>...</td>\n",
       "      <td>0.936530</td>\n",
       "      <td>0.937600</td>\n",
       "      <td>0.941330</td>\n",
       "      <td>0.938723</td>\n",
       "      <td>0.929156</td>\n",
       "      <td>0.932891</td>\n",
       "      <td>0.936892</td>\n",
       "      <td>0.942719</td>\n",
       "      <td>0.940806</td>\n",
       "      <td>0.930885</td>\n",
       "    </tr>\n",
       "    <tr>\n",
       "      <th>1467</th>\n",
       "      <td>0.940688</td>\n",
       "      <td>0.940225</td>\n",
       "      <td>0.936929</td>\n",
       "      <td>0.934093</td>\n",
       "      <td>0.941757</td>\n",
       "      <td>0.935313</td>\n",
       "      <td>0.935832</td>\n",
       "      <td>0.933011</td>\n",
       "      <td>0.943079</td>\n",
       "      <td>0.934379</td>\n",
       "      <td>...</td>\n",
       "      <td>0.934924</td>\n",
       "      <td>0.937735</td>\n",
       "      <td>0.940327</td>\n",
       "      <td>0.939469</td>\n",
       "      <td>0.929278</td>\n",
       "      <td>0.931848</td>\n",
       "      <td>0.937048</td>\n",
       "      <td>0.941516</td>\n",
       "      <td>0.941225</td>\n",
       "      <td>0.934995</td>\n",
       "    </tr>\n",
       "    <tr>\n",
       "      <th>1649</th>\n",
       "      <td>0.939757</td>\n",
       "      <td>0.939793</td>\n",
       "      <td>0.937032</td>\n",
       "      <td>0.935063</td>\n",
       "      <td>0.941242</td>\n",
       "      <td>0.936344</td>\n",
       "      <td>0.937717</td>\n",
       "      <td>0.937427</td>\n",
       "      <td>0.937987</td>\n",
       "      <td>0.936888</td>\n",
       "      <td>...</td>\n",
       "      <td>0.939313</td>\n",
       "      <td>0.936762</td>\n",
       "      <td>0.939049</td>\n",
       "      <td>0.938316</td>\n",
       "      <td>0.934853</td>\n",
       "      <td>0.937825</td>\n",
       "      <td>0.938357</td>\n",
       "      <td>0.940217</td>\n",
       "      <td>0.939080</td>\n",
       "      <td>0.933405</td>\n",
       "    </tr>\n",
       "  </tbody>\n",
       "</table>\n",
       "<p>5 rows × 2000 columns</p>\n",
       "</div>"
      ],
      "text/plain": [
       "             0         1         2         3         4         5         6  \\\n",
       "178   0.939972  0.937019  0.940916  0.932683  0.941200  0.933680  0.936766   \n",
       "1195  0.942067  0.940078  0.939501  0.935868  0.941465  0.936019  0.938133   \n",
       "1366  0.942058  0.939133  0.937016  0.930462  0.944341  0.932694  0.934760   \n",
       "1467  0.940688  0.940225  0.936929  0.934093  0.941757  0.935313  0.935832   \n",
       "1649  0.939757  0.939793  0.937032  0.935063  0.941242  0.936344  0.937717   \n",
       "\n",
       "             7         8         9  ...      1990      1991      1992  \\\n",
       "178   0.934860  0.938673  0.937657  ...  0.937891  0.941104  0.937814   \n",
       "1195  0.937469  0.937696  0.936486  ...  0.937205  0.939148  0.939653   \n",
       "1366  0.930822  0.940392  0.937926  ...  0.936530  0.937600  0.941330   \n",
       "1467  0.933011  0.943079  0.934379  ...  0.934924  0.937735  0.940327   \n",
       "1649  0.937427  0.937987  0.936888  ...  0.939313  0.936762  0.939049   \n",
       "\n",
       "          1993      1994      1995      1996      1997      1998      1999  \n",
       "178   0.940292  0.931037  0.933427  0.939147  0.939204  0.938338  0.936547  \n",
       "1195  0.940855  0.934791  0.935384  0.938884  0.940446  0.940995  0.936374  \n",
       "1366  0.938723  0.929156  0.932891  0.936892  0.942719  0.940806  0.930885  \n",
       "1467  0.939469  0.929278  0.931848  0.937048  0.941516  0.941225  0.934995  \n",
       "1649  0.938316  0.934853  0.937825  0.938357  0.940217  0.939080  0.933405  \n",
       "\n",
       "[5 rows x 2000 columns]"
      ]
     },
     "execution_count": 145,
     "metadata": {},
     "output_type": "execute_result"
    }
   ],
   "source": [
    "cluster2"
   ]
  },
  {
   "cell_type": "code",
   "execution_count": 146,
   "metadata": {},
   "outputs": [
    {
     "data": {
      "text/html": [
       "<div>\n",
       "<style scoped>\n",
       "    .dataframe tbody tr th:only-of-type {\n",
       "        vertical-align: middle;\n",
       "    }\n",
       "\n",
       "    .dataframe tbody tr th {\n",
       "        vertical-align: top;\n",
       "    }\n",
       "\n",
       "    .dataframe thead th {\n",
       "        text-align: right;\n",
       "    }\n",
       "</style>\n",
       "<table border=\"1\" class=\"dataframe\">\n",
       "  <thead>\n",
       "    <tr style=\"text-align: right;\">\n",
       "      <th></th>\n",
       "      <th>0</th>\n",
       "      <th>1</th>\n",
       "      <th>2</th>\n",
       "      <th>3</th>\n",
       "      <th>4</th>\n",
       "      <th>5</th>\n",
       "      <th>6</th>\n",
       "      <th>7</th>\n",
       "      <th>8</th>\n",
       "      <th>9</th>\n",
       "      <th>...</th>\n",
       "      <th>1990</th>\n",
       "      <th>1991</th>\n",
       "      <th>1992</th>\n",
       "      <th>1993</th>\n",
       "      <th>1994</th>\n",
       "      <th>1995</th>\n",
       "      <th>1996</th>\n",
       "      <th>1997</th>\n",
       "      <th>1998</th>\n",
       "      <th>1999</th>\n",
       "    </tr>\n",
       "  </thead>\n",
       "  <tbody>\n",
       "    <tr>\n",
       "      <th>1737</th>\n",
       "      <td>0.940826</td>\n",
       "      <td>0.940301</td>\n",
       "      <td>0.939141</td>\n",
       "      <td>0.937928</td>\n",
       "      <td>0.940085</td>\n",
       "      <td>0.936262</td>\n",
       "      <td>0.933265</td>\n",
       "      <td>0.935091</td>\n",
       "      <td>0.942239</td>\n",
       "      <td>0.933934</td>\n",
       "      <td>...</td>\n",
       "      <td>0.927925</td>\n",
       "      <td>0.939378</td>\n",
       "      <td>0.937205</td>\n",
       "      <td>0.938109</td>\n",
       "      <td>0.933286</td>\n",
       "      <td>0.930918</td>\n",
       "      <td>0.933766</td>\n",
       "      <td>0.941425</td>\n",
       "      <td>0.942133</td>\n",
       "      <td>0.935112</td>\n",
       "    </tr>\n",
       "  </tbody>\n",
       "</table>\n",
       "<p>1 rows × 2000 columns</p>\n",
       "</div>"
      ],
      "text/plain": [
       "             0         1         2         3         4         5         6  \\\n",
       "1737  0.940826  0.940301  0.939141  0.937928  0.940085  0.936262  0.933265   \n",
       "\n",
       "             7         8         9  ...      1990      1991      1992  \\\n",
       "1737  0.935091  0.942239  0.933934  ...  0.927925  0.939378  0.937205   \n",
       "\n",
       "          1993      1994      1995      1996      1997      1998      1999  \n",
       "1737  0.938109  0.933286  0.930918  0.933766  0.941425  0.942133  0.935112  \n",
       "\n",
       "[1 rows x 2000 columns]"
      ]
     },
     "execution_count": 146,
     "metadata": {},
     "output_type": "execute_result"
    }
   ],
   "source": [
    "cluster3"
   ]
  },
  {
   "cell_type": "markdown",
   "metadata": {},
   "source": [
    "Although the similarity within the cluster and the dissimilarity between the clusters are good, the distribution of the number of the maps are skewed"
   ]
  },
  {
   "cell_type": "markdown",
   "metadata": {},
   "source": [
    "- Remove outlier and cluster again"
   ]
  },
  {
   "cell_type": "code",
   "execution_count": 11,
   "metadata": {},
   "outputs": [],
   "source": [
    "distance_new = distance[clustering.labels_==0].T[clustering.labels_==0] \n",
    "\n",
    "clustering_new = AgglomerativeClustering(n_clusters=3, affinity='precomputed', linkage='average').fit(distance_new)\n",
    "wk_new = within_dissimilarity(distance_new, clustering_new)\n",
    "wk_between_new = between_dissimilarity(distance_new, clustering_new)"
   ]
  },
  {
   "cell_type": "code",
   "execution_count": 12,
   "metadata": {},
   "outputs": [
    {
     "data": {
      "text/plain": [
       "(array([0, 1, 2], dtype=int64), array([1564,  428,    2], dtype=int64))"
      ]
     },
     "execution_count": 12,
     "metadata": {},
     "output_type": "execute_result"
    }
   ],
   "source": [
    "np.unique(clustering_new.labels_, return_counts=True)"
   ]
  },
  {
   "cell_type": "code",
   "execution_count": 92,
   "metadata": {},
   "outputs": [
    {
     "data": {
      "text/plain": [
       "0.04702577584892034"
      ]
     },
     "execution_count": 92,
     "metadata": {},
     "output_type": "execute_result"
    }
   ],
   "source": [
    "wk_new"
   ]
  },
  {
   "cell_type": "code",
   "execution_count": 93,
   "metadata": {},
   "outputs": [
    {
     "data": {
      "text/plain": [
       "0.06120843449552171"
      ]
     },
     "execution_count": 93,
     "metadata": {},
     "output_type": "execute_result"
    }
   ],
   "source": [
    "wk_between_new"
   ]
  },
  {
   "cell_type": "code",
   "execution_count": 149,
   "metadata": {},
   "outputs": [],
   "source": [
    "cluster3 = distance_new[clustering_new.labels_==2]"
   ]
  },
  {
   "cell_type": "code",
   "execution_count": 150,
   "metadata": {},
   "outputs": [
    {
     "data": {
      "text/html": [
       "<div>\n",
       "<style scoped>\n",
       "    .dataframe tbody tr th:only-of-type {\n",
       "        vertical-align: middle;\n",
       "    }\n",
       "\n",
       "    .dataframe tbody tr th {\n",
       "        vertical-align: top;\n",
       "    }\n",
       "\n",
       "    .dataframe thead th {\n",
       "        text-align: right;\n",
       "    }\n",
       "</style>\n",
       "<table border=\"1\" class=\"dataframe\">\n",
       "  <thead>\n",
       "    <tr style=\"text-align: right;\">\n",
       "      <th></th>\n",
       "      <th>0</th>\n",
       "      <th>1</th>\n",
       "      <th>2</th>\n",
       "      <th>3</th>\n",
       "      <th>4</th>\n",
       "      <th>5</th>\n",
       "      <th>6</th>\n",
       "      <th>7</th>\n",
       "      <th>8</th>\n",
       "      <th>9</th>\n",
       "      <th>...</th>\n",
       "      <th>1990</th>\n",
       "      <th>1991</th>\n",
       "      <th>1992</th>\n",
       "      <th>1993</th>\n",
       "      <th>1994</th>\n",
       "      <th>1995</th>\n",
       "      <th>1996</th>\n",
       "      <th>1997</th>\n",
       "      <th>1998</th>\n",
       "      <th>1999</th>\n",
       "    </tr>\n",
       "  </thead>\n",
       "  <tbody>\n",
       "    <tr>\n",
       "      <th>577</th>\n",
       "      <td>0.065849</td>\n",
       "      <td>0.064189</td>\n",
       "      <td>0.060708</td>\n",
       "      <td>0.057017</td>\n",
       "      <td>0.068720</td>\n",
       "      <td>0.061569</td>\n",
       "      <td>0.060848</td>\n",
       "      <td>0.056928</td>\n",
       "      <td>0.067279</td>\n",
       "      <td>0.058876</td>\n",
       "      <td>...</td>\n",
       "      <td>0.06673</td>\n",
       "      <td>0.061200</td>\n",
       "      <td>0.068915</td>\n",
       "      <td>0.066451</td>\n",
       "      <td>0.059273</td>\n",
       "      <td>0.061871</td>\n",
       "      <td>0.061207</td>\n",
       "      <td>0.067379</td>\n",
       "      <td>0.066255</td>\n",
       "      <td>0.056566</td>\n",
       "    </tr>\n",
       "    <tr>\n",
       "      <th>1584</th>\n",
       "      <td>0.057388</td>\n",
       "      <td>0.056845</td>\n",
       "      <td>0.060800</td>\n",
       "      <td>0.064122</td>\n",
       "      <td>0.056638</td>\n",
       "      <td>0.061418</td>\n",
       "      <td>0.058138</td>\n",
       "      <td>0.063325</td>\n",
       "      <td>0.059783</td>\n",
       "      <td>0.062713</td>\n",
       "      <td>...</td>\n",
       "      <td>0.05983</td>\n",
       "      <td>0.062763</td>\n",
       "      <td>0.053580</td>\n",
       "      <td>0.059669</td>\n",
       "      <td>0.064838</td>\n",
       "      <td>0.058273</td>\n",
       "      <td>0.058476</td>\n",
       "      <td>0.058052</td>\n",
       "      <td>0.058231</td>\n",
       "      <td>0.065627</td>\n",
       "    </tr>\n",
       "  </tbody>\n",
       "</table>\n",
       "<p>2 rows × 1994 columns</p>\n",
       "</div>"
      ],
      "text/plain": [
       "          0         1         2         3         4         5         6     \\\n",
       "577   0.065849  0.064189  0.060708  0.057017  0.068720  0.061569  0.060848   \n",
       "1584  0.057388  0.056845  0.060800  0.064122  0.056638  0.061418  0.058138   \n",
       "\n",
       "          7         8         9     ...     1990      1991      1992  \\\n",
       "577   0.056928  0.067279  0.058876  ...  0.06673  0.061200  0.068915   \n",
       "1584  0.063325  0.059783  0.062713  ...  0.05983  0.062763  0.053580   \n",
       "\n",
       "          1993      1994      1995      1996      1997      1998      1999  \n",
       "577   0.066451  0.059273  0.061871  0.061207  0.067379  0.066255  0.056566  \n",
       "1584  0.059669  0.064838  0.058273  0.058476  0.058052  0.058231  0.065627  \n",
       "\n",
       "[2 rows x 1994 columns]"
      ]
     },
     "execution_count": 150,
     "metadata": {},
     "output_type": "execute_result"
    }
   ],
   "source": [
    "cluster3"
   ]
  },
  {
   "cell_type": "markdown",
   "metadata": {},
   "source": [
    "- Remove outlier again and cluster again"
   ]
  },
  {
   "cell_type": "code",
   "execution_count": 13,
   "metadata": {},
   "outputs": [],
   "source": [
    "distance_new1 = distance_new[clustering_new.labels_!=2].T[clustering_new.labels_!=2] \n",
    "\n",
    "clustering_new1 = AgglomerativeClustering(n_clusters=3, affinity='precomputed', linkage='average').fit(distance_new1)\n",
    "wk_new1 = within_dissimilarity(distance_new1, clustering_new1)\n",
    "wk_between_new1 = between_dissimilarity(distance_new1, clustering_new1)"
   ]
  },
  {
   "cell_type": "code",
   "execution_count": 41,
   "metadata": {},
   "outputs": [
    {
     "data": {
      "text/plain": [
       "(array([0, 1, 2], dtype=int64), array([962, 428, 602], dtype=int64))"
      ]
     },
     "execution_count": 41,
     "metadata": {},
     "output_type": "execute_result"
    }
   ],
   "source": [
    "np.unique(clustering_new1.labels_, return_counts=True)"
   ]
  },
  {
   "cell_type": "code",
   "execution_count": 42,
   "metadata": {},
   "outputs": [
    {
     "data": {
      "text/plain": [
       "0.058017640297257485"
      ]
     },
     "execution_count": 42,
     "metadata": {},
     "output_type": "execute_result"
    }
   ],
   "source": [
    "wk_new1"
   ]
  },
  {
   "cell_type": "code",
   "execution_count": 43,
   "metadata": {},
   "outputs": [
    {
     "data": {
      "text/plain": [
       "0.060469189408127955"
      ]
     },
     "execution_count": 43,
     "metadata": {},
     "output_type": "execute_result"
    }
   ],
   "source": [
    "wk_between_new1"
   ]
  },
  {
   "cell_type": "markdown",
   "metadata": {},
   "source": [
    "The within similarity is improved, but the between dissimilarity is lowered compared to the \"complete\" method, so check the \"average\" method for the cleaned dataset and compare with the \"complete\" method."
   ]
  },
  {
   "cell_type": "code",
   "execution_count": 135,
   "metadata": {},
   "outputs": [],
   "source": [
    "import seaborn as sns\n",
    "import matplotlib.pyplot as plt\n",
    "%matplotlib inline"
   ]
  },
  {
   "cell_type": "code",
   "execution_count": 46,
   "metadata": {},
   "outputs": [
    {
     "data": {
      "text/plain": [
       "<AxesSubplot:xlabel='no_cluster'>"
      ]
     },
     "execution_count": 46,
     "metadata": {},
     "output_type": "execute_result"
    },
    {
     "data": {
      "image/png": "[encoded data removed]",
      "text/plain": [
       "<Figure size 432x288 with 1 Axes>"
      ]
     },
     "metadata": {
      "needs_background": "light"
     },
     "output_type": "display_data"
    }
   ],
   "source": [
    "all_within_dissimilarity1 = {}\n",
    "all_between_dissimilarity1 = {}\n",
    "all_within_dissimilarity2 = {}\n",
    "all_between_dissimilarity2 = {}\n",
    "\n",
    "\n",
    "for i in range(10):   \n",
    "    clustering_new1 = AgglomerativeClustering(n_clusters=i+2, affinity='precomputed', linkage='average').fit(distance_new1)\n",
    "    labels = clustering_new1.labels_\n",
    "    wk = within_dissimilarity(distance_new1, clustering_new1)\n",
    "    wk2 = between_dissimilarity(distance_new1, clustering_new1)\n",
    "    all_within_dissimilarity1[i+2] = wk\n",
    "    all_between_dissimilarity1[i+2] = wk2\n",
    "\n",
    "for i in range(10):   \n",
    "    clustering_new2 = AgglomerativeClustering(n_clusters=i+2, affinity='precomputed', linkage='complete').fit(distance)\n",
    "    labels = clustering_new2.labels_\n",
    "    wk1 = within_dissimilarity(distance, clustering_new2)\n",
    "    wk21 = between_dissimilarity(distance, clustering_new2)\n",
    "    all_within_dissimilarity2[i+2] = wk1\n",
    "    all_between_dissimilarity2[i+2] = wk21\n",
    "\n",
    "\n",
    "wk_df = pd.DataFrame()\n",
    "wk_df['no_cluster'] = all_within_dissimilarity1.keys()\n",
    "wk_df['within_dissimilarity_complete'] = all_within_dissimilarity2.values()\n",
    "wk_df['between_dissimilarity_complete'] = all_between_dissimilarity2.values()\n",
    "wk_df['within_dissimilarity_average'] = all_within_dissimilarity1.values()\n",
    "wk_df['between_dissimilarity_average'] = all_between_dissimilarity1.values()\n",
    "\n",
    "\n",
    "  \n",
    "wk_df.plot(x='no_cluster', y=['within_dissimilarity_complete', 'between_dissimilarity_complete',\n",
    "                              'within_dissimilarity_average', 'between_dissimilarity_average' ], style='.-')"
   ]
  },
  {
   "cell_type": "markdown",
   "metadata": {},
   "source": [
    "The average linkage methods (aftering removing the outliers) perfoms worse than the complete method"
   ]
  },
  {
   "cell_type": "markdown",
   "metadata": {},
   "source": [
    "#### Prepare the datesets"
   ]
  },
  {
   "cell_type": "code",
   "execution_count": 44,
   "metadata": {},
   "outputs": [
    {
     "name": "stderr",
     "output_type": "stream",
     "text": [
      "[MainProcess/INFO] results loaded succesfully from C:\\Users\\teres\\Documents\\MasterThesis\\Final_Run_EMA\\Model_2015_2050\\exp_1400_new.tar.gz\n",
      "[MainProcess/INFO] results loaded succesfully from C:\\Users\\teres\\Documents\\MasterThesis\\Final_Run_EMA\\Model_2015_2050\\exp_new_600.tar.gz\n"
     ]
    }
   ],
   "source": [
    "from ema_workbench.util.utilities import load_results\n",
    "\n",
    "results_1= load_results('exp_1400_new.tar.gz')\n",
    "experiments_1, outcomes_1 = results_1\n",
    "\n",
    "results_2= load_results('exp_new_600.tar.gz')\n",
    "experiments_2, outcomes_2 = results_2\n",
    "\n",
    "experiments = pd.concat([experiments_1,experiments_2])\n",
    "\n",
    "ooi = outcomes_1['lu_map'].astype(int)\n",
    "\n",
    "ooi = np.vstack((ooi, outcomes_2['lu_map'].astype(int)))"
   ]
  },
  {
   "cell_type": "markdown",
   "metadata": {},
   "source": [
    "### Analysis: Representative map of each cluster"
   ]
  },
  {
   "cell_type": "markdown",
   "metadata": {},
   "source": [
    "#### Distribution 1"
   ]
  },
  {
   "cell_type": "markdown",
   "metadata": {},
   "source": [
    "- Cluster 1"
   ]
  },
  {
   "cell_type": "code",
   "execution_count": 45,
   "metadata": {},
   "outputs": [],
   "source": [
    "import numpy as np\n",
    "from scipy.spatial.distance import pdist, squareform"
   ]
  },
  {
   "cell_type": "code",
   "execution_count": 54,
   "metadata": {},
   "outputs": [],
   "source": [
    "clustering = AgglomerativeClustering(n_clusters=3,affinity='precomputed', linkage='complete').fit(distance)"
   ]
  },
  {
   "cell_type": "code",
   "execution_count": 55,
   "metadata": {},
   "outputs": [
    {
     "data": {
      "text/plain": [
       "(array([0, 1, 2], dtype=int64), array([1029,  297,  674], dtype=int64))"
      ]
     },
     "execution_count": 55,
     "metadata": {},
     "output_type": "execute_result"
    }
   ],
   "source": [
    "np.unique(clustering.labels_, return_counts=True)"
   ]
  },
  {
   "cell_type": "code",
   "execution_count": 47,
   "metadata": {},
   "outputs": [],
   "source": [
    "ooi_0 = kappa_df[clustering.labels_==0] \n",
    "ooi_01 = ooi_0.T\n",
    "cluster1 = ooi_01[clustering.labels_==0] \n",
    "cluster1 = cluster1.T # Kappa values for each pair comparison\n",
    "arr1 = cluster1.to_numpy()\n",
    "# To calculate the kappa index for each map \n",
    "cluster1['sum'] = cluster1.sum(axis=1)"
   ]
  },
  {
   "cell_type": "code",
   "execution_count": 48,
   "metadata": {},
   "outputs": [
    {
     "data": {
      "text/html": [
       "<div>\n",
       "<style scoped>\n",
       "    .dataframe tbody tr th:only-of-type {\n",
       "        vertical-align: middle;\n",
       "    }\n",
       "\n",
       "    .dataframe tbody tr th {\n",
       "        vertical-align: top;\n",
       "    }\n",
       "\n",
       "    .dataframe thead th {\n",
       "        text-align: right;\n",
       "    }\n",
       "</style>\n",
       "<table border=\"1\" class=\"dataframe\">\n",
       "  <thead>\n",
       "    <tr style=\"text-align: right;\">\n",
       "      <th></th>\n",
       "      <th>2</th>\n",
       "      <th>3</th>\n",
       "      <th>5</th>\n",
       "      <th>6</th>\n",
       "      <th>7</th>\n",
       "      <th>9</th>\n",
       "      <th>11</th>\n",
       "      <th>12</th>\n",
       "      <th>13</th>\n",
       "      <th>16</th>\n",
       "      <th>...</th>\n",
       "      <th>1978</th>\n",
       "      <th>1981</th>\n",
       "      <th>1987</th>\n",
       "      <th>1988</th>\n",
       "      <th>1989</th>\n",
       "      <th>1991</th>\n",
       "      <th>1994</th>\n",
       "      <th>1996</th>\n",
       "      <th>1999</th>\n",
       "      <th>sum</th>\n",
       "    </tr>\n",
       "  </thead>\n",
       "  <tbody>\n",
       "    <tr>\n",
       "      <th>1349</th>\n",
       "      <td>0.933814</td>\n",
       "      <td>0.935077</td>\n",
       "      <td>0.937753</td>\n",
       "      <td>0.938287</td>\n",
       "      <td>0.938261</td>\n",
       "      <td>0.939753</td>\n",
       "      <td>0.93739</td>\n",
       "      <td>0.936699</td>\n",
       "      <td>0.933885</td>\n",
       "      <td>0.93675</td>\n",
       "      <td>...</td>\n",
       "      <td>0.935667</td>\n",
       "      <td>0.932916</td>\n",
       "      <td>0.937109</td>\n",
       "      <td>0.932526</td>\n",
       "      <td>0.943642</td>\n",
       "      <td>0.934162</td>\n",
       "      <td>0.939481</td>\n",
       "      <td>0.9379</td>\n",
       "      <td>0.93643</td>\n",
       "      <td>964.193867</td>\n",
       "    </tr>\n",
       "  </tbody>\n",
       "</table>\n",
       "<p>1 rows × 1030 columns</p>\n",
       "</div>"
      ],
      "text/plain": [
       "             2         3         5         6         7         9       11  \\\n",
       "1349  0.933814  0.935077  0.937753  0.938287  0.938261  0.939753  0.93739   \n",
       "\n",
       "            12        13       16  ...      1978      1981      1987  \\\n",
       "1349  0.936699  0.933885  0.93675  ...  0.935667  0.932916  0.937109   \n",
       "\n",
       "          1988      1989      1991      1994    1996     1999         sum  \n",
       "1349  0.932526  0.943642  0.934162  0.939481  0.9379  0.93643  964.193867  \n",
       "\n",
       "[1 rows x 1030 columns]"
      ]
     },
     "execution_count": 48,
     "metadata": {},
     "output_type": "execute_result"
    }
   ],
   "source": [
    "cluster1[cluster1['sum']==cluster1['sum'].min()]"
   ]
  },
  {
   "cell_type": "code",
   "execution_count": 49,
   "metadata": {},
   "outputs": [
    {
     "data": {
      "text/html": [
       "<div>\n",
       "<style scoped>\n",
       "    .dataframe tbody tr th:only-of-type {\n",
       "        vertical-align: middle;\n",
       "    }\n",
       "\n",
       "    .dataframe tbody tr th {\n",
       "        vertical-align: top;\n",
       "    }\n",
       "\n",
       "    .dataframe thead th {\n",
       "        text-align: right;\n",
       "    }\n",
       "</style>\n",
       "<table border=\"1\" class=\"dataframe\">\n",
       "  <thead>\n",
       "    <tr style=\"text-align: right;\">\n",
       "      <th></th>\n",
       "      <th>2</th>\n",
       "      <th>3</th>\n",
       "      <th>5</th>\n",
       "      <th>6</th>\n",
       "      <th>7</th>\n",
       "      <th>9</th>\n",
       "      <th>11</th>\n",
       "      <th>12</th>\n",
       "      <th>13</th>\n",
       "      <th>16</th>\n",
       "      <th>...</th>\n",
       "      <th>1978</th>\n",
       "      <th>1981</th>\n",
       "      <th>1987</th>\n",
       "      <th>1988</th>\n",
       "      <th>1989</th>\n",
       "      <th>1991</th>\n",
       "      <th>1994</th>\n",
       "      <th>1996</th>\n",
       "      <th>1999</th>\n",
       "      <th>sum</th>\n",
       "    </tr>\n",
       "  </thead>\n",
       "  <tbody>\n",
       "    <tr>\n",
       "      <th>906</th>\n",
       "      <td>0.944486</td>\n",
       "      <td>0.947179</td>\n",
       "      <td>0.946484</td>\n",
       "      <td>0.941849</td>\n",
       "      <td>0.946984</td>\n",
       "      <td>0.943114</td>\n",
       "      <td>0.943858</td>\n",
       "      <td>0.943966</td>\n",
       "      <td>0.941832</td>\n",
       "      <td>0.94437</td>\n",
       "      <td>...</td>\n",
       "      <td>0.940804</td>\n",
       "      <td>0.942229</td>\n",
       "      <td>0.946561</td>\n",
       "      <td>0.945078</td>\n",
       "      <td>0.945442</td>\n",
       "      <td>0.944855</td>\n",
       "      <td>0.944229</td>\n",
       "      <td>0.941622</td>\n",
       "      <td>0.947976</td>\n",
       "      <td>972.153031</td>\n",
       "    </tr>\n",
       "  </tbody>\n",
       "</table>\n",
       "<p>1 rows × 1030 columns</p>\n",
       "</div>"
      ],
      "text/plain": [
       "            2         3         5         6         7         9        11  \\\n",
       "906  0.944486  0.947179  0.946484  0.941849  0.946984  0.943114  0.943858   \n",
       "\n",
       "           12        13       16  ...      1978      1981      1987      1988  \\\n",
       "906  0.943966  0.941832  0.94437  ...  0.940804  0.942229  0.946561  0.945078   \n",
       "\n",
       "         1989      1991      1994      1996      1999         sum  \n",
       "906  0.945442  0.944855  0.944229  0.941622  0.947976  972.153031  \n",
       "\n",
       "[1 rows x 1030 columns]"
      ]
     },
     "execution_count": 49,
     "metadata": {},
     "output_type": "execute_result"
    }
   ],
   "source": [
    "cluster1[cluster1['sum']==cluster1['sum'].max()]"
   ]
  },
  {
   "cell_type": "markdown",
   "metadata": {},
   "source": [
    "- Cluster 2"
   ]
  },
  {
   "cell_type": "code",
   "execution_count": 50,
   "metadata": {},
   "outputs": [],
   "source": [
    "ooi_1 = kappa_df[clustering.labels_==1]\n",
    "ooi_11 = ooi_1.T\n",
    "cluster2 = ooi_11[clustering.labels_==1]\n",
    "cluster2 = cluster2.T\n",
    "cluster2['sum'] = cluster2.sum(axis=1)"
   ]
  },
  {
   "cell_type": "code",
   "execution_count": 51,
   "metadata": {},
   "outputs": [
    {
     "data": {
      "text/html": [
       "<div>\n",
       "<style scoped>\n",
       "    .dataframe tbody tr th:only-of-type {\n",
       "        vertical-align: middle;\n",
       "    }\n",
       "\n",
       "    .dataframe tbody tr th {\n",
       "        vertical-align: top;\n",
       "    }\n",
       "\n",
       "    .dataframe thead th {\n",
       "        text-align: right;\n",
       "    }\n",
       "</style>\n",
       "<table border=\"1\" class=\"dataframe\">\n",
       "  <thead>\n",
       "    <tr style=\"text-align: right;\">\n",
       "      <th></th>\n",
       "      <th>14</th>\n",
       "      <th>15</th>\n",
       "      <th>26</th>\n",
       "      <th>32</th>\n",
       "      <th>49</th>\n",
       "      <th>51</th>\n",
       "      <th>53</th>\n",
       "      <th>60</th>\n",
       "      <th>65</th>\n",
       "      <th>83</th>\n",
       "      <th>...</th>\n",
       "      <th>1941</th>\n",
       "      <th>1943</th>\n",
       "      <th>1946</th>\n",
       "      <th>1947</th>\n",
       "      <th>1949</th>\n",
       "      <th>1954</th>\n",
       "      <th>1957</th>\n",
       "      <th>1984</th>\n",
       "      <th>1995</th>\n",
       "      <th>sum</th>\n",
       "    </tr>\n",
       "  </thead>\n",
       "  <tbody>\n",
       "    <tr>\n",
       "      <th>1382</th>\n",
       "      <td>0.941369</td>\n",
       "      <td>0.943658</td>\n",
       "      <td>0.942938</td>\n",
       "      <td>0.938157</td>\n",
       "      <td>0.933594</td>\n",
       "      <td>0.936782</td>\n",
       "      <td>0.933828</td>\n",
       "      <td>0.935804</td>\n",
       "      <td>0.937902</td>\n",
       "      <td>0.940545</td>\n",
       "      <td>...</td>\n",
       "      <td>0.935104</td>\n",
       "      <td>0.942507</td>\n",
       "      <td>0.939566</td>\n",
       "      <td>0.938608</td>\n",
       "      <td>0.945456</td>\n",
       "      <td>0.930478</td>\n",
       "      <td>0.943727</td>\n",
       "      <td>0.936395</td>\n",
       "      <td>0.934526</td>\n",
       "      <td>278.646972</td>\n",
       "    </tr>\n",
       "  </tbody>\n",
       "</table>\n",
       "<p>1 rows × 298 columns</p>\n",
       "</div>"
      ],
      "text/plain": [
       "            14        15        26        32        49        51        53  \\\n",
       "1382  0.941369  0.943658  0.942938  0.938157  0.933594  0.936782  0.933828   \n",
       "\n",
       "            60        65        83  ...      1941      1943      1946  \\\n",
       "1382  0.935804  0.937902  0.940545  ...  0.935104  0.942507  0.939566   \n",
       "\n",
       "          1947      1949      1954      1957      1984      1995         sum  \n",
       "1382  0.938608  0.945456  0.930478  0.943727  0.936395  0.934526  278.646972  \n",
       "\n",
       "[1 rows x 298 columns]"
      ]
     },
     "execution_count": 51,
     "metadata": {},
     "output_type": "execute_result"
    }
   ],
   "source": [
    "cluster2[cluster2['sum']==cluster2['sum'].min()]"
   ]
  },
  {
   "cell_type": "code",
   "execution_count": 52,
   "metadata": {},
   "outputs": [
    {
     "data": {
      "text/html": [
       "<div>\n",
       "<style scoped>\n",
       "    .dataframe tbody tr th:only-of-type {\n",
       "        vertical-align: middle;\n",
       "    }\n",
       "\n",
       "    .dataframe tbody tr th {\n",
       "        vertical-align: top;\n",
       "    }\n",
       "\n",
       "    .dataframe thead th {\n",
       "        text-align: right;\n",
       "    }\n",
       "</style>\n",
       "<table border=\"1\" class=\"dataframe\">\n",
       "  <thead>\n",
       "    <tr style=\"text-align: right;\">\n",
       "      <th></th>\n",
       "      <th>14</th>\n",
       "      <th>15</th>\n",
       "      <th>26</th>\n",
       "      <th>32</th>\n",
       "      <th>49</th>\n",
       "      <th>51</th>\n",
       "      <th>53</th>\n",
       "      <th>60</th>\n",
       "      <th>65</th>\n",
       "      <th>83</th>\n",
       "      <th>...</th>\n",
       "      <th>1941</th>\n",
       "      <th>1943</th>\n",
       "      <th>1946</th>\n",
       "      <th>1947</th>\n",
       "      <th>1949</th>\n",
       "      <th>1954</th>\n",
       "      <th>1957</th>\n",
       "      <th>1984</th>\n",
       "      <th>1995</th>\n",
       "      <th>sum</th>\n",
       "    </tr>\n",
       "  </thead>\n",
       "  <tbody>\n",
       "    <tr>\n",
       "      <th>335</th>\n",
       "      <td>0.942133</td>\n",
       "      <td>0.946302</td>\n",
       "      <td>0.941191</td>\n",
       "      <td>0.945928</td>\n",
       "      <td>0.944937</td>\n",
       "      <td>0.945822</td>\n",
       "      <td>0.94805</td>\n",
       "      <td>0.944248</td>\n",
       "      <td>0.947136</td>\n",
       "      <td>0.945825</td>\n",
       "      <td>...</td>\n",
       "      <td>0.947183</td>\n",
       "      <td>0.943729</td>\n",
       "      <td>0.946539</td>\n",
       "      <td>0.948945</td>\n",
       "      <td>0.939388</td>\n",
       "      <td>0.945928</td>\n",
       "      <td>0.942515</td>\n",
       "      <td>0.95</td>\n",
       "      <td>0.946409</td>\n",
       "      <td>280.707316</td>\n",
       "    </tr>\n",
       "  </tbody>\n",
       "</table>\n",
       "<p>1 rows × 298 columns</p>\n",
       "</div>"
      ],
      "text/plain": [
       "           14        15        26        32        49        51       53  \\\n",
       "335  0.942133  0.946302  0.941191  0.945928  0.944937  0.945822  0.94805   \n",
       "\n",
       "           60        65        83  ...      1941      1943      1946  \\\n",
       "335  0.944248  0.947136  0.945825  ...  0.947183  0.943729  0.946539   \n",
       "\n",
       "         1947      1949      1954      1957  1984      1995         sum  \n",
       "335  0.948945  0.939388  0.945928  0.942515  0.95  0.946409  280.707316  \n",
       "\n",
       "[1 rows x 298 columns]"
      ]
     },
     "execution_count": 52,
     "metadata": {},
     "output_type": "execute_result"
    }
   ],
   "source": [
    "cluster2[cluster2['sum']==cluster2['sum'].max()]"
   ]
  },
  {
   "cell_type": "markdown",
   "metadata": {},
   "source": [
    "- Cluster 3"
   ]
  },
  {
   "cell_type": "code",
   "execution_count": 56,
   "metadata": {},
   "outputs": [],
   "source": [
    "ooi_2 = kappa_df[clustering.labels_==2]\n",
    "ooi_21 = ooi_2.T\n",
    "cluster3 = ooi_21[clustering.labels_==2]\n",
    "cluster3 = cluster3.T\n",
    "cluster3['sum'] = cluster3.sum(axis=1)"
   ]
  },
  {
   "cell_type": "code",
   "execution_count": 57,
   "metadata": {},
   "outputs": [
    {
     "data": {
      "text/html": [
       "<div>\n",
       "<style scoped>\n",
       "    .dataframe tbody tr th:only-of-type {\n",
       "        vertical-align: middle;\n",
       "    }\n",
       "\n",
       "    .dataframe tbody tr th {\n",
       "        vertical-align: top;\n",
       "    }\n",
       "\n",
       "    .dataframe thead th {\n",
       "        text-align: right;\n",
       "    }\n",
       "</style>\n",
       "<table border=\"1\" class=\"dataframe\">\n",
       "  <thead>\n",
       "    <tr style=\"text-align: right;\">\n",
       "      <th></th>\n",
       "      <th>0</th>\n",
       "      <th>1</th>\n",
       "      <th>4</th>\n",
       "      <th>8</th>\n",
       "      <th>10</th>\n",
       "      <th>17</th>\n",
       "      <th>19</th>\n",
       "      <th>20</th>\n",
       "      <th>21</th>\n",
       "      <th>22</th>\n",
       "      <th>...</th>\n",
       "      <th>1982</th>\n",
       "      <th>1983</th>\n",
       "      <th>1985</th>\n",
       "      <th>1986</th>\n",
       "      <th>1990</th>\n",
       "      <th>1992</th>\n",
       "      <th>1993</th>\n",
       "      <th>1997</th>\n",
       "      <th>1998</th>\n",
       "      <th>sum</th>\n",
       "    </tr>\n",
       "  </thead>\n",
       "  <tbody>\n",
       "    <tr>\n",
       "      <th>531</th>\n",
       "      <td>0.935413</td>\n",
       "      <td>0.936261</td>\n",
       "      <td>0.938139</td>\n",
       "      <td>0.934413</td>\n",
       "      <td>0.93207</td>\n",
       "      <td>0.939563</td>\n",
       "      <td>0.939366</td>\n",
       "      <td>0.934728</td>\n",
       "      <td>0.93904</td>\n",
       "      <td>0.938695</td>\n",
       "      <td>...</td>\n",
       "      <td>0.939889</td>\n",
       "      <td>0.938008</td>\n",
       "      <td>0.934543</td>\n",
       "      <td>0.938604</td>\n",
       "      <td>0.944888</td>\n",
       "      <td>0.940879</td>\n",
       "      <td>0.939424</td>\n",
       "      <td>0.93529</td>\n",
       "      <td>0.935846</td>\n",
       "      <td>631.429227</td>\n",
       "    </tr>\n",
       "  </tbody>\n",
       "</table>\n",
       "<p>1 rows × 675 columns</p>\n",
       "</div>"
      ],
      "text/plain": [
       "            0         1         4         8       10        17        19  \\\n",
       "531  0.935413  0.936261  0.938139  0.934413  0.93207  0.939563  0.939366   \n",
       "\n",
       "           20       21        22  ...      1982      1983      1985      1986  \\\n",
       "531  0.934728  0.93904  0.938695  ...  0.939889  0.938008  0.934543  0.938604   \n",
       "\n",
       "         1990      1992      1993     1997      1998         sum  \n",
       "531  0.944888  0.940879  0.939424  0.93529  0.935846  631.429227  \n",
       "\n",
       "[1 rows x 675 columns]"
      ]
     },
     "execution_count": 57,
     "metadata": {},
     "output_type": "execute_result"
    }
   ],
   "source": [
    "cluster3[cluster3['sum']==cluster3['sum'].min()]"
   ]
  },
  {
   "cell_type": "code",
   "execution_count": 58,
   "metadata": {},
   "outputs": [
    {
     "data": {
      "text/html": [
       "<div>\n",
       "<style scoped>\n",
       "    .dataframe tbody tr th:only-of-type {\n",
       "        vertical-align: middle;\n",
       "    }\n",
       "\n",
       "    .dataframe tbody tr th {\n",
       "        vertical-align: top;\n",
       "    }\n",
       "\n",
       "    .dataframe thead th {\n",
       "        text-align: right;\n",
       "    }\n",
       "</style>\n",
       "<table border=\"1\" class=\"dataframe\">\n",
       "  <thead>\n",
       "    <tr style=\"text-align: right;\">\n",
       "      <th></th>\n",
       "      <th>0</th>\n",
       "      <th>1</th>\n",
       "      <th>4</th>\n",
       "      <th>8</th>\n",
       "      <th>10</th>\n",
       "      <th>17</th>\n",
       "      <th>19</th>\n",
       "      <th>20</th>\n",
       "      <th>21</th>\n",
       "      <th>22</th>\n",
       "      <th>...</th>\n",
       "      <th>1982</th>\n",
       "      <th>1983</th>\n",
       "      <th>1985</th>\n",
       "      <th>1986</th>\n",
       "      <th>1990</th>\n",
       "      <th>1992</th>\n",
       "      <th>1993</th>\n",
       "      <th>1997</th>\n",
       "      <th>1998</th>\n",
       "      <th>sum</th>\n",
       "    </tr>\n",
       "  </thead>\n",
       "  <tbody>\n",
       "    <tr>\n",
       "      <th>833</th>\n",
       "      <td>0.94699</td>\n",
       "      <td>0.948289</td>\n",
       "      <td>0.946276</td>\n",
       "      <td>0.944047</td>\n",
       "      <td>0.943273</td>\n",
       "      <td>0.94661</td>\n",
       "      <td>0.944091</td>\n",
       "      <td>0.944453</td>\n",
       "      <td>0.947225</td>\n",
       "      <td>0.945854</td>\n",
       "      <td>...</td>\n",
       "      <td>0.944183</td>\n",
       "      <td>0.943259</td>\n",
       "      <td>0.946529</td>\n",
       "      <td>0.948378</td>\n",
       "      <td>0.939409</td>\n",
       "      <td>0.946935</td>\n",
       "      <td>0.946055</td>\n",
       "      <td>0.945778</td>\n",
       "      <td>0.94727</td>\n",
       "      <td>636.945876</td>\n",
       "    </tr>\n",
       "  </tbody>\n",
       "</table>\n",
       "<p>1 rows × 675 columns</p>\n",
       "</div>"
      ],
      "text/plain": [
       "           0         1         4         8        10       17        19  \\\n",
       "833  0.94699  0.948289  0.946276  0.944047  0.943273  0.94661  0.944091   \n",
       "\n",
       "           20        21        22  ...      1982      1983      1985  \\\n",
       "833  0.944453  0.947225  0.945854  ...  0.944183  0.943259  0.946529   \n",
       "\n",
       "         1986      1990      1992      1993      1997     1998         sum  \n",
       "833  0.948378  0.939409  0.946935  0.946055  0.945778  0.94727  636.945876  \n",
       "\n",
       "[1 rows x 675 columns]"
      ]
     },
     "execution_count": 58,
     "metadata": {},
     "output_type": "execute_result"
    }
   ],
   "source": [
    "cluster3[cluster3['sum']==cluster3['sum'].max()]"
   ]
  },
  {
   "cell_type": "markdown",
   "metadata": {},
   "source": [
    "#### Distribution 2"
   ]
  },
  {
   "cell_type": "code",
   "execution_count": 14,
   "metadata": {},
   "outputs": [],
   "source": [
    "clustering = AgglomerativeClustering(n_clusters=3,affinity='precomputed', linkage='average').fit(distance_new1)"
   ]
  },
  {
   "cell_type": "code",
   "execution_count": 15,
   "metadata": {},
   "outputs": [
    {
     "data": {
      "text/plain": [
       "(array([0, 1, 2], dtype=int64), array([962, 428, 602], dtype=int64))"
      ]
     },
     "execution_count": 15,
     "metadata": {},
     "output_type": "execute_result"
    }
   ],
   "source": [
    "np.unique(clustering.labels_, return_counts=True)"
   ]
  },
  {
   "cell_type": "code",
   "execution_count": 57,
   "metadata": {},
   "outputs": [
    {
     "data": {
      "text/plain": [
       "0.036991334704445926"
      ]
     },
     "execution_count": 57,
     "metadata": {},
     "output_type": "execute_result"
    }
   ],
   "source": [
    "within_dissimilarity(distance_new1, clustering)"
   ]
  },
  {
   "cell_type": "code",
   "execution_count": 59,
   "metadata": {},
   "outputs": [
    {
     "data": {
      "text/plain": [
       "0.060651663699385766"
      ]
     },
     "execution_count": 59,
     "metadata": {},
     "output_type": "execute_result"
    }
   ],
   "source": [
    "between_dissimilarity(distance_new1, clustering)"
   ]
  },
  {
   "cell_type": "code",
   "execution_count": 18,
   "metadata": {},
   "outputs": [],
   "source": [
    "ooi_0 = distance_new1[clustering.labels_==0] \n",
    "ooi_01 = ooi_0.T\n",
    "cluster1 = ooi_01[clustering.labels_==0] \n",
    "cluster1 = cluster1.T # Kappa values for each pair comparison\n",
    "arr1 = cluster1.to_numpy()\n",
    "# To calculate the kappa index for each map \n",
    "cluster1['sum'] = cluster1.sum(axis=1)"
   ]
  },
  {
   "cell_type": "code",
   "execution_count": 62,
   "metadata": {},
   "outputs": [
    {
     "data": {
      "text/html": [
       "<div>\n",
       "<style scoped>\n",
       "    .dataframe tbody tr th:only-of-type {\n",
       "        vertical-align: middle;\n",
       "    }\n",
       "\n",
       "    .dataframe tbody tr th {\n",
       "        vertical-align: top;\n",
       "    }\n",
       "\n",
       "    .dataframe thead th {\n",
       "        text-align: right;\n",
       "    }\n",
       "</style>\n",
       "<table border=\"1\" class=\"dataframe\">\n",
       "  <thead>\n",
       "    <tr style=\"text-align: right;\">\n",
       "      <th></th>\n",
       "      <th>2</th>\n",
       "      <th>3</th>\n",
       "      <th>5</th>\n",
       "      <th>6</th>\n",
       "      <th>7</th>\n",
       "      <th>10</th>\n",
       "      <th>11</th>\n",
       "      <th>12</th>\n",
       "      <th>13</th>\n",
       "      <th>16</th>\n",
       "      <th>...</th>\n",
       "      <th>1981</th>\n",
       "      <th>1985</th>\n",
       "      <th>1987</th>\n",
       "      <th>1988</th>\n",
       "      <th>1989</th>\n",
       "      <th>1991</th>\n",
       "      <th>1994</th>\n",
       "      <th>1996</th>\n",
       "      <th>1999</th>\n",
       "      <th>sum</th>\n",
       "    </tr>\n",
       "  </thead>\n",
       "  <tbody>\n",
       "    <tr>\n",
       "      <th>906</th>\n",
       "      <td>0.055514</td>\n",
       "      <td>0.052821</td>\n",
       "      <td>0.053516</td>\n",
       "      <td>0.058151</td>\n",
       "      <td>0.053016</td>\n",
       "      <td>0.057809</td>\n",
       "      <td>0.056142</td>\n",
       "      <td>0.056034</td>\n",
       "      <td>0.058168</td>\n",
       "      <td>0.05563</td>\n",
       "      <td>...</td>\n",
       "      <td>0.057771</td>\n",
       "      <td>0.054858</td>\n",
       "      <td>0.053439</td>\n",
       "      <td>0.054922</td>\n",
       "      <td>0.054558</td>\n",
       "      <td>0.055145</td>\n",
       "      <td>0.055771</td>\n",
       "      <td>0.058378</td>\n",
       "      <td>0.052024</td>\n",
       "      <td>52.731768</td>\n",
       "    </tr>\n",
       "  </tbody>\n",
       "</table>\n",
       "<p>1 rows × 963 columns</p>\n",
       "</div>"
      ],
      "text/plain": [
       "            2         3         5         6         7        10        11  \\\n",
       "906  0.055514  0.052821  0.053516  0.058151  0.053016  0.057809  0.056142   \n",
       "\n",
       "           12        13       16  ...      1981      1985      1987      1988  \\\n",
       "906  0.056034  0.058168  0.05563  ...  0.057771  0.054858  0.053439  0.054922   \n",
       "\n",
       "         1989      1991      1994      1996      1999        sum  \n",
       "906  0.054558  0.055145  0.055771  0.058378  0.052024  52.731768  \n",
       "\n",
       "[1 rows x 963 columns]"
      ]
     },
     "execution_count": 62,
     "metadata": {},
     "output_type": "execute_result"
    }
   ],
   "source": [
    "cluster1[cluster1['sum']==cluster1['sum'].min()]"
   ]
  },
  {
   "cell_type": "code",
   "execution_count": 63,
   "metadata": {},
   "outputs": [
    {
     "data": {
      "text/html": [
       "<div>\n",
       "<style scoped>\n",
       "    .dataframe tbody tr th:only-of-type {\n",
       "        vertical-align: middle;\n",
       "    }\n",
       "\n",
       "    .dataframe tbody tr th {\n",
       "        vertical-align: top;\n",
       "    }\n",
       "\n",
       "    .dataframe thead th {\n",
       "        text-align: right;\n",
       "    }\n",
       "</style>\n",
       "<table border=\"1\" class=\"dataframe\">\n",
       "  <thead>\n",
       "    <tr style=\"text-align: right;\">\n",
       "      <th></th>\n",
       "      <th>2</th>\n",
       "      <th>3</th>\n",
       "      <th>5</th>\n",
       "      <th>6</th>\n",
       "      <th>7</th>\n",
       "      <th>10</th>\n",
       "      <th>11</th>\n",
       "      <th>12</th>\n",
       "      <th>13</th>\n",
       "      <th>16</th>\n",
       "      <th>...</th>\n",
       "      <th>1981</th>\n",
       "      <th>1985</th>\n",
       "      <th>1987</th>\n",
       "      <th>1988</th>\n",
       "      <th>1989</th>\n",
       "      <th>1991</th>\n",
       "      <th>1994</th>\n",
       "      <th>1996</th>\n",
       "      <th>1999</th>\n",
       "      <th>sum</th>\n",
       "    </tr>\n",
       "  </thead>\n",
       "  <tbody>\n",
       "    <tr>\n",
       "      <th>1726</th>\n",
       "      <td>0.063234</td>\n",
       "      <td>0.065709</td>\n",
       "      <td>0.060397</td>\n",
       "      <td>0.060655</td>\n",
       "      <td>0.062346</td>\n",
       "      <td>0.061124</td>\n",
       "      <td>0.059506</td>\n",
       "      <td>0.062235</td>\n",
       "      <td>0.063384</td>\n",
       "      <td>0.064182</td>\n",
       "      <td>...</td>\n",
       "      <td>0.062016</td>\n",
       "      <td>0.059526</td>\n",
       "      <td>0.068054</td>\n",
       "      <td>0.062475</td>\n",
       "      <td>0.064075</td>\n",
       "      <td>0.06007</td>\n",
       "      <td>0.065683</td>\n",
       "      <td>0.058752</td>\n",
       "      <td>0.06729</td>\n",
       "      <td>60.466664</td>\n",
       "    </tr>\n",
       "  </tbody>\n",
       "</table>\n",
       "<p>1 rows × 963 columns</p>\n",
       "</div>"
      ],
      "text/plain": [
       "             2         3         5         6         7        10        11  \\\n",
       "1726  0.063234  0.065709  0.060397  0.060655  0.062346  0.061124  0.059506   \n",
       "\n",
       "            12        13        16  ...      1981      1985      1987  \\\n",
       "1726  0.062235  0.063384  0.064182  ...  0.062016  0.059526  0.068054   \n",
       "\n",
       "          1988      1989     1991      1994      1996     1999        sum  \n",
       "1726  0.062475  0.064075  0.06007  0.065683  0.058752  0.06729  60.466664  \n",
       "\n",
       "[1 rows x 963 columns]"
      ]
     },
     "execution_count": 63,
     "metadata": {},
     "output_type": "execute_result"
    }
   ],
   "source": [
    "cluster1[cluster1['sum']==cluster1['sum'].max()]"
   ]
  },
  {
   "cell_type": "code",
   "execution_count": 19,
   "metadata": {},
   "outputs": [
    {
     "data": {
      "text/plain": [
       "992"
      ]
     },
     "execution_count": 19,
     "metadata": {},
     "output_type": "execute_result"
    }
   ],
   "source": [
    "random.choice(cluster1.index)"
   ]
  },
  {
   "cell_type": "markdown",
   "metadata": {},
   "source": [
    "- Cluster 2"
   ]
  },
  {
   "cell_type": "code",
   "execution_count": 71,
   "metadata": {},
   "outputs": [],
   "source": [
    "ooi_1 = distance_new1[clustering.labels_==1]\n",
    "ooi_11 = ooi_1.T\n",
    "cluster2 = ooi_11[clustering.labels_==1]\n",
    "cluster2 = cluster2.T\n",
    "cluster2['sum'] = cluster2.sum(axis=1)"
   ]
  },
  {
   "cell_type": "code",
   "execution_count": 16,
   "metadata": {},
   "outputs": [],
   "source": [
    "import random"
   ]
  },
  {
   "cell_type": "code",
   "execution_count": 79,
   "metadata": {},
   "outputs": [
    {
     "data": {
      "text/plain": [
       "1846"
      ]
     },
     "execution_count": 79,
     "metadata": {},
     "output_type": "execute_result"
    }
   ],
   "source": [
    "random.choice(cluster2.index)"
   ]
  },
  {
   "cell_type": "code",
   "execution_count": 74,
   "metadata": {},
   "outputs": [
    {
     "data": {
      "text/html": [
       "<div>\n",
       "<style scoped>\n",
       "    .dataframe tbody tr th:only-of-type {\n",
       "        vertical-align: middle;\n",
       "    }\n",
       "\n",
       "    .dataframe tbody tr th {\n",
       "        vertical-align: top;\n",
       "    }\n",
       "\n",
       "    .dataframe thead th {\n",
       "        text-align: right;\n",
       "    }\n",
       "</style>\n",
       "<table border=\"1\" class=\"dataframe\">\n",
       "  <thead>\n",
       "    <tr style=\"text-align: right;\">\n",
       "      <th></th>\n",
       "      <th>15</th>\n",
       "      <th>18</th>\n",
       "      <th>19</th>\n",
       "      <th>20</th>\n",
       "      <th>26</th>\n",
       "      <th>32</th>\n",
       "      <th>34</th>\n",
       "      <th>49</th>\n",
       "      <th>50</th>\n",
       "      <th>51</th>\n",
       "      <th>...</th>\n",
       "      <th>1943</th>\n",
       "      <th>1946</th>\n",
       "      <th>1947</th>\n",
       "      <th>1949</th>\n",
       "      <th>1954</th>\n",
       "      <th>1975</th>\n",
       "      <th>1984</th>\n",
       "      <th>1990</th>\n",
       "      <th>1995</th>\n",
       "      <th>sum</th>\n",
       "    </tr>\n",
       "  </thead>\n",
       "  <tbody>\n",
       "    <tr>\n",
       "      <th>335</th>\n",
       "      <td>0.053698</td>\n",
       "      <td>0.057985</td>\n",
       "      <td>0.055515</td>\n",
       "      <td>0.058878</td>\n",
       "      <td>0.058809</td>\n",
       "      <td>0.054072</td>\n",
       "      <td>0.059953</td>\n",
       "      <td>0.055063</td>\n",
       "      <td>0.056543</td>\n",
       "      <td>0.054178</td>\n",
       "      <td>...</td>\n",
       "      <td>0.056271</td>\n",
       "      <td>0.053461</td>\n",
       "      <td>0.051055</td>\n",
       "      <td>0.060612</td>\n",
       "      <td>0.054072</td>\n",
       "      <td>0.056669</td>\n",
       "      <td>0.05</td>\n",
       "      <td>0.058317</td>\n",
       "      <td>0.053591</td>\n",
       "      <td>23.705511</td>\n",
       "    </tr>\n",
       "  </tbody>\n",
       "</table>\n",
       "<p>1 rows × 429 columns</p>\n",
       "</div>"
      ],
      "text/plain": [
       "           15        18        19        20        26        32        34  \\\n",
       "335  0.053698  0.057985  0.055515  0.058878  0.058809  0.054072  0.059953   \n",
       "\n",
       "           49        50        51  ...      1943      1946      1947  \\\n",
       "335  0.055063  0.056543  0.054178  ...  0.056271  0.053461  0.051055   \n",
       "\n",
       "         1949      1954      1975  1984      1990      1995        sum  \n",
       "335  0.060612  0.054072  0.056669  0.05  0.058317  0.053591  23.705511  \n",
       "\n",
       "[1 rows x 429 columns]"
      ]
     },
     "execution_count": 74,
     "metadata": {},
     "output_type": "execute_result"
    }
   ],
   "source": [
    "cluster2[cluster2['sum']==cluster2['sum'].min()]"
   ]
  },
  {
   "cell_type": "code",
   "execution_count": 75,
   "metadata": {},
   "outputs": [
    {
     "data": {
      "text/html": [
       "<div>\n",
       "<style scoped>\n",
       "    .dataframe tbody tr th:only-of-type {\n",
       "        vertical-align: middle;\n",
       "    }\n",
       "\n",
       "    .dataframe tbody tr th {\n",
       "        vertical-align: top;\n",
       "    }\n",
       "\n",
       "    .dataframe thead th {\n",
       "        text-align: right;\n",
       "    }\n",
       "</style>\n",
       "<table border=\"1\" class=\"dataframe\">\n",
       "  <thead>\n",
       "    <tr style=\"text-align: right;\">\n",
       "      <th></th>\n",
       "      <th>15</th>\n",
       "      <th>18</th>\n",
       "      <th>19</th>\n",
       "      <th>20</th>\n",
       "      <th>26</th>\n",
       "      <th>32</th>\n",
       "      <th>34</th>\n",
       "      <th>49</th>\n",
       "      <th>50</th>\n",
       "      <th>51</th>\n",
       "      <th>...</th>\n",
       "      <th>1943</th>\n",
       "      <th>1946</th>\n",
       "      <th>1947</th>\n",
       "      <th>1949</th>\n",
       "      <th>1954</th>\n",
       "      <th>1975</th>\n",
       "      <th>1984</th>\n",
       "      <th>1990</th>\n",
       "      <th>1995</th>\n",
       "      <th>sum</th>\n",
       "    </tr>\n",
       "  </thead>\n",
       "  <tbody>\n",
       "    <tr>\n",
       "      <th>1382</th>\n",
       "      <td>0.056342</td>\n",
       "      <td>0.071653</td>\n",
       "      <td>0.061281</td>\n",
       "      <td>0.061015</td>\n",
       "      <td>0.057062</td>\n",
       "      <td>0.061843</td>\n",
       "      <td>0.067197</td>\n",
       "      <td>0.066406</td>\n",
       "      <td>0.059471</td>\n",
       "      <td>0.063218</td>\n",
       "      <td>...</td>\n",
       "      <td>0.057493</td>\n",
       "      <td>0.060434</td>\n",
       "      <td>0.061392</td>\n",
       "      <td>0.054544</td>\n",
       "      <td>0.069522</td>\n",
       "      <td>0.056101</td>\n",
       "      <td>0.063605</td>\n",
       "      <td>0.061516</td>\n",
       "      <td>0.065474</td>\n",
       "      <td>26.626879</td>\n",
       "    </tr>\n",
       "  </tbody>\n",
       "</table>\n",
       "<p>1 rows × 429 columns</p>\n",
       "</div>"
      ],
      "text/plain": [
       "            15        18        19        20        26        32        34  \\\n",
       "1382  0.056342  0.071653  0.061281  0.061015  0.057062  0.061843  0.067197   \n",
       "\n",
       "            49        50        51  ...      1943      1946      1947  \\\n",
       "1382  0.066406  0.059471  0.063218  ...  0.057493  0.060434  0.061392   \n",
       "\n",
       "          1949      1954      1975      1984      1990      1995        sum  \n",
       "1382  0.054544  0.069522  0.056101  0.063605  0.061516  0.065474  26.626879  \n",
       "\n",
       "[1 rows x 429 columns]"
      ]
     },
     "execution_count": 75,
     "metadata": {},
     "output_type": "execute_result"
    }
   ],
   "source": [
    "cluster2[cluster2['sum']==cluster2['sum'].max()]"
   ]
  },
  {
   "cell_type": "code",
   "execution_count": null,
   "metadata": {},
   "outputs": [],
   "source": []
  },
  {
   "cell_type": "markdown",
   "metadata": {},
   "source": [
    "- Cluster 3"
   ]
  },
  {
   "cell_type": "code",
   "execution_count": 76,
   "metadata": {},
   "outputs": [],
   "source": [
    "ooi_2 = distance_new1[clustering.labels_==2]\n",
    "ooi_21 = ooi_2.T\n",
    "cluster3 = ooi_21[clustering.labels_==2]\n",
    "cluster3 = cluster3.T\n",
    "cluster3['sum'] = cluster3.sum(axis=1)"
   ]
  },
  {
   "cell_type": "code",
   "execution_count": 77,
   "metadata": {},
   "outputs": [
    {
     "data": {
      "text/html": [
       "<div>\n",
       "<style scoped>\n",
       "    .dataframe tbody tr th:only-of-type {\n",
       "        vertical-align: middle;\n",
       "    }\n",
       "\n",
       "    .dataframe tbody tr th {\n",
       "        vertical-align: top;\n",
       "    }\n",
       "\n",
       "    .dataframe thead th {\n",
       "        text-align: right;\n",
       "    }\n",
       "</style>\n",
       "<table border=\"1\" class=\"dataframe\">\n",
       "  <thead>\n",
       "    <tr style=\"text-align: right;\">\n",
       "      <th></th>\n",
       "      <th>0</th>\n",
       "      <th>1</th>\n",
       "      <th>4</th>\n",
       "      <th>8</th>\n",
       "      <th>9</th>\n",
       "      <th>14</th>\n",
       "      <th>17</th>\n",
       "      <th>22</th>\n",
       "      <th>27</th>\n",
       "      <th>29</th>\n",
       "      <th>...</th>\n",
       "      <th>1979</th>\n",
       "      <th>1980</th>\n",
       "      <th>1982</th>\n",
       "      <th>1983</th>\n",
       "      <th>1986</th>\n",
       "      <th>1992</th>\n",
       "      <th>1993</th>\n",
       "      <th>1997</th>\n",
       "      <th>1998</th>\n",
       "      <th>sum</th>\n",
       "    </tr>\n",
       "  </thead>\n",
       "  <tbody>\n",
       "    <tr>\n",
       "      <th>833</th>\n",
       "      <td>0.05301</td>\n",
       "      <td>0.051711</td>\n",
       "      <td>0.053724</td>\n",
       "      <td>0.055953</td>\n",
       "      <td>0.05742</td>\n",
       "      <td>0.058761</td>\n",
       "      <td>0.05339</td>\n",
       "      <td>0.054146</td>\n",
       "      <td>0.052119</td>\n",
       "      <td>0.05788</td>\n",
       "      <td>...</td>\n",
       "      <td>0.055423</td>\n",
       "      <td>0.058933</td>\n",
       "      <td>0.055817</td>\n",
       "      <td>0.056741</td>\n",
       "      <td>0.051622</td>\n",
       "      <td>0.053065</td>\n",
       "      <td>0.053945</td>\n",
       "      <td>0.054222</td>\n",
       "      <td>0.05273</td>\n",
       "      <td>33.140872</td>\n",
       "    </tr>\n",
       "  </tbody>\n",
       "</table>\n",
       "<p>1 rows × 603 columns</p>\n",
       "</div>"
      ],
      "text/plain": [
       "           0         1         4         8        9        14       17  \\\n",
       "833  0.05301  0.051711  0.053724  0.055953  0.05742  0.058761  0.05339   \n",
       "\n",
       "           22        27       29  ...      1979      1980      1982      1983  \\\n",
       "833  0.054146  0.052119  0.05788  ...  0.055423  0.058933  0.055817  0.056741   \n",
       "\n",
       "         1986      1992      1993      1997     1998        sum  \n",
       "833  0.051622  0.053065  0.053945  0.054222  0.05273  33.140872  \n",
       "\n",
       "[1 rows x 603 columns]"
      ]
     },
     "execution_count": 77,
     "metadata": {},
     "output_type": "execute_result"
    }
   ],
   "source": [
    "cluster3[cluster3['sum']==cluster3['sum'].min()]"
   ]
  },
  {
   "cell_type": "code",
   "execution_count": 78,
   "metadata": {},
   "outputs": [
    {
     "data": {
      "text/html": [
       "<div>\n",
       "<style scoped>\n",
       "    .dataframe tbody tr th:only-of-type {\n",
       "        vertical-align: middle;\n",
       "    }\n",
       "\n",
       "    .dataframe tbody tr th {\n",
       "        vertical-align: top;\n",
       "    }\n",
       "\n",
       "    .dataframe thead th {\n",
       "        text-align: right;\n",
       "    }\n",
       "</style>\n",
       "<table border=\"1\" class=\"dataframe\">\n",
       "  <thead>\n",
       "    <tr style=\"text-align: right;\">\n",
       "      <th></th>\n",
       "      <th>0</th>\n",
       "      <th>1</th>\n",
       "      <th>4</th>\n",
       "      <th>8</th>\n",
       "      <th>9</th>\n",
       "      <th>14</th>\n",
       "      <th>17</th>\n",
       "      <th>22</th>\n",
       "      <th>27</th>\n",
       "      <th>29</th>\n",
       "      <th>...</th>\n",
       "      <th>1979</th>\n",
       "      <th>1980</th>\n",
       "      <th>1982</th>\n",
       "      <th>1983</th>\n",
       "      <th>1986</th>\n",
       "      <th>1992</th>\n",
       "      <th>1993</th>\n",
       "      <th>1997</th>\n",
       "      <th>1998</th>\n",
       "      <th>sum</th>\n",
       "    </tr>\n",
       "  </thead>\n",
       "  <tbody>\n",
       "    <tr>\n",
       "      <th>1110</th>\n",
       "      <td>0.06503</td>\n",
       "      <td>0.060762</td>\n",
       "      <td>0.065473</td>\n",
       "      <td>0.067119</td>\n",
       "      <td>0.054533</td>\n",
       "      <td>0.065336</td>\n",
       "      <td>0.061456</td>\n",
       "      <td>0.065348</td>\n",
       "      <td>0.064069</td>\n",
       "      <td>0.056832</td>\n",
       "      <td>...</td>\n",
       "      <td>0.064197</td>\n",
       "      <td>0.058384</td>\n",
       "      <td>0.062059</td>\n",
       "      <td>0.064911</td>\n",
       "      <td>0.062858</td>\n",
       "      <td>0.064371</td>\n",
       "      <td>0.062885</td>\n",
       "      <td>0.066235</td>\n",
       "      <td>0.06527</td>\n",
       "      <td>37.979951</td>\n",
       "    </tr>\n",
       "  </tbody>\n",
       "</table>\n",
       "<p>1 rows × 603 columns</p>\n",
       "</div>"
      ],
      "text/plain": [
       "            0         1         4         8         9        14        17  \\\n",
       "1110  0.06503  0.060762  0.065473  0.067119  0.054533  0.065336  0.061456   \n",
       "\n",
       "            22        27        29  ...      1979      1980      1982  \\\n",
       "1110  0.065348  0.064069  0.056832  ...  0.064197  0.058384  0.062059   \n",
       "\n",
       "          1983      1986      1992      1993      1997     1998        sum  \n",
       "1110  0.064911  0.062858  0.064371  0.062885  0.066235  0.06527  37.979951  \n",
       "\n",
       "[1 rows x 603 columns]"
      ]
     },
     "execution_count": 78,
     "metadata": {},
     "output_type": "execute_result"
    }
   ],
   "source": [
    "cluster3[cluster3['sum']==cluster3['sum'].max()]"
   ]
  },
  {
   "cell_type": "code",
   "execution_count": 80,
   "metadata": {},
   "outputs": [
    {
     "data": {
      "text/plain": [
       "1646"
      ]
     },
     "execution_count": 80,
     "metadata": {},
     "output_type": "execute_result"
    }
   ],
   "source": [
    "random.choice(cluster3.index)"
   ]
  },
  {
   "cell_type": "markdown",
   "metadata": {},
   "source": [
    "#### Distribution 3"
   ]
  },
  {
   "cell_type": "code",
   "execution_count": 81,
   "metadata": {},
   "outputs": [],
   "source": [
    "model = MDS(n_components=4, dissimilarity='precomputed', random_state=1, metric=False)\n",
    "out = model.fit_transform(distance)\n",
    "clustering = AgglomerativeClustering(n_clusters=4, affinity='euclidean', linkage='average').fit(out)"
   ]
  },
  {
   "cell_type": "code",
   "execution_count": 12,
   "metadata": {},
   "outputs": [
    {
     "data": {
      "text/plain": [
       "(array([0, 1, 2, 3], dtype=int64), array([697, 423, 879,   1], dtype=int64))"
      ]
     },
     "execution_count": 12,
     "metadata": {},
     "output_type": "execute_result"
    }
   ],
   "source": [
    "np.unique(clustering.labels_, return_counts=True)"
   ]
  },
  {
   "cell_type": "code",
   "execution_count": 82,
   "metadata": {},
   "outputs": [],
   "source": [
    "ooi_0 = distance[clustering.labels_==0] \n",
    "ooi_01 = ooi_0.T\n",
    "cluster1 = ooi_01[clustering.labels_==0] \n",
    "cluster1 = cluster1.T # Kappa values for each pair comparison\n",
    "arr1 = cluster1.to_numpy()\n",
    "# To calculate the kappa index for each map \n",
    "cluster1['sum'] = cluster1.sum(axis=1)"
   ]
  },
  {
   "cell_type": "code",
   "execution_count": 83,
   "metadata": {},
   "outputs": [
    {
     "data": {
      "text/html": [
       "<div>\n",
       "<style scoped>\n",
       "    .dataframe tbody tr th:only-of-type {\n",
       "        vertical-align: middle;\n",
       "    }\n",
       "\n",
       "    .dataframe tbody tr th {\n",
       "        vertical-align: top;\n",
       "    }\n",
       "\n",
       "    .dataframe thead th {\n",
       "        text-align: right;\n",
       "    }\n",
       "</style>\n",
       "<table border=\"1\" class=\"dataframe\">\n",
       "  <thead>\n",
       "    <tr style=\"text-align: right;\">\n",
       "      <th></th>\n",
       "      <th>0</th>\n",
       "      <th>3</th>\n",
       "      <th>5</th>\n",
       "      <th>7</th>\n",
       "      <th>15</th>\n",
       "      <th>20</th>\n",
       "      <th>28</th>\n",
       "      <th>29</th>\n",
       "      <th>32</th>\n",
       "      <th>35</th>\n",
       "      <th>...</th>\n",
       "      <th>1978</th>\n",
       "      <th>1980</th>\n",
       "      <th>1984</th>\n",
       "      <th>1986</th>\n",
       "      <th>1991</th>\n",
       "      <th>1992</th>\n",
       "      <th>1993</th>\n",
       "      <th>1996</th>\n",
       "      <th>1998</th>\n",
       "      <th>sum</th>\n",
       "    </tr>\n",
       "  </thead>\n",
       "  <tbody>\n",
       "    <tr>\n",
       "      <th>909</th>\n",
       "      <td>0.055576</td>\n",
       "      <td>0.053549</td>\n",
       "      <td>0.055749</td>\n",
       "      <td>0.056088</td>\n",
       "      <td>0.057504</td>\n",
       "      <td>0.055817</td>\n",
       "      <td>0.053907</td>\n",
       "      <td>0.058996</td>\n",
       "      <td>0.057955</td>\n",
       "      <td>0.054518</td>\n",
       "      <td>...</td>\n",
       "      <td>0.05579</td>\n",
       "      <td>0.057566</td>\n",
       "      <td>0.053446</td>\n",
       "      <td>0.052162</td>\n",
       "      <td>0.054666</td>\n",
       "      <td>0.053176</td>\n",
       "      <td>0.054319</td>\n",
       "      <td>0.054659</td>\n",
       "      <td>0.055642</td>\n",
       "      <td>39.108089</td>\n",
       "    </tr>\n",
       "  </tbody>\n",
       "</table>\n",
       "<p>1 rows × 698 columns</p>\n",
       "</div>"
      ],
      "text/plain": [
       "            0         3         5         7        15        20        28  \\\n",
       "909  0.055576  0.053549  0.055749  0.056088  0.057504  0.055817  0.053907   \n",
       "\n",
       "           29        32        35  ...     1978      1980      1984      1986  \\\n",
       "909  0.058996  0.057955  0.054518  ...  0.05579  0.057566  0.053446  0.052162   \n",
       "\n",
       "         1991      1992      1993      1996      1998        sum  \n",
       "909  0.054666  0.053176  0.054319  0.054659  0.055642  39.108089  \n",
       "\n",
       "[1 rows x 698 columns]"
      ]
     },
     "execution_count": 83,
     "metadata": {},
     "output_type": "execute_result"
    }
   ],
   "source": [
    "cluster1[cluster1['sum']==cluster1['sum'].min()]"
   ]
  },
  {
   "cell_type": "code",
   "execution_count": 84,
   "metadata": {},
   "outputs": [
    {
     "data": {
      "text/html": [
       "<div>\n",
       "<style scoped>\n",
       "    .dataframe tbody tr th:only-of-type {\n",
       "        vertical-align: middle;\n",
       "    }\n",
       "\n",
       "    .dataframe tbody tr th {\n",
       "        vertical-align: top;\n",
       "    }\n",
       "\n",
       "    .dataframe thead th {\n",
       "        text-align: right;\n",
       "    }\n",
       "</style>\n",
       "<table border=\"1\" class=\"dataframe\">\n",
       "  <thead>\n",
       "    <tr style=\"text-align: right;\">\n",
       "      <th></th>\n",
       "      <th>0</th>\n",
       "      <th>3</th>\n",
       "      <th>5</th>\n",
       "      <th>7</th>\n",
       "      <th>15</th>\n",
       "      <th>20</th>\n",
       "      <th>28</th>\n",
       "      <th>29</th>\n",
       "      <th>32</th>\n",
       "      <th>35</th>\n",
       "      <th>...</th>\n",
       "      <th>1978</th>\n",
       "      <th>1980</th>\n",
       "      <th>1984</th>\n",
       "      <th>1986</th>\n",
       "      <th>1991</th>\n",
       "      <th>1992</th>\n",
       "      <th>1993</th>\n",
       "      <th>1996</th>\n",
       "      <th>1998</th>\n",
       "      <th>sum</th>\n",
       "    </tr>\n",
       "  </thead>\n",
       "  <tbody>\n",
       "    <tr>\n",
       "      <th>208</th>\n",
       "      <td>0.061201</td>\n",
       "      <td>0.072916</td>\n",
       "      <td>0.066709</td>\n",
       "      <td>0.069934</td>\n",
       "      <td>0.058795</td>\n",
       "      <td>0.060645</td>\n",
       "      <td>0.07226</td>\n",
       "      <td>0.061431</td>\n",
       "      <td>0.061618</td>\n",
       "      <td>0.07041</td>\n",
       "      <td>...</td>\n",
       "      <td>0.061526</td>\n",
       "      <td>0.061062</td>\n",
       "      <td>0.064261</td>\n",
       "      <td>0.062712</td>\n",
       "      <td>0.066236</td>\n",
       "      <td>0.058878</td>\n",
       "      <td>0.061769</td>\n",
       "      <td>0.065466</td>\n",
       "      <td>0.064091</td>\n",
       "      <td>45.729865</td>\n",
       "    </tr>\n",
       "  </tbody>\n",
       "</table>\n",
       "<p>1 rows × 698 columns</p>\n",
       "</div>"
      ],
      "text/plain": [
       "            0         3         5         7        15        20       28  \\\n",
       "208  0.061201  0.072916  0.066709  0.069934  0.058795  0.060645  0.07226   \n",
       "\n",
       "           29        32       35  ...      1978      1980      1984      1986  \\\n",
       "208  0.061431  0.061618  0.07041  ...  0.061526  0.061062  0.064261  0.062712   \n",
       "\n",
       "         1991      1992      1993      1996      1998        sum  \n",
       "208  0.066236  0.058878  0.061769  0.065466  0.064091  45.729865  \n",
       "\n",
       "[1 rows x 698 columns]"
      ]
     },
     "execution_count": 84,
     "metadata": {},
     "output_type": "execute_result"
    }
   ],
   "source": [
    "cluster1[cluster1['sum']==cluster1['sum'].max()]"
   ]
  },
  {
   "cell_type": "code",
   "execution_count": 85,
   "metadata": {},
   "outputs": [],
   "source": [
    "ooi_1 = distance[clustering.labels_==1]\n",
    "ooi_11 = ooi_1.T\n",
    "cluster2 = ooi_11[clustering.labels_==1]\n",
    "cluster2 = cluster2.T\n",
    "cluster2['sum'] = cluster2.sum(axis=1)"
   ]
  },
  {
   "cell_type": "code",
   "execution_count": 86,
   "metadata": {},
   "outputs": [
    {
     "data": {
      "text/html": [
       "<div>\n",
       "<style scoped>\n",
       "    .dataframe tbody tr th:only-of-type {\n",
       "        vertical-align: middle;\n",
       "    }\n",
       "\n",
       "    .dataframe tbody tr th {\n",
       "        vertical-align: top;\n",
       "    }\n",
       "\n",
       "    .dataframe thead th {\n",
       "        text-align: right;\n",
       "    }\n",
       "</style>\n",
       "<table border=\"1\" class=\"dataframe\">\n",
       "  <thead>\n",
       "    <tr style=\"text-align: right;\">\n",
       "      <th></th>\n",
       "      <th>1</th>\n",
       "      <th>10</th>\n",
       "      <th>16</th>\n",
       "      <th>24</th>\n",
       "      <th>25</th>\n",
       "      <th>26</th>\n",
       "      <th>30</th>\n",
       "      <th>33</th>\n",
       "      <th>34</th>\n",
       "      <th>37</th>\n",
       "      <th>...</th>\n",
       "      <th>1945</th>\n",
       "      <th>1956</th>\n",
       "      <th>1958</th>\n",
       "      <th>1960</th>\n",
       "      <th>1961</th>\n",
       "      <th>1969</th>\n",
       "      <th>1973</th>\n",
       "      <th>1979</th>\n",
       "      <th>1994</th>\n",
       "      <th>sum</th>\n",
       "    </tr>\n",
       "  </thead>\n",
       "  <tbody>\n",
       "    <tr>\n",
       "      <th>1171</th>\n",
       "      <td>0.063181</td>\n",
       "      <td>0.064201</td>\n",
       "      <td>0.067266</td>\n",
       "      <td>0.069158</td>\n",
       "      <td>0.066547</td>\n",
       "      <td>0.055447</td>\n",
       "      <td>0.065427</td>\n",
       "      <td>0.06513</td>\n",
       "      <td>0.063382</td>\n",
       "      <td>0.061327</td>\n",
       "      <td>...</td>\n",
       "      <td>0.066532</td>\n",
       "      <td>0.06985</td>\n",
       "      <td>0.062052</td>\n",
       "      <td>0.063139</td>\n",
       "      <td>0.064097</td>\n",
       "      <td>0.067882</td>\n",
       "      <td>0.070506</td>\n",
       "      <td>0.057951</td>\n",
       "      <td>0.067463</td>\n",
       "      <td>27.199671</td>\n",
       "    </tr>\n",
       "  </tbody>\n",
       "</table>\n",
       "<p>1 rows × 424 columns</p>\n",
       "</div>"
      ],
      "text/plain": [
       "             1        10        16        24        25        26        30  \\\n",
       "1171  0.063181  0.064201  0.067266  0.069158  0.066547  0.055447  0.065427   \n",
       "\n",
       "           33        34        37  ...      1945     1956      1958      1960  \\\n",
       "1171  0.06513  0.063382  0.061327  ...  0.066532  0.06985  0.062052  0.063139   \n",
       "\n",
       "          1961      1969      1973      1979      1994        sum  \n",
       "1171  0.064097  0.067882  0.070506  0.057951  0.067463  27.199671  \n",
       "\n",
       "[1 rows x 424 columns]"
      ]
     },
     "execution_count": 86,
     "metadata": {},
     "output_type": "execute_result"
    }
   ],
   "source": [
    "cluster2[cluster2['sum']==cluster2['sum'].max()]"
   ]
  },
  {
   "cell_type": "code",
   "execution_count": 87,
   "metadata": {},
   "outputs": [
    {
     "data": {
      "text/html": [
       "<div>\n",
       "<style scoped>\n",
       "    .dataframe tbody tr th:only-of-type {\n",
       "        vertical-align: middle;\n",
       "    }\n",
       "\n",
       "    .dataframe tbody tr th {\n",
       "        vertical-align: top;\n",
       "    }\n",
       "\n",
       "    .dataframe thead th {\n",
       "        text-align: right;\n",
       "    }\n",
       "</style>\n",
       "<table border=\"1\" class=\"dataframe\">\n",
       "  <thead>\n",
       "    <tr style=\"text-align: right;\">\n",
       "      <th></th>\n",
       "      <th>1</th>\n",
       "      <th>10</th>\n",
       "      <th>16</th>\n",
       "      <th>24</th>\n",
       "      <th>25</th>\n",
       "      <th>26</th>\n",
       "      <th>30</th>\n",
       "      <th>33</th>\n",
       "      <th>34</th>\n",
       "      <th>37</th>\n",
       "      <th>...</th>\n",
       "      <th>1945</th>\n",
       "      <th>1956</th>\n",
       "      <th>1958</th>\n",
       "      <th>1960</th>\n",
       "      <th>1961</th>\n",
       "      <th>1969</th>\n",
       "      <th>1973</th>\n",
       "      <th>1979</th>\n",
       "      <th>1994</th>\n",
       "      <th>sum</th>\n",
       "    </tr>\n",
       "  </thead>\n",
       "  <tbody>\n",
       "    <tr>\n",
       "      <th>1414</th>\n",
       "      <td>0.052829</td>\n",
       "      <td>0.056741</td>\n",
       "      <td>0.056969</td>\n",
       "      <td>0.058112</td>\n",
       "      <td>0.055841</td>\n",
       "      <td>0.061542</td>\n",
       "      <td>0.053743</td>\n",
       "      <td>0.058753</td>\n",
       "      <td>0.055521</td>\n",
       "      <td>0.061019</td>\n",
       "      <td>...</td>\n",
       "      <td>0.05473</td>\n",
       "      <td>0.059401</td>\n",
       "      <td>0.055778</td>\n",
       "      <td>0.050852</td>\n",
       "      <td>0.055292</td>\n",
       "      <td>0.05366</td>\n",
       "      <td>0.055333</td>\n",
       "      <td>0.056887</td>\n",
       "      <td>0.056264</td>\n",
       "      <td>23.75</td>\n",
       "    </tr>\n",
       "  </tbody>\n",
       "</table>\n",
       "<p>1 rows × 424 columns</p>\n",
       "</div>"
      ],
      "text/plain": [
       "             1        10        16        24        25        26        30  \\\n",
       "1414  0.052829  0.056741  0.056969  0.058112  0.055841  0.061542  0.053743   \n",
       "\n",
       "            33        34        37  ...     1945      1956      1958  \\\n",
       "1414  0.058753  0.055521  0.061019  ...  0.05473  0.059401  0.055778   \n",
       "\n",
       "          1960      1961     1969      1973      1979      1994    sum  \n",
       "1414  0.050852  0.055292  0.05366  0.055333  0.056887  0.056264  23.75  \n",
       "\n",
       "[1 rows x 424 columns]"
      ]
     },
     "execution_count": 87,
     "metadata": {},
     "output_type": "execute_result"
    }
   ],
   "source": [
    "cluster2[cluster2['sum']==cluster2['sum'].min()]"
   ]
  },
  {
   "cell_type": "code",
   "execution_count": 89,
   "metadata": {},
   "outputs": [],
   "source": [
    "ooi_2 = distance[clustering.labels_==2]\n",
    "ooi_21 = ooi_2.T\n",
    "cluster3 = ooi_21[clustering.labels_==2]\n",
    "cluster3 = cluster3.T\n",
    "cluster3['sum'] = cluster3.sum(axis=1)"
   ]
  },
  {
   "cell_type": "code",
   "execution_count": 91,
   "metadata": {},
   "outputs": [
    {
     "data": {
      "text/html": [
       "<div>\n",
       "<style scoped>\n",
       "    .dataframe tbody tr th:only-of-type {\n",
       "        vertical-align: middle;\n",
       "    }\n",
       "\n",
       "    .dataframe tbody tr th {\n",
       "        vertical-align: top;\n",
       "    }\n",
       "\n",
       "    .dataframe thead th {\n",
       "        text-align: right;\n",
       "    }\n",
       "</style>\n",
       "<table border=\"1\" class=\"dataframe\">\n",
       "  <thead>\n",
       "    <tr style=\"text-align: right;\">\n",
       "      <th></th>\n",
       "      <th>2</th>\n",
       "      <th>4</th>\n",
       "      <th>6</th>\n",
       "      <th>8</th>\n",
       "      <th>9</th>\n",
       "      <th>11</th>\n",
       "      <th>12</th>\n",
       "      <th>13</th>\n",
       "      <th>14</th>\n",
       "      <th>17</th>\n",
       "      <th>...</th>\n",
       "      <th>1982</th>\n",
       "      <th>1983</th>\n",
       "      <th>1985</th>\n",
       "      <th>1987</th>\n",
       "      <th>1988</th>\n",
       "      <th>1989</th>\n",
       "      <th>1990</th>\n",
       "      <th>1997</th>\n",
       "      <th>1999</th>\n",
       "      <th>sum</th>\n",
       "    </tr>\n",
       "  </thead>\n",
       "  <tbody>\n",
       "    <tr>\n",
       "      <th>1131</th>\n",
       "      <td>0.055835</td>\n",
       "      <td>0.056209</td>\n",
       "      <td>0.053873</td>\n",
       "      <td>0.059465</td>\n",
       "      <td>0.056818</td>\n",
       "      <td>0.054673</td>\n",
       "      <td>0.054024</td>\n",
       "      <td>0.057595</td>\n",
       "      <td>0.056529</td>\n",
       "      <td>0.054189</td>\n",
       "      <td>...</td>\n",
       "      <td>0.056471</td>\n",
       "      <td>0.056681</td>\n",
       "      <td>0.056171</td>\n",
       "      <td>0.058699</td>\n",
       "      <td>0.057019</td>\n",
       "      <td>0.053582</td>\n",
       "      <td>0.058173</td>\n",
       "      <td>0.055805</td>\n",
       "      <td>0.05684</td>\n",
       "      <td>49.19958</td>\n",
       "    </tr>\n",
       "  </tbody>\n",
       "</table>\n",
       "<p>1 rows × 880 columns</p>\n",
       "</div>"
      ],
      "text/plain": [
       "             2         4         6         8         9        11        12  \\\n",
       "1131  0.055835  0.056209  0.053873  0.059465  0.056818  0.054673  0.054024   \n",
       "\n",
       "            13        14        17  ...      1982      1983      1985  \\\n",
       "1131  0.057595  0.056529  0.054189  ...  0.056471  0.056681  0.056171   \n",
       "\n",
       "          1987      1988      1989      1990      1997     1999       sum  \n",
       "1131  0.058699  0.057019  0.053582  0.058173  0.055805  0.05684  49.19958  \n",
       "\n",
       "[1 rows x 880 columns]"
      ]
     },
     "execution_count": 91,
     "metadata": {},
     "output_type": "execute_result"
    }
   ],
   "source": [
    "cluster3[cluster3['sum']==cluster3['sum'].min()]"
   ]
  },
  {
   "cell_type": "code",
   "execution_count": 93,
   "metadata": {},
   "outputs": [
    {
     "data": {
      "text/html": [
       "<div>\n",
       "<style scoped>\n",
       "    .dataframe tbody tr th:only-of-type {\n",
       "        vertical-align: middle;\n",
       "    }\n",
       "\n",
       "    .dataframe tbody tr th {\n",
       "        vertical-align: top;\n",
       "    }\n",
       "\n",
       "    .dataframe thead th {\n",
       "        text-align: right;\n",
       "    }\n",
       "</style>\n",
       "<table border=\"1\" class=\"dataframe\">\n",
       "  <thead>\n",
       "    <tr style=\"text-align: right;\">\n",
       "      <th></th>\n",
       "      <th>2</th>\n",
       "      <th>4</th>\n",
       "      <th>6</th>\n",
       "      <th>8</th>\n",
       "      <th>9</th>\n",
       "      <th>11</th>\n",
       "      <th>12</th>\n",
       "      <th>13</th>\n",
       "      <th>14</th>\n",
       "      <th>17</th>\n",
       "      <th>...</th>\n",
       "      <th>1982</th>\n",
       "      <th>1983</th>\n",
       "      <th>1985</th>\n",
       "      <th>1987</th>\n",
       "      <th>1988</th>\n",
       "      <th>1989</th>\n",
       "      <th>1990</th>\n",
       "      <th>1997</th>\n",
       "      <th>1999</th>\n",
       "      <th>sum</th>\n",
       "    </tr>\n",
       "  </thead>\n",
       "  <tbody>\n",
       "    <tr>\n",
       "      <th>1382</th>\n",
       "      <td>0.066455</td>\n",
       "      <td>0.059317</td>\n",
       "      <td>0.066353</td>\n",
       "      <td>0.064223</td>\n",
       "      <td>0.067744</td>\n",
       "      <td>0.069635</td>\n",
       "      <td>0.06631</td>\n",
       "      <td>0.070747</td>\n",
       "      <td>0.058631</td>\n",
       "      <td>0.065247</td>\n",
       "      <td>...</td>\n",
       "      <td>0.061681</td>\n",
       "      <td>0.061085</td>\n",
       "      <td>0.064252</td>\n",
       "      <td>0.075826</td>\n",
       "      <td>0.066238</td>\n",
       "      <td>0.068677</td>\n",
       "      <td>0.061516</td>\n",
       "      <td>0.06286</td>\n",
       "      <td>0.073952</td>\n",
       "      <td>57.980701</td>\n",
       "    </tr>\n",
       "  </tbody>\n",
       "</table>\n",
       "<p>1 rows × 880 columns</p>\n",
       "</div>"
      ],
      "text/plain": [
       "             2         4         6         8         9        11       12  \\\n",
       "1382  0.066455  0.059317  0.066353  0.064223  0.067744  0.069635  0.06631   \n",
       "\n",
       "            13        14        17  ...      1982      1983      1985  \\\n",
       "1382  0.070747  0.058631  0.065247  ...  0.061681  0.061085  0.064252   \n",
       "\n",
       "          1987      1988      1989      1990     1997      1999        sum  \n",
       "1382  0.075826  0.066238  0.068677  0.061516  0.06286  0.073952  57.980701  \n",
       "\n",
       "[1 rows x 880 columns]"
      ]
     },
     "execution_count": 93,
     "metadata": {},
     "output_type": "execute_result"
    }
   ],
   "source": [
    "cluster3[cluster3['sum']==cluster3['sum'].max()]"
   ]
  },
  {
   "cell_type": "code",
   "execution_count": 94,
   "metadata": {},
   "outputs": [
    {
     "data": {
      "text/plain": [
       "938"
      ]
     },
     "execution_count": 94,
     "metadata": {},
     "output_type": "execute_result"
    }
   ],
   "source": [
    "random.choice(cluster3.index)"
   ]
  },
  {
   "cell_type": "code",
   "execution_count": 95,
   "metadata": {},
   "outputs": [],
   "source": [
    "ooi_3 = distance[clustering.labels_==3]\n",
    "ooi_31 = ooi_3.T\n",
    "cluster4 = ooi_31[clustering.labels_==3]\n",
    "cluster4 = cluster4.T"
   ]
  },
  {
   "cell_type": "code",
   "execution_count": 96,
   "metadata": {},
   "outputs": [
    {
     "data": {
      "text/html": [
       "<div>\n",
       "<style scoped>\n",
       "    .dataframe tbody tr th:only-of-type {\n",
       "        vertical-align: middle;\n",
       "    }\n",
       "\n",
       "    .dataframe tbody tr th {\n",
       "        vertical-align: top;\n",
       "    }\n",
       "\n",
       "    .dataframe thead th {\n",
       "        text-align: right;\n",
       "    }\n",
       "</style>\n",
       "<table border=\"1\" class=\"dataframe\">\n",
       "  <thead>\n",
       "    <tr style=\"text-align: right;\">\n",
       "      <th></th>\n",
       "      <th>1995</th>\n",
       "      <th>sum</th>\n",
       "    </tr>\n",
       "  </thead>\n",
       "  <tbody>\n",
       "    <tr>\n",
       "      <th>1995</th>\n",
       "      <td>0.0</td>\n",
       "      <td>0.0</td>\n",
       "    </tr>\n",
       "  </tbody>\n",
       "</table>\n",
       "</div>"
      ],
      "text/plain": [
       "      1995  sum\n",
       "1995   0.0  0.0"
      ]
     },
     "execution_count": 96,
     "metadata": {},
     "output_type": "execute_result"
    }
   ],
   "source": [
    "cluster4"
   ]
  },
  {
   "cell_type": "markdown",
   "metadata": {},
   "source": [
    "#### Distribution 4"
   ]
  },
  {
   "cell_type": "markdown",
   "metadata": {},
   "source": [
    "MDS = 6 is not chosen mainly becasue the resulted clusters are too similar to those of MDS = 4"
   ]
  },
  {
   "cell_type": "code",
   "execution_count": 117,
   "metadata": {},
   "outputs": [],
   "source": [
    "model = MDS(n_components=9, dissimilarity='precomputed', random_state=1, metric=False)\n",
    "out = model.fit_transform(distance)\n",
    "clustering = AgglomerativeClustering(n_clusters=4, affinity='euclidean', linkage='average').fit(out)"
   ]
  },
  {
   "cell_type": "code",
   "execution_count": 118,
   "metadata": {},
   "outputs": [
    {
     "data": {
      "text/plain": [
       "(array([0, 1, 2, 3], dtype=int64), array([870, 619, 510,   1], dtype=int64))"
      ]
     },
     "execution_count": 118,
     "metadata": {},
     "output_type": "execute_result"
    }
   ],
   "source": [
    "np.unique(clustering.labels_, return_counts=True)"
   ]
  },
  {
   "cell_type": "code",
   "execution_count": 133,
   "metadata": {},
   "outputs": [],
   "source": [
    "ooi_0 = distance[clustering.labels_==0] \n",
    "ooi_01 = ooi_0.T\n",
    "cluster1 = ooi_01[clustering.labels_==0] \n",
    "cluster1 = cluster1.T # Kappa values for each pair comparison\n",
    "arr1 = cluster1.to_numpy()\n",
    "# To calculate the kappa index for each map \n",
    "cluster1['sum'] = cluster1.sum(axis=1)"
   ]
  },
  {
   "cell_type": "code",
   "execution_count": 134,
   "metadata": {},
   "outputs": [
    {
     "data": {
      "text/html": [
       "<div>\n",
       "<style scoped>\n",
       "    .dataframe tbody tr th:only-of-type {\n",
       "        vertical-align: middle;\n",
       "    }\n",
       "\n",
       "    .dataframe tbody tr th {\n",
       "        vertical-align: top;\n",
       "    }\n",
       "\n",
       "    .dataframe thead th {\n",
       "        text-align: right;\n",
       "    }\n",
       "</style>\n",
       "<table border=\"1\" class=\"dataframe\">\n",
       "  <thead>\n",
       "    <tr style=\"text-align: right;\">\n",
       "      <th></th>\n",
       "      <th>1</th>\n",
       "      <th>2</th>\n",
       "      <th>4</th>\n",
       "      <th>6</th>\n",
       "      <th>7</th>\n",
       "      <th>8</th>\n",
       "      <th>9</th>\n",
       "      <th>10</th>\n",
       "      <th>11</th>\n",
       "      <th>12</th>\n",
       "      <th>...</th>\n",
       "      <th>1966</th>\n",
       "      <th>1967</th>\n",
       "      <th>1969</th>\n",
       "      <th>1971</th>\n",
       "      <th>1976</th>\n",
       "      <th>1981</th>\n",
       "      <th>1991</th>\n",
       "      <th>1992</th>\n",
       "      <th>1993</th>\n",
       "      <th>sum</th>\n",
       "    </tr>\n",
       "  </thead>\n",
       "  <tbody>\n",
       "    <tr>\n",
       "      <th>1338</th>\n",
       "      <td>0.052996</td>\n",
       "      <td>0.055731</td>\n",
       "      <td>0.055834</td>\n",
       "      <td>0.053914</td>\n",
       "      <td>0.054211</td>\n",
       "      <td>0.059319</td>\n",
       "      <td>0.05634</td>\n",
       "      <td>0.055418</td>\n",
       "      <td>0.053126</td>\n",
       "      <td>0.055606</td>\n",
       "      <td>...</td>\n",
       "      <td>0.057346</td>\n",
       "      <td>0.057233</td>\n",
       "      <td>0.054057</td>\n",
       "      <td>0.058393</td>\n",
       "      <td>0.059438</td>\n",
       "      <td>0.054922</td>\n",
       "      <td>0.053683</td>\n",
       "      <td>0.055128</td>\n",
       "      <td>0.053822</td>\n",
       "      <td>48.931033</td>\n",
       "    </tr>\n",
       "  </tbody>\n",
       "</table>\n",
       "<p>1 rows × 871 columns</p>\n",
       "</div>"
      ],
      "text/plain": [
       "             1         2         4         6         7         8        9  \\\n",
       "1338  0.052996  0.055731  0.055834  0.053914  0.054211  0.059319  0.05634   \n",
       "\n",
       "            10        11        12  ...      1966      1967      1969  \\\n",
       "1338  0.055418  0.053126  0.055606  ...  0.057346  0.057233  0.054057   \n",
       "\n",
       "          1971      1976      1981      1991      1992      1993        sum  \n",
       "1338  0.058393  0.059438  0.054922  0.053683  0.055128  0.053822  48.931033  \n",
       "\n",
       "[1 rows x 871 columns]"
      ]
     },
     "execution_count": 134,
     "metadata": {},
     "output_type": "execute_result"
    }
   ],
   "source": [
    "cluster1[cluster1['sum']==cluster1['sum'].min()]"
   ]
  },
  {
   "cell_type": "code",
   "execution_count": 135,
   "metadata": {},
   "outputs": [
    {
     "data": {
      "text/html": [
       "<div>\n",
       "<style scoped>\n",
       "    .dataframe tbody tr th:only-of-type {\n",
       "        vertical-align: middle;\n",
       "    }\n",
       "\n",
       "    .dataframe tbody tr th {\n",
       "        vertical-align: top;\n",
       "    }\n",
       "\n",
       "    .dataframe thead th {\n",
       "        text-align: right;\n",
       "    }\n",
       "</style>\n",
       "<table border=\"1\" class=\"dataframe\">\n",
       "  <thead>\n",
       "    <tr style=\"text-align: right;\">\n",
       "      <th></th>\n",
       "      <th>1</th>\n",
       "      <th>2</th>\n",
       "      <th>4</th>\n",
       "      <th>6</th>\n",
       "      <th>7</th>\n",
       "      <th>8</th>\n",
       "      <th>9</th>\n",
       "      <th>10</th>\n",
       "      <th>11</th>\n",
       "      <th>12</th>\n",
       "      <th>...</th>\n",
       "      <th>1966</th>\n",
       "      <th>1967</th>\n",
       "      <th>1969</th>\n",
       "      <th>1971</th>\n",
       "      <th>1976</th>\n",
       "      <th>1981</th>\n",
       "      <th>1991</th>\n",
       "      <th>1992</th>\n",
       "      <th>1993</th>\n",
       "      <th>sum</th>\n",
       "    </tr>\n",
       "  </thead>\n",
       "  <tbody>\n",
       "    <tr>\n",
       "      <th>1382</th>\n",
       "      <td>0.061785</td>\n",
       "      <td>0.066455</td>\n",
       "      <td>0.059317</td>\n",
       "      <td>0.066353</td>\n",
       "      <td>0.070478</td>\n",
       "      <td>0.064223</td>\n",
       "      <td>0.067744</td>\n",
       "      <td>0.068334</td>\n",
       "      <td>0.069635</td>\n",
       "      <td>0.06631</td>\n",
       "      <td>...</td>\n",
       "      <td>0.070395</td>\n",
       "      <td>0.068651</td>\n",
       "      <td>0.068145</td>\n",
       "      <td>0.068771</td>\n",
       "      <td>0.066</td>\n",
       "      <td>0.066742</td>\n",
       "      <td>0.066988</td>\n",
       "      <td>0.056557</td>\n",
       "      <td>0.059573</td>\n",
       "      <td>57.264512</td>\n",
       "    </tr>\n",
       "  </tbody>\n",
       "</table>\n",
       "<p>1 rows × 871 columns</p>\n",
       "</div>"
      ],
      "text/plain": [
       "             1         2         4         6         7         8         9  \\\n",
       "1382  0.061785  0.066455  0.059317  0.066353  0.070478  0.064223  0.067744   \n",
       "\n",
       "            10        11       12  ...      1966      1967      1969  \\\n",
       "1382  0.068334  0.069635  0.06631  ...  0.070395  0.068651  0.068145   \n",
       "\n",
       "          1971   1976      1981      1991      1992      1993        sum  \n",
       "1382  0.068771  0.066  0.066742  0.066988  0.056557  0.059573  57.264512  \n",
       "\n",
       "[1 rows x 871 columns]"
      ]
     },
     "execution_count": 135,
     "metadata": {},
     "output_type": "execute_result"
    }
   ],
   "source": [
    "cluster1[cluster1['sum']==cluster1['sum'].max()]"
   ]
  },
  {
   "cell_type": "code",
   "execution_count": null,
   "metadata": {},
   "outputs": [],
   "source": []
  },
  {
   "cell_type": "code",
   "execution_count": 122,
   "metadata": {},
   "outputs": [],
   "source": [
    "ooi_1 = distance[clustering.labels_==1]\n",
    "ooi_11 = ooi_1.T\n",
    "cluster2 = ooi_11[clustering.labels_==1]\n",
    "cluster2 = cluster2.T\n",
    "cluster2['sum'] = cluster2.sum(axis=1)"
   ]
  },
  {
   "cell_type": "code",
   "execution_count": 123,
   "metadata": {},
   "outputs": [
    {
     "data": {
      "text/html": [
       "<div>\n",
       "<style scoped>\n",
       "    .dataframe tbody tr th:only-of-type {\n",
       "        vertical-align: middle;\n",
       "    }\n",
       "\n",
       "    .dataframe tbody tr th {\n",
       "        vertical-align: top;\n",
       "    }\n",
       "\n",
       "    .dataframe thead th {\n",
       "        text-align: right;\n",
       "    }\n",
       "</style>\n",
       "<table border=\"1\" class=\"dataframe\">\n",
       "  <thead>\n",
       "    <tr style=\"text-align: right;\">\n",
       "      <th></th>\n",
       "      <th>0</th>\n",
       "      <th>3</th>\n",
       "      <th>5</th>\n",
       "      <th>13</th>\n",
       "      <th>16</th>\n",
       "      <th>18</th>\n",
       "      <th>19</th>\n",
       "      <th>22</th>\n",
       "      <th>23</th>\n",
       "      <th>26</th>\n",
       "      <th>...</th>\n",
       "      <th>1970</th>\n",
       "      <th>1972</th>\n",
       "      <th>1980</th>\n",
       "      <th>1982</th>\n",
       "      <th>1983</th>\n",
       "      <th>1987</th>\n",
       "      <th>1994</th>\n",
       "      <th>1998</th>\n",
       "      <th>1999</th>\n",
       "      <th>sum</th>\n",
       "    </tr>\n",
       "  </thead>\n",
       "  <tbody>\n",
       "    <tr>\n",
       "      <th>785</th>\n",
       "      <td>0.068309</td>\n",
       "      <td>0.067308</td>\n",
       "      <td>0.062739</td>\n",
       "      <td>0.065816</td>\n",
       "      <td>0.06479</td>\n",
       "      <td>0.064675</td>\n",
       "      <td>0.059915</td>\n",
       "      <td>0.064104</td>\n",
       "      <td>0.067452</td>\n",
       "      <td>0.062814</td>\n",
       "      <td>...</td>\n",
       "      <td>0.059596</td>\n",
       "      <td>0.061777</td>\n",
       "      <td>0.058319</td>\n",
       "      <td>0.065837</td>\n",
       "      <td>0.067475</td>\n",
       "      <td>0.071013</td>\n",
       "      <td>0.064091</td>\n",
       "      <td>0.068715</td>\n",
       "      <td>0.068564</td>\n",
       "      <td>39.875072</td>\n",
       "    </tr>\n",
       "  </tbody>\n",
       "</table>\n",
       "<p>1 rows × 620 columns</p>\n",
       "</div>"
      ],
      "text/plain": [
       "            0         3         5        13       16        18        19  \\\n",
       "785  0.068309  0.067308  0.062739  0.065816  0.06479  0.064675  0.059915   \n",
       "\n",
       "           22        23        26  ...      1970      1972      1980  \\\n",
       "785  0.064104  0.067452  0.062814  ...  0.059596  0.061777  0.058319   \n",
       "\n",
       "         1982      1983      1987      1994      1998      1999        sum  \n",
       "785  0.065837  0.067475  0.071013  0.064091  0.068715  0.068564  39.875072  \n",
       "\n",
       "[1 rows x 620 columns]"
      ]
     },
     "execution_count": 123,
     "metadata": {},
     "output_type": "execute_result"
    }
   ],
   "source": [
    "cluster2[cluster2['sum']==cluster2['sum'].max()]"
   ]
  },
  {
   "cell_type": "code",
   "execution_count": 124,
   "metadata": {},
   "outputs": [
    {
     "data": {
      "text/html": [
       "<div>\n",
       "<style scoped>\n",
       "    .dataframe tbody tr th:only-of-type {\n",
       "        vertical-align: middle;\n",
       "    }\n",
       "\n",
       "    .dataframe tbody tr th {\n",
       "        vertical-align: top;\n",
       "    }\n",
       "\n",
       "    .dataframe thead th {\n",
       "        text-align: right;\n",
       "    }\n",
       "</style>\n",
       "<table border=\"1\" class=\"dataframe\">\n",
       "  <thead>\n",
       "    <tr style=\"text-align: right;\">\n",
       "      <th></th>\n",
       "      <th>0</th>\n",
       "      <th>3</th>\n",
       "      <th>5</th>\n",
       "      <th>13</th>\n",
       "      <th>16</th>\n",
       "      <th>18</th>\n",
       "      <th>19</th>\n",
       "      <th>22</th>\n",
       "      <th>23</th>\n",
       "      <th>26</th>\n",
       "      <th>...</th>\n",
       "      <th>1970</th>\n",
       "      <th>1972</th>\n",
       "      <th>1980</th>\n",
       "      <th>1982</th>\n",
       "      <th>1983</th>\n",
       "      <th>1987</th>\n",
       "      <th>1994</th>\n",
       "      <th>1998</th>\n",
       "      <th>1999</th>\n",
       "      <th>sum</th>\n",
       "    </tr>\n",
       "  </thead>\n",
       "  <tbody>\n",
       "    <tr>\n",
       "      <th>909</th>\n",
       "      <td>0.055576</td>\n",
       "      <td>0.053549</td>\n",
       "      <td>0.055749</td>\n",
       "      <td>0.058362</td>\n",
       "      <td>0.058223</td>\n",
       "      <td>0.056326</td>\n",
       "      <td>0.054847</td>\n",
       "      <td>0.055151</td>\n",
       "      <td>0.058306</td>\n",
       "      <td>0.060097</td>\n",
       "      <td>...</td>\n",
       "      <td>0.055041</td>\n",
       "      <td>0.056959</td>\n",
       "      <td>0.057566</td>\n",
       "      <td>0.057287</td>\n",
       "      <td>0.058308</td>\n",
       "      <td>0.057905</td>\n",
       "      <td>0.055909</td>\n",
       "      <td>0.055642</td>\n",
       "      <td>0.056594</td>\n",
       "      <td>34.730739</td>\n",
       "    </tr>\n",
       "  </tbody>\n",
       "</table>\n",
       "<p>1 rows × 620 columns</p>\n",
       "</div>"
      ],
      "text/plain": [
       "            0         3         5        13        16        18        19  \\\n",
       "909  0.055576  0.053549  0.055749  0.058362  0.058223  0.056326  0.054847   \n",
       "\n",
       "           22        23        26  ...      1970      1972      1980  \\\n",
       "909  0.055151  0.058306  0.060097  ...  0.055041  0.056959  0.057566   \n",
       "\n",
       "         1982      1983      1987      1994      1998      1999        sum  \n",
       "909  0.057287  0.058308  0.057905  0.055909  0.055642  0.056594  34.730739  \n",
       "\n",
       "[1 rows x 620 columns]"
      ]
     },
     "execution_count": 124,
     "metadata": {},
     "output_type": "execute_result"
    }
   ],
   "source": [
    "cluster2[cluster2['sum']==cluster2['sum'].min()]"
   ]
  },
  {
   "cell_type": "code",
   "execution_count": 136,
   "metadata": {},
   "outputs": [
    {
     "data": {
      "text/plain": [
       "1875"
      ]
     },
     "execution_count": 136,
     "metadata": {},
     "output_type": "execute_result"
    }
   ],
   "source": [
    "random.choice(cluster2.index)"
   ]
  },
  {
   "cell_type": "code",
   "execution_count": 137,
   "metadata": {},
   "outputs": [],
   "source": [
    "ooi_2 = distance[clustering.labels_==2]\n",
    "ooi_21 = ooi_2.T\n",
    "cluster3 = ooi_21[clustering.labels_==2]\n",
    "cluster3 = cluster3.T\n",
    "cluster3['sum'] = cluster3.sum(axis=1)"
   ]
  },
  {
   "cell_type": "code",
   "execution_count": 138,
   "metadata": {},
   "outputs": [
    {
     "data": {
      "text/html": [
       "<div>\n",
       "<style scoped>\n",
       "    .dataframe tbody tr th:only-of-type {\n",
       "        vertical-align: middle;\n",
       "    }\n",
       "\n",
       "    .dataframe tbody tr th {\n",
       "        vertical-align: top;\n",
       "    }\n",
       "\n",
       "    .dataframe thead th {\n",
       "        text-align: right;\n",
       "    }\n",
       "</style>\n",
       "<table border=\"1\" class=\"dataframe\">\n",
       "  <thead>\n",
       "    <tr style=\"text-align: right;\">\n",
       "      <th></th>\n",
       "      <th>14</th>\n",
       "      <th>17</th>\n",
       "      <th>21</th>\n",
       "      <th>27</th>\n",
       "      <th>35</th>\n",
       "      <th>38</th>\n",
       "      <th>39</th>\n",
       "      <th>40</th>\n",
       "      <th>51</th>\n",
       "      <th>53</th>\n",
       "      <th>...</th>\n",
       "      <th>1984</th>\n",
       "      <th>1985</th>\n",
       "      <th>1986</th>\n",
       "      <th>1988</th>\n",
       "      <th>1989</th>\n",
       "      <th>1990</th>\n",
       "      <th>1995</th>\n",
       "      <th>1996</th>\n",
       "      <th>1997</th>\n",
       "      <th>sum</th>\n",
       "    </tr>\n",
       "  </thead>\n",
       "  <tbody>\n",
       "    <tr>\n",
       "      <th>1131</th>\n",
       "      <td>0.056529</td>\n",
       "      <td>0.054189</td>\n",
       "      <td>0.050827</td>\n",
       "      <td>0.052482</td>\n",
       "      <td>0.055062</td>\n",
       "      <td>0.054738</td>\n",
       "      <td>0.054987</td>\n",
       "      <td>0.052471</td>\n",
       "      <td>0.053922</td>\n",
       "      <td>0.053547</td>\n",
       "      <td>...</td>\n",
       "      <td>0.052818</td>\n",
       "      <td>0.056171</td>\n",
       "      <td>0.053573</td>\n",
       "      <td>0.057019</td>\n",
       "      <td>0.053582</td>\n",
       "      <td>0.058173</td>\n",
       "      <td>0.055687</td>\n",
       "      <td>0.055487</td>\n",
       "      <td>0.055805</td>\n",
       "      <td>28.479815</td>\n",
       "    </tr>\n",
       "  </tbody>\n",
       "</table>\n",
       "<p>1 rows × 511 columns</p>\n",
       "</div>"
      ],
      "text/plain": [
       "            14        17        21        27        35        38        39  \\\n",
       "1131  0.056529  0.054189  0.050827  0.052482  0.055062  0.054738  0.054987   \n",
       "\n",
       "            40        51        53  ...      1984      1985      1986  \\\n",
       "1131  0.052471  0.053922  0.053547  ...  0.052818  0.056171  0.053573   \n",
       "\n",
       "          1988      1989      1990      1995      1996      1997        sum  \n",
       "1131  0.057019  0.053582  0.058173  0.055687  0.055487  0.055805  28.479815  \n",
       "\n",
       "[1 rows x 511 columns]"
      ]
     },
     "execution_count": 138,
     "metadata": {},
     "output_type": "execute_result"
    }
   ],
   "source": [
    "cluster3[cluster3['sum']==cluster3['sum'].min()]"
   ]
  },
  {
   "cell_type": "code",
   "execution_count": 139,
   "metadata": {},
   "outputs": [
    {
     "data": {
      "text/html": [
       "<div>\n",
       "<style scoped>\n",
       "    .dataframe tbody tr th:only-of-type {\n",
       "        vertical-align: middle;\n",
       "    }\n",
       "\n",
       "    .dataframe tbody tr th {\n",
       "        vertical-align: top;\n",
       "    }\n",
       "\n",
       "    .dataframe thead th {\n",
       "        text-align: right;\n",
       "    }\n",
       "</style>\n",
       "<table border=\"1\" class=\"dataframe\">\n",
       "  <thead>\n",
       "    <tr style=\"text-align: right;\">\n",
       "      <th></th>\n",
       "      <th>14</th>\n",
       "      <th>17</th>\n",
       "      <th>21</th>\n",
       "      <th>27</th>\n",
       "      <th>35</th>\n",
       "      <th>38</th>\n",
       "      <th>39</th>\n",
       "      <th>40</th>\n",
       "      <th>51</th>\n",
       "      <th>53</th>\n",
       "      <th>...</th>\n",
       "      <th>1984</th>\n",
       "      <th>1985</th>\n",
       "      <th>1986</th>\n",
       "      <th>1988</th>\n",
       "      <th>1989</th>\n",
       "      <th>1990</th>\n",
       "      <th>1995</th>\n",
       "      <th>1996</th>\n",
       "      <th>1997</th>\n",
       "      <th>sum</th>\n",
       "    </tr>\n",
       "  </thead>\n",
       "  <tbody>\n",
       "    <tr>\n",
       "      <th>1949</th>\n",
       "      <td>0.055501</td>\n",
       "      <td>0.064295</td>\n",
       "      <td>0.061682</td>\n",
       "      <td>0.065125</td>\n",
       "      <td>0.068129</td>\n",
       "      <td>0.066938</td>\n",
       "      <td>0.071384</td>\n",
       "      <td>0.063548</td>\n",
       "      <td>0.062682</td>\n",
       "      <td>0.064582</td>\n",
       "      <td>...</td>\n",
       "      <td>0.064214</td>\n",
       "      <td>0.064764</td>\n",
       "      <td>0.062076</td>\n",
       "      <td>0.067318</td>\n",
       "      <td>0.068078</td>\n",
       "      <td>0.061223</td>\n",
       "      <td>0.064821</td>\n",
       "      <td>0.064164</td>\n",
       "      <td>0.061207</td>\n",
       "      <td>33.550786</td>\n",
       "    </tr>\n",
       "  </tbody>\n",
       "</table>\n",
       "<p>1 rows × 511 columns</p>\n",
       "</div>"
      ],
      "text/plain": [
       "            14        17        21        27        35        38        39  \\\n",
       "1949  0.055501  0.064295  0.061682  0.065125  0.068129  0.066938  0.071384   \n",
       "\n",
       "            40        51        53  ...      1984      1985      1986  \\\n",
       "1949  0.063548  0.062682  0.064582  ...  0.064214  0.064764  0.062076   \n",
       "\n",
       "          1988      1989      1990      1995      1996      1997        sum  \n",
       "1949  0.067318  0.068078  0.061223  0.064821  0.064164  0.061207  33.550786  \n",
       "\n",
       "[1 rows x 511 columns]"
      ]
     },
     "execution_count": 139,
     "metadata": {},
     "output_type": "execute_result"
    }
   ],
   "source": [
    "cluster3[cluster3['sum']==cluster3['sum'].max()]"
   ]
  },
  {
   "cell_type": "code",
   "execution_count": 140,
   "metadata": {},
   "outputs": [
    {
     "data": {
      "text/plain": [
       "1951"
      ]
     },
     "execution_count": 140,
     "metadata": {},
     "output_type": "execute_result"
    }
   ],
   "source": [
    "random.choice(cluster3.index)"
   ]
  },
  {
   "cell_type": "code",
   "execution_count": 130,
   "metadata": {},
   "outputs": [],
   "source": [
    "ooi_3 = distance[clustering.labels_==3]"
   ]
  },
  {
   "cell_type": "code",
   "execution_count": 131,
   "metadata": {},
   "outputs": [
    {
     "data": {
      "text/html": [
       "<div>\n",
       "<style scoped>\n",
       "    .dataframe tbody tr th:only-of-type {\n",
       "        vertical-align: middle;\n",
       "    }\n",
       "\n",
       "    .dataframe tbody tr th {\n",
       "        vertical-align: top;\n",
       "    }\n",
       "\n",
       "    .dataframe thead th {\n",
       "        text-align: right;\n",
       "    }\n",
       "</style>\n",
       "<table border=\"1\" class=\"dataframe\">\n",
       "  <thead>\n",
       "    <tr style=\"text-align: right;\">\n",
       "      <th></th>\n",
       "      <th>0</th>\n",
       "      <th>1</th>\n",
       "      <th>2</th>\n",
       "      <th>3</th>\n",
       "      <th>4</th>\n",
       "      <th>5</th>\n",
       "      <th>6</th>\n",
       "      <th>7</th>\n",
       "      <th>8</th>\n",
       "      <th>9</th>\n",
       "      <th>...</th>\n",
       "      <th>1990</th>\n",
       "      <th>1991</th>\n",
       "      <th>1992</th>\n",
       "      <th>1993</th>\n",
       "      <th>1994</th>\n",
       "      <th>1995</th>\n",
       "      <th>1996</th>\n",
       "      <th>1997</th>\n",
       "      <th>1998</th>\n",
       "      <th>1999</th>\n",
       "    </tr>\n",
       "  </thead>\n",
       "  <tbody>\n",
       "    <tr>\n",
       "      <th>1964</th>\n",
       "      <td>0.060523</td>\n",
       "      <td>0.056956</td>\n",
       "      <td>0.060335</td>\n",
       "      <td>0.056519</td>\n",
       "      <td>0.06227</td>\n",
       "      <td>0.058116</td>\n",
       "      <td>0.059546</td>\n",
       "      <td>0.053828</td>\n",
       "      <td>0.062133</td>\n",
       "      <td>0.061832</td>\n",
       "      <td>...</td>\n",
       "      <td>0.063984</td>\n",
       "      <td>0.058336</td>\n",
       "      <td>0.062403</td>\n",
       "      <td>0.059009</td>\n",
       "      <td>0.056881</td>\n",
       "      <td>0.058536</td>\n",
       "      <td>0.059121</td>\n",
       "      <td>0.05932</td>\n",
       "      <td>0.059889</td>\n",
       "      <td>0.060043</td>\n",
       "    </tr>\n",
       "  </tbody>\n",
       "</table>\n",
       "<p>1 rows × 2000 columns</p>\n",
       "</div>"
      ],
      "text/plain": [
       "             0         1         2         3        4         5         6  \\\n",
       "1964  0.060523  0.056956  0.060335  0.056519  0.06227  0.058116  0.059546   \n",
       "\n",
       "             7         8         9  ...      1990      1991      1992  \\\n",
       "1964  0.053828  0.062133  0.061832  ...  0.063984  0.058336  0.062403   \n",
       "\n",
       "          1993      1994      1995      1996     1997      1998      1999  \n",
       "1964  0.059009  0.056881  0.058536  0.059121  0.05932  0.059889  0.060043  \n",
       "\n",
       "[1 rows x 2000 columns]"
      ]
     },
     "execution_count": 131,
     "metadata": {},
     "output_type": "execute_result"
    }
   ],
   "source": [
    "ooi_3"
   ]
  },
  {
   "cell_type": "markdown",
   "metadata": {},
   "source": [
    "#### Distribution 5"
   ]
  },
  {
   "cell_type": "code",
   "execution_count": 28,
   "metadata": {},
   "outputs": [],
   "source": [
    "clustering = AgglomerativeClustering(n_clusters=10, affinity='precomputed', linkage='average').fit(distance)"
   ]
  },
  {
   "cell_type": "code",
   "execution_count": 29,
   "metadata": {},
   "outputs": [
    {
     "data": {
      "text/plain": [
       "(array([0, 1, 2, 3, 4, 5, 6, 7, 8, 9], dtype=int64),\n",
       " array([428,   5, 602,   6, 951,   1,   1,   2,   2,   2], dtype=int64))"
      ]
     },
     "execution_count": 29,
     "metadata": {},
     "output_type": "execute_result"
    }
   ],
   "source": [
    "np.unique(clustering.labels_, return_counts=True)"
   ]
  },
  {
   "cell_type": "code",
   "execution_count": 38,
   "metadata": {},
   "outputs": [],
   "source": [
    "ooi_0 = distance[clustering.labels_==0] \n",
    "ooi_01 = ooi_0.T\n",
    "cluster1 = ooi_01[clustering.labels_==0] \n",
    "cluster1 = cluster1.T # Kappa values for each pair comparison\n",
    "arr1 = cluster1.to_numpy()\n",
    "# To calculate the kappa index for each map \n",
    "cluster1['sum'] = cluster1.min(axis=1)"
   ]
  },
  {
   "cell_type": "code",
   "execution_count": 39,
   "metadata": {},
   "outputs": [
    {
     "data": {
      "text/html": [
       "<div>\n",
       "<style scoped>\n",
       "    .dataframe tbody tr th:only-of-type {\n",
       "        vertical-align: middle;\n",
       "    }\n",
       "\n",
       "    .dataframe tbody tr th {\n",
       "        vertical-align: top;\n",
       "    }\n",
       "\n",
       "    .dataframe thead th {\n",
       "        text-align: right;\n",
       "    }\n",
       "</style>\n",
       "<table border=\"1\" class=\"dataframe\">\n",
       "  <thead>\n",
       "    <tr style=\"text-align: right;\">\n",
       "      <th></th>\n",
       "      <th>15</th>\n",
       "      <th>18</th>\n",
       "      <th>19</th>\n",
       "      <th>20</th>\n",
       "      <th>26</th>\n",
       "      <th>32</th>\n",
       "      <th>34</th>\n",
       "      <th>49</th>\n",
       "      <th>50</th>\n",
       "      <th>51</th>\n",
       "      <th>...</th>\n",
       "      <th>1943</th>\n",
       "      <th>1946</th>\n",
       "      <th>1947</th>\n",
       "      <th>1949</th>\n",
       "      <th>1954</th>\n",
       "      <th>1975</th>\n",
       "      <th>1984</th>\n",
       "      <th>1990</th>\n",
       "      <th>1995</th>\n",
       "      <th>sum</th>\n",
       "    </tr>\n",
       "  </thead>\n",
       "  <tbody>\n",
       "    <tr>\n",
       "      <th>611</th>\n",
       "      <td>0.054441</td>\n",
       "      <td>0.058534</td>\n",
       "      <td>0.054773</td>\n",
       "      <td>0.054224</td>\n",
       "      <td>0.059455</td>\n",
       "      <td>0.057937</td>\n",
       "      <td>0.056416</td>\n",
       "      <td>0.059386</td>\n",
       "      <td>0.058063</td>\n",
       "      <td>0.053804</td>\n",
       "      <td>...</td>\n",
       "      <td>0.056092</td>\n",
       "      <td>0.051568</td>\n",
       "      <td>0.054142</td>\n",
       "      <td>0.061182</td>\n",
       "      <td>0.057590</td>\n",
       "      <td>0.056378</td>\n",
       "      <td>0.052270</td>\n",
       "      <td>0.061564</td>\n",
       "      <td>0.054930</td>\n",
       "      <td>-2.220446e-16</td>\n",
       "    </tr>\n",
       "    <tr>\n",
       "      <th>1288</th>\n",
       "      <td>0.055217</td>\n",
       "      <td>0.058713</td>\n",
       "      <td>0.054689</td>\n",
       "      <td>0.054736</td>\n",
       "      <td>0.059794</td>\n",
       "      <td>0.058088</td>\n",
       "      <td>0.058503</td>\n",
       "      <td>0.057075</td>\n",
       "      <td>0.057472</td>\n",
       "      <td>0.054628</td>\n",
       "      <td>...</td>\n",
       "      <td>0.055168</td>\n",
       "      <td>0.050360</td>\n",
       "      <td>0.052241</td>\n",
       "      <td>0.060772</td>\n",
       "      <td>0.057617</td>\n",
       "      <td>0.056530</td>\n",
       "      <td>0.054308</td>\n",
       "      <td>0.060974</td>\n",
       "      <td>0.056448</td>\n",
       "      <td>-2.220446e-16</td>\n",
       "    </tr>\n",
       "  </tbody>\n",
       "</table>\n",
       "<p>2 rows × 429 columns</p>\n",
       "</div>"
      ],
      "text/plain": [
       "            15        18        19        20        26        32        34  \\\n",
       "611   0.054441  0.058534  0.054773  0.054224  0.059455  0.057937  0.056416   \n",
       "1288  0.055217  0.058713  0.054689  0.054736  0.059794  0.058088  0.058503   \n",
       "\n",
       "            49        50        51  ...      1943      1946      1947  \\\n",
       "611   0.059386  0.058063  0.053804  ...  0.056092  0.051568  0.054142   \n",
       "1288  0.057075  0.057472  0.054628  ...  0.055168  0.050360  0.052241   \n",
       "\n",
       "          1949      1954      1975      1984      1990      1995           sum  \n",
       "611   0.061182  0.057590  0.056378  0.052270  0.061564  0.054930 -2.220446e-16  \n",
       "1288  0.060772  0.057617  0.056530  0.054308  0.060974  0.056448 -2.220446e-16  \n",
       "\n",
       "[2 rows x 429 columns]"
      ]
     },
     "execution_count": 39,
     "metadata": {},
     "output_type": "execute_result"
    }
   ],
   "source": [
    "cluster1[cluster1['sum']==cluster1['sum'].min()]"
   ]
  },
  {
   "cell_type": "code",
   "execution_count": 129,
   "metadata": {},
   "outputs": [
    {
     "data": {
      "text/html": [
       "<div>\n",
       "<style scoped>\n",
       "    .dataframe tbody tr th:only-of-type {\n",
       "        vertical-align: middle;\n",
       "    }\n",
       "\n",
       "    .dataframe tbody tr th {\n",
       "        vertical-align: top;\n",
       "    }\n",
       "\n",
       "    .dataframe thead th {\n",
       "        text-align: right;\n",
       "    }\n",
       "</style>\n",
       "<table border=\"1\" class=\"dataframe\">\n",
       "  <thead>\n",
       "    <tr style=\"text-align: right;\">\n",
       "      <th></th>\n",
       "      <th>0</th>\n",
       "      <th>1</th>\n",
       "      <th>2</th>\n",
       "      <th>3</th>\n",
       "      <th>4</th>\n",
       "      <th>5</th>\n",
       "      <th>6</th>\n",
       "      <th>7</th>\n",
       "      <th>8</th>\n",
       "      <th>9</th>\n",
       "      <th>...</th>\n",
       "      <th>1990</th>\n",
       "      <th>1991</th>\n",
       "      <th>1992</th>\n",
       "      <th>1993</th>\n",
       "      <th>1994</th>\n",
       "      <th>1995</th>\n",
       "      <th>1996</th>\n",
       "      <th>1997</th>\n",
       "      <th>1998</th>\n",
       "      <th>1999</th>\n",
       "    </tr>\n",
       "  </thead>\n",
       "  <tbody>\n",
       "    <tr>\n",
       "      <th>1964</th>\n",
       "      <td>0.060523</td>\n",
       "      <td>0.056956</td>\n",
       "      <td>0.060335</td>\n",
       "      <td>0.056519</td>\n",
       "      <td>0.06227</td>\n",
       "      <td>0.058116</td>\n",
       "      <td>0.059546</td>\n",
       "      <td>0.053828</td>\n",
       "      <td>0.062133</td>\n",
       "      <td>0.061832</td>\n",
       "      <td>...</td>\n",
       "      <td>0.063984</td>\n",
       "      <td>0.058336</td>\n",
       "      <td>0.062403</td>\n",
       "      <td>0.059009</td>\n",
       "      <td>0.056881</td>\n",
       "      <td>0.058536</td>\n",
       "      <td>0.059121</td>\n",
       "      <td>0.05932</td>\n",
       "      <td>0.059889</td>\n",
       "      <td>0.060043</td>\n",
       "    </tr>\n",
       "  </tbody>\n",
       "</table>\n",
       "<p>1 rows × 2000 columns</p>\n",
       "</div>"
      ],
      "text/plain": [
       "             0         1         2         3        4         5         6  \\\n",
       "1964  0.060523  0.056956  0.060335  0.056519  0.06227  0.058116  0.059546   \n",
       "\n",
       "             7         8         9  ...      1990      1991      1992  \\\n",
       "1964  0.053828  0.062133  0.061832  ...  0.063984  0.058336  0.062403   \n",
       "\n",
       "          1993      1994      1995      1996     1997      1998      1999  \n",
       "1964  0.059009  0.056881  0.058536  0.059121  0.05932  0.059889  0.060043  \n",
       "\n",
       "[1 rows x 2000 columns]"
      ]
     },
     "execution_count": 129,
     "metadata": {},
     "output_type": "execute_result"
    }
   ],
   "source": [
    "ooi_3"
   ]
  },
  {
   "cell_type": "markdown",
   "metadata": {},
   "source": [
    "### Analysis - Scenario Discovery"
   ]
  },
  {
   "cell_type": "code",
   "execution_count": 28,
   "metadata": {},
   "outputs": [
    {
     "data": {
      "text/plain": [
       "<Logger EMA (DEBUG)>"
      ]
     },
     "execution_count": 28,
     "metadata": {},
     "output_type": "execute_result"
    }
   ],
   "source": [
    "from ema_workbench import ema_logging\n",
    "from ema_workbench.analysis import prim\n",
    "\n",
    "ema_logging.log_to_stderr(ema_logging.INFO)"
   ]
  },
  {
   "cell_type": "code",
   "execution_count": 20,
   "metadata": {},
   "outputs": [],
   "source": [
    "clustering = AgglomerativeClustering(n_clusters=3,affinity='precomputed', linkage='complete').fit(distance)"
   ]
  },
  {
   "cell_type": "code",
   "execution_count": 49,
   "metadata": {},
   "outputs": [],
   "source": [
    "clustering = AgglomerativeClustering(n_clusters=6,affinity='precomputed', linkage='average').fit(distance)"
   ]
  },
  {
   "cell_type": "code",
   "execution_count": 51,
   "metadata": {},
   "outputs": [
    {
     "name": "stderr",
     "output_type": "stream",
     "text": [
      "[MainProcess/INFO] policy dropped from analysis because only a single category\n",
      "[MainProcess/INFO] model dropped from analysis because only a single category\n",
      "[MainProcess/INFO] 2000 points remaining, containing 962 cases of interest\n",
      "[MainProcess/INFO] mean: 1.0, mass: 0.097, coverage: 0.20166320166320167, density: 1.0 restricted_dimensions: 6\n"
     ]
    },
    {
     "data": {
      "text/html": [
       "<div>\n",
       "<style scoped>\n",
       "    .dataframe tbody tr th:only-of-type {\n",
       "        vertical-align: middle;\n",
       "    }\n",
       "\n",
       "    .dataframe tbody tr th {\n",
       "        vertical-align: top;\n",
       "    }\n",
       "\n",
       "    .dataframe thead th {\n",
       "        text-align: right;\n",
       "    }\n",
       "</style>\n",
       "<table border=\"1\" class=\"dataframe\">\n",
       "  <thead>\n",
       "    <tr style=\"text-align: right;\">\n",
       "      <th></th>\n",
       "      <th>coverage</th>\n",
       "      <th>density</th>\n",
       "      <th>id</th>\n",
       "      <th>mass</th>\n",
       "      <th>mean</th>\n",
       "      <th>res_dim</th>\n",
       "    </tr>\n",
       "  </thead>\n",
       "  <tbody>\n",
       "    <tr>\n",
       "      <th>0</th>\n",
       "      <td>1.000000</td>\n",
       "      <td>0.481000</td>\n",
       "      <td>0</td>\n",
       "      <td>1.0000</td>\n",
       "      <td>0.481000</td>\n",
       "      <td>0</td>\n",
       "    </tr>\n",
       "    <tr>\n",
       "      <th>1</th>\n",
       "      <td>0.972973</td>\n",
       "      <td>0.520000</td>\n",
       "      <td>1</td>\n",
       "      <td>0.9000</td>\n",
       "      <td>0.520000</td>\n",
       "      <td>1</td>\n",
       "    </tr>\n",
       "    <tr>\n",
       "      <th>2</th>\n",
       "      <td>0.944906</td>\n",
       "      <td>0.561111</td>\n",
       "      <td>2</td>\n",
       "      <td>0.8100</td>\n",
       "      <td>0.561111</td>\n",
       "      <td>1</td>\n",
       "    </tr>\n",
       "    <tr>\n",
       "      <th>3</th>\n",
       "      <td>0.912682</td>\n",
       "      <td>0.602195</td>\n",
       "      <td>3</td>\n",
       "      <td>0.7290</td>\n",
       "      <td>0.602195</td>\n",
       "      <td>1</td>\n",
       "    </tr>\n",
       "    <tr>\n",
       "      <th>4</th>\n",
       "      <td>0.872141</td>\n",
       "      <td>0.639482</td>\n",
       "      <td>4</td>\n",
       "      <td>0.6560</td>\n",
       "      <td>0.639482</td>\n",
       "      <td>2</td>\n",
       "    </tr>\n",
       "    <tr>\n",
       "      <th>5</th>\n",
       "      <td>0.828482</td>\n",
       "      <td>0.675424</td>\n",
       "      <td>5</td>\n",
       "      <td>0.5900</td>\n",
       "      <td>0.675424</td>\n",
       "      <td>2</td>\n",
       "    </tr>\n",
       "    <tr>\n",
       "      <th>6</th>\n",
       "      <td>0.781705</td>\n",
       "      <td>0.708098</td>\n",
       "      <td>6</td>\n",
       "      <td>0.5310</td>\n",
       "      <td>0.708098</td>\n",
       "      <td>3</td>\n",
       "    </tr>\n",
       "    <tr>\n",
       "      <th>7</th>\n",
       "      <td>0.739085</td>\n",
       "      <td>0.744503</td>\n",
       "      <td>7</td>\n",
       "      <td>0.4775</td>\n",
       "      <td>0.744503</td>\n",
       "      <td>3</td>\n",
       "    </tr>\n",
       "    <tr>\n",
       "      <th>8</th>\n",
       "      <td>0.695426</td>\n",
       "      <td>0.778813</td>\n",
       "      <td>8</td>\n",
       "      <td>0.4295</td>\n",
       "      <td>0.778813</td>\n",
       "      <td>3</td>\n",
       "    </tr>\n",
       "    <tr>\n",
       "      <th>9</th>\n",
       "      <td>0.650728</td>\n",
       "      <td>0.809832</td>\n",
       "      <td>9</td>\n",
       "      <td>0.3865</td>\n",
       "      <td>0.809832</td>\n",
       "      <td>4</td>\n",
       "    </tr>\n",
       "    <tr>\n",
       "      <th>10</th>\n",
       "      <td>0.599792</td>\n",
       "      <td>0.830216</td>\n",
       "      <td>10</td>\n",
       "      <td>0.3475</td>\n",
       "      <td>0.830216</td>\n",
       "      <td>4</td>\n",
       "    </tr>\n",
       "    <tr>\n",
       "      <th>11</th>\n",
       "      <td>0.558212</td>\n",
       "      <td>0.859200</td>\n",
       "      <td>11</td>\n",
       "      <td>0.3125</td>\n",
       "      <td>0.859200</td>\n",
       "      <td>4</td>\n",
       "    </tr>\n",
       "    <tr>\n",
       "      <th>12</th>\n",
       "      <td>0.512474</td>\n",
       "      <td>0.877224</td>\n",
       "      <td>12</td>\n",
       "      <td>0.2810</td>\n",
       "      <td>0.877224</td>\n",
       "      <td>4</td>\n",
       "    </tr>\n",
       "    <tr>\n",
       "      <th>13</th>\n",
       "      <td>0.474012</td>\n",
       "      <td>0.902970</td>\n",
       "      <td>13</td>\n",
       "      <td>0.2525</td>\n",
       "      <td>0.902970</td>\n",
       "      <td>4</td>\n",
       "    </tr>\n",
       "    <tr>\n",
       "      <th>14</th>\n",
       "      <td>0.435551</td>\n",
       "      <td>0.922907</td>\n",
       "      <td>14</td>\n",
       "      <td>0.2270</td>\n",
       "      <td>0.922907</td>\n",
       "      <td>4</td>\n",
       "    </tr>\n",
       "    <tr>\n",
       "      <th>15</th>\n",
       "      <td>0.397089</td>\n",
       "      <td>0.936275</td>\n",
       "      <td>15</td>\n",
       "      <td>0.2040</td>\n",
       "      <td>0.936275</td>\n",
       "      <td>4</td>\n",
       "    </tr>\n",
       "    <tr>\n",
       "      <th>16</th>\n",
       "      <td>0.361746</td>\n",
       "      <td>0.948229</td>\n",
       "      <td>16</td>\n",
       "      <td>0.1835</td>\n",
       "      <td>0.948229</td>\n",
       "      <td>4</td>\n",
       "    </tr>\n",
       "    <tr>\n",
       "      <th>17</th>\n",
       "      <td>0.330561</td>\n",
       "      <td>0.963636</td>\n",
       "      <td>17</td>\n",
       "      <td>0.1650</td>\n",
       "      <td>0.963636</td>\n",
       "      <td>4</td>\n",
       "    </tr>\n",
       "    <tr>\n",
       "      <th>18</th>\n",
       "      <td>0.300416</td>\n",
       "      <td>0.973064</td>\n",
       "      <td>18</td>\n",
       "      <td>0.1485</td>\n",
       "      <td>0.973064</td>\n",
       "      <td>4</td>\n",
       "    </tr>\n",
       "    <tr>\n",
       "      <th>19</th>\n",
       "      <td>0.272349</td>\n",
       "      <td>0.981273</td>\n",
       "      <td>19</td>\n",
       "      <td>0.1335</td>\n",
       "      <td>0.981273</td>\n",
       "      <td>4</td>\n",
       "    </tr>\n",
       "    <tr>\n",
       "      <th>20</th>\n",
       "      <td>0.247401</td>\n",
       "      <td>0.991667</td>\n",
       "      <td>20</td>\n",
       "      <td>0.1200</td>\n",
       "      <td>0.991667</td>\n",
       "      <td>5</td>\n",
       "    </tr>\n",
       "    <tr>\n",
       "      <th>21</th>\n",
       "      <td>0.223493</td>\n",
       "      <td>0.995370</td>\n",
       "      <td>21</td>\n",
       "      <td>0.1080</td>\n",
       "      <td>0.995370</td>\n",
       "      <td>5</td>\n",
       "    </tr>\n",
       "    <tr>\n",
       "      <th>22</th>\n",
       "      <td>0.201663</td>\n",
       "      <td>1.000000</td>\n",
       "      <td>22</td>\n",
       "      <td>0.0970</td>\n",
       "      <td>1.000000</td>\n",
       "      <td>6</td>\n",
       "    </tr>\n",
       "  </tbody>\n",
       "</table>\n",
       "</div>"
      ],
      "text/plain": [
       "    coverage   density  id    mass      mean res_dim\n",
       "0   1.000000  0.481000   0  1.0000  0.481000       0\n",
       "1   0.972973  0.520000   1  0.9000  0.520000       1\n",
       "2   0.944906  0.561111   2  0.8100  0.561111       1\n",
       "3   0.912682  0.602195   3  0.7290  0.602195       1\n",
       "4   0.872141  0.639482   4  0.6560  0.639482       2\n",
       "5   0.828482  0.675424   5  0.5900  0.675424       2\n",
       "6   0.781705  0.708098   6  0.5310  0.708098       3\n",
       "7   0.739085  0.744503   7  0.4775  0.744503       3\n",
       "8   0.695426  0.778813   8  0.4295  0.778813       3\n",
       "9   0.650728  0.809832   9  0.3865  0.809832       4\n",
       "10  0.599792  0.830216  10  0.3475  0.830216       4\n",
       "11  0.558212  0.859200  11  0.3125  0.859200       4\n",
       "12  0.512474  0.877224  12  0.2810  0.877224       4\n",
       "13  0.474012  0.902970  13  0.2525  0.902970       4\n",
       "14  0.435551  0.922907  14  0.2270  0.922907       4\n",
       "15  0.397089  0.936275  15  0.2040  0.936275       4\n",
       "16  0.361746  0.948229  16  0.1835  0.948229       4\n",
       "17  0.330561  0.963636  17  0.1650  0.963636       4\n",
       "18  0.300416  0.973064  18  0.1485  0.973064       4\n",
       "19  0.272349  0.981273  19  0.1335  0.981273       4\n",
       "20  0.247401  0.991667  20  0.1200  0.991667       5\n",
       "21  0.223493  0.995370  21  0.1080  0.995370       5\n",
       "22  0.201663  1.000000  22  0.0970  1.000000       6"
      ]
     },
     "execution_count": 51,
     "metadata": {},
     "output_type": "execute_result"
    }
   ],
   "source": [
    "x = experiments\n",
    "y = clustering.labels_== 0\n",
    "\n",
    "prim_obj = prim.Prim(x,y, threshold=0.2, peel_alpha=0.1)\n",
    "box1 = prim_obj.find_box()\n",
    "box1.peeling_trajectory"
   ]
  },
  {
   "cell_type": "code",
   "execution_count": 55,
   "metadata": {},
   "outputs": [
    {
     "data": {
      "image/png": "[encoded data removed]",
      "text/plain": [
       "<Figure size 432x288 with 1 Axes>"
      ]
     },
     "metadata": {
      "needs_background": "light"
     },
     "output_type": "display_data"
    }
   ],
   "source": [
    "box1.inspect(5, style='graph')\n",
    "#plt.savefig('cluster_1_sd_70%.jpeg',bbox_inches='tight', dpi=200)\n",
    "plt.show()"
   ]
  },
  {
   "cell_type": "code",
   "execution_count": 35,
   "metadata": {},
   "outputs": [
    {
     "name": "stderr",
     "output_type": "stream",
     "text": [
      "[MainProcess/INFO] policy dropped from analysis because only a single category\n",
      "[MainProcess/INFO] model dropped from analysis because only a single category\n",
      "[MainProcess/INFO] 2000 points remaining, containing 428 cases of interest\n",
      "[MainProcess/INFO] mean: 0.9841269841269841, mass: 0.063, coverage: 0.2897196261682243, density: 0.9841269841269841 restricted_dimensions: 4\n"
     ]
    },
    {
     "data": {
      "text/html": [
       "<div>\n",
       "<style scoped>\n",
       "    .dataframe tbody tr th:only-of-type {\n",
       "        vertical-align: middle;\n",
       "    }\n",
       "\n",
       "    .dataframe tbody tr th {\n",
       "        vertical-align: top;\n",
       "    }\n",
       "\n",
       "    .dataframe thead th {\n",
       "        text-align: right;\n",
       "    }\n",
       "</style>\n",
       "<table border=\"1\" class=\"dataframe\">\n",
       "  <thead>\n",
       "    <tr style=\"text-align: right;\">\n",
       "      <th></th>\n",
       "      <th>coverage</th>\n",
       "      <th>density</th>\n",
       "      <th>id</th>\n",
       "      <th>mass</th>\n",
       "      <th>mean</th>\n",
       "      <th>res_dim</th>\n",
       "    </tr>\n",
       "  </thead>\n",
       "  <tbody>\n",
       "    <tr>\n",
       "      <th>0</th>\n",
       "      <td>1.000000</td>\n",
       "      <td>0.214000</td>\n",
       "      <td>0</td>\n",
       "      <td>1.0000</td>\n",
       "      <td>0.214000</td>\n",
       "      <td>0</td>\n",
       "    </tr>\n",
       "    <tr>\n",
       "      <th>1</th>\n",
       "      <td>1.000000</td>\n",
       "      <td>0.237778</td>\n",
       "      <td>1</td>\n",
       "      <td>0.9000</td>\n",
       "      <td>0.237778</td>\n",
       "      <td>1</td>\n",
       "    </tr>\n",
       "    <tr>\n",
       "      <th>2</th>\n",
       "      <td>0.997664</td>\n",
       "      <td>0.263580</td>\n",
       "      <td>2</td>\n",
       "      <td>0.8100</td>\n",
       "      <td>0.263580</td>\n",
       "      <td>1</td>\n",
       "    </tr>\n",
       "    <tr>\n",
       "      <th>3</th>\n",
       "      <td>0.995327</td>\n",
       "      <td>0.292181</td>\n",
       "      <td>3</td>\n",
       "      <td>0.7290</td>\n",
       "      <td>0.292181</td>\n",
       "      <td>1</td>\n",
       "    </tr>\n",
       "    <tr>\n",
       "      <th>4</th>\n",
       "      <td>0.990654</td>\n",
       "      <td>0.323171</td>\n",
       "      <td>4</td>\n",
       "      <td>0.6560</td>\n",
       "      <td>0.323171</td>\n",
       "      <td>2</td>\n",
       "    </tr>\n",
       "    <tr>\n",
       "      <th>5</th>\n",
       "      <td>0.978972</td>\n",
       "      <td>0.355085</td>\n",
       "      <td>5</td>\n",
       "      <td>0.5900</td>\n",
       "      <td>0.355085</td>\n",
       "      <td>2</td>\n",
       "    </tr>\n",
       "    <tr>\n",
       "      <th>6</th>\n",
       "      <td>0.964953</td>\n",
       "      <td>0.388889</td>\n",
       "      <td>6</td>\n",
       "      <td>0.5310</td>\n",
       "      <td>0.388889</td>\n",
       "      <td>2</td>\n",
       "    </tr>\n",
       "    <tr>\n",
       "      <th>7</th>\n",
       "      <td>0.960280</td>\n",
       "      <td>0.430366</td>\n",
       "      <td>7</td>\n",
       "      <td>0.4775</td>\n",
       "      <td>0.430366</td>\n",
       "      <td>2</td>\n",
       "    </tr>\n",
       "    <tr>\n",
       "      <th>8</th>\n",
       "      <td>0.941589</td>\n",
       "      <td>0.469150</td>\n",
       "      <td>8</td>\n",
       "      <td>0.4295</td>\n",
       "      <td>0.469150</td>\n",
       "      <td>2</td>\n",
       "    </tr>\n",
       "    <tr>\n",
       "      <th>9</th>\n",
       "      <td>0.920561</td>\n",
       "      <td>0.509702</td>\n",
       "      <td>9</td>\n",
       "      <td>0.3865</td>\n",
       "      <td>0.509702</td>\n",
       "      <td>2</td>\n",
       "    </tr>\n",
       "    <tr>\n",
       "      <th>10</th>\n",
       "      <td>0.894860</td>\n",
       "      <td>0.551079</td>\n",
       "      <td>10</td>\n",
       "      <td>0.3475</td>\n",
       "      <td>0.551079</td>\n",
       "      <td>2</td>\n",
       "    </tr>\n",
       "    <tr>\n",
       "      <th>11</th>\n",
       "      <td>0.864486</td>\n",
       "      <td>0.592000</td>\n",
       "      <td>11</td>\n",
       "      <td>0.3125</td>\n",
       "      <td>0.592000</td>\n",
       "      <td>2</td>\n",
       "    </tr>\n",
       "    <tr>\n",
       "      <th>12</th>\n",
       "      <td>0.822430</td>\n",
       "      <td>0.626335</td>\n",
       "      <td>12</td>\n",
       "      <td>0.2810</td>\n",
       "      <td>0.626335</td>\n",
       "      <td>2</td>\n",
       "    </tr>\n",
       "    <tr>\n",
       "      <th>13</th>\n",
       "      <td>0.785047</td>\n",
       "      <td>0.665347</td>\n",
       "      <td>13</td>\n",
       "      <td>0.2525</td>\n",
       "      <td>0.665347</td>\n",
       "      <td>2</td>\n",
       "    </tr>\n",
       "    <tr>\n",
       "      <th>14</th>\n",
       "      <td>0.747664</td>\n",
       "      <td>0.704846</td>\n",
       "      <td>14</td>\n",
       "      <td>0.2270</td>\n",
       "      <td>0.704846</td>\n",
       "      <td>2</td>\n",
       "    </tr>\n",
       "    <tr>\n",
       "      <th>15</th>\n",
       "      <td>0.703271</td>\n",
       "      <td>0.737745</td>\n",
       "      <td>15</td>\n",
       "      <td>0.2040</td>\n",
       "      <td>0.737745</td>\n",
       "      <td>2</td>\n",
       "    </tr>\n",
       "    <tr>\n",
       "      <th>16</th>\n",
       "      <td>0.654206</td>\n",
       "      <td>0.762943</td>\n",
       "      <td>16</td>\n",
       "      <td>0.1835</td>\n",
       "      <td>0.762943</td>\n",
       "      <td>2</td>\n",
       "    </tr>\n",
       "    <tr>\n",
       "      <th>17</th>\n",
       "      <td>0.623832</td>\n",
       "      <td>0.809091</td>\n",
       "      <td>17</td>\n",
       "      <td>0.1650</td>\n",
       "      <td>0.809091</td>\n",
       "      <td>2</td>\n",
       "    </tr>\n",
       "    <tr>\n",
       "      <th>18</th>\n",
       "      <td>0.584112</td>\n",
       "      <td>0.841751</td>\n",
       "      <td>18</td>\n",
       "      <td>0.1485</td>\n",
       "      <td>0.841751</td>\n",
       "      <td>2</td>\n",
       "    </tr>\n",
       "    <tr>\n",
       "      <th>19</th>\n",
       "      <td>0.546729</td>\n",
       "      <td>0.876404</td>\n",
       "      <td>19</td>\n",
       "      <td>0.1335</td>\n",
       "      <td>0.876404</td>\n",
       "      <td>2</td>\n",
       "    </tr>\n",
       "    <tr>\n",
       "      <th>20</th>\n",
       "      <td>0.502336</td>\n",
       "      <td>0.895833</td>\n",
       "      <td>20</td>\n",
       "      <td>0.1200</td>\n",
       "      <td>0.895833</td>\n",
       "      <td>2</td>\n",
       "    </tr>\n",
       "    <tr>\n",
       "      <th>21</th>\n",
       "      <td>0.457944</td>\n",
       "      <td>0.907407</td>\n",
       "      <td>21</td>\n",
       "      <td>0.1080</td>\n",
       "      <td>0.907407</td>\n",
       "      <td>3</td>\n",
       "    </tr>\n",
       "    <tr>\n",
       "      <th>22</th>\n",
       "      <td>0.415888</td>\n",
       "      <td>0.917526</td>\n",
       "      <td>22</td>\n",
       "      <td>0.0970</td>\n",
       "      <td>0.917526</td>\n",
       "      <td>3</td>\n",
       "    </tr>\n",
       "    <tr>\n",
       "      <th>23</th>\n",
       "      <td>0.380841</td>\n",
       "      <td>0.936782</td>\n",
       "      <td>23</td>\n",
       "      <td>0.0870</td>\n",
       "      <td>0.936782</td>\n",
       "      <td>3</td>\n",
       "    </tr>\n",
       "    <tr>\n",
       "      <th>24</th>\n",
       "      <td>0.345794</td>\n",
       "      <td>0.948718</td>\n",
       "      <td>24</td>\n",
       "      <td>0.0780</td>\n",
       "      <td>0.948718</td>\n",
       "      <td>3</td>\n",
       "    </tr>\n",
       "    <tr>\n",
       "      <th>25</th>\n",
       "      <td>0.315421</td>\n",
       "      <td>0.964286</td>\n",
       "      <td>25</td>\n",
       "      <td>0.0700</td>\n",
       "      <td>0.964286</td>\n",
       "      <td>4</td>\n",
       "    </tr>\n",
       "    <tr>\n",
       "      <th>26</th>\n",
       "      <td>0.285047</td>\n",
       "      <td>0.968254</td>\n",
       "      <td>26</td>\n",
       "      <td>0.0630</td>\n",
       "      <td>0.968254</td>\n",
       "      <td>4</td>\n",
       "    </tr>\n",
       "    <tr>\n",
       "      <th>27</th>\n",
       "      <td>0.257009</td>\n",
       "      <td>0.973451</td>\n",
       "      <td>27</td>\n",
       "      <td>0.0565</td>\n",
       "      <td>0.973451</td>\n",
       "      <td>4</td>\n",
       "    </tr>\n",
       "    <tr>\n",
       "      <th>28</th>\n",
       "      <td>0.231308</td>\n",
       "      <td>0.980198</td>\n",
       "      <td>28</td>\n",
       "      <td>0.0505</td>\n",
       "      <td>0.980198</td>\n",
       "      <td>4</td>\n",
       "    </tr>\n",
       "    <tr>\n",
       "      <th>29</th>\n",
       "      <td>0.233645</td>\n",
       "      <td>0.980392</td>\n",
       "      <td>29</td>\n",
       "      <td>0.0510</td>\n",
       "      <td>0.980392</td>\n",
       "      <td>4</td>\n",
       "    </tr>\n",
       "    <tr>\n",
       "      <th>30</th>\n",
       "      <td>0.235981</td>\n",
       "      <td>0.980583</td>\n",
       "      <td>30</td>\n",
       "      <td>0.0515</td>\n",
       "      <td>0.980583</td>\n",
       "      <td>4</td>\n",
       "    </tr>\n",
       "    <tr>\n",
       "      <th>31</th>\n",
       "      <td>0.238318</td>\n",
       "      <td>0.980769</td>\n",
       "      <td>31</td>\n",
       "      <td>0.0520</td>\n",
       "      <td>0.980769</td>\n",
       "      <td>4</td>\n",
       "    </tr>\n",
       "    <tr>\n",
       "      <th>32</th>\n",
       "      <td>0.240654</td>\n",
       "      <td>0.980952</td>\n",
       "      <td>32</td>\n",
       "      <td>0.0525</td>\n",
       "      <td>0.980952</td>\n",
       "      <td>4</td>\n",
       "    </tr>\n",
       "    <tr>\n",
       "      <th>33</th>\n",
       "      <td>0.242991</td>\n",
       "      <td>0.981132</td>\n",
       "      <td>33</td>\n",
       "      <td>0.0530</td>\n",
       "      <td>0.981132</td>\n",
       "      <td>4</td>\n",
       "    </tr>\n",
       "    <tr>\n",
       "      <th>34</th>\n",
       "      <td>0.245327</td>\n",
       "      <td>0.981308</td>\n",
       "      <td>34</td>\n",
       "      <td>0.0535</td>\n",
       "      <td>0.981308</td>\n",
       "      <td>4</td>\n",
       "    </tr>\n",
       "    <tr>\n",
       "      <th>35</th>\n",
       "      <td>0.247664</td>\n",
       "      <td>0.981481</td>\n",
       "      <td>35</td>\n",
       "      <td>0.0540</td>\n",
       "      <td>0.981481</td>\n",
       "      <td>4</td>\n",
       "    </tr>\n",
       "    <tr>\n",
       "      <th>36</th>\n",
       "      <td>0.250000</td>\n",
       "      <td>0.981651</td>\n",
       "      <td>36</td>\n",
       "      <td>0.0545</td>\n",
       "      <td>0.981651</td>\n",
       "      <td>4</td>\n",
       "    </tr>\n",
       "    <tr>\n",
       "      <th>37</th>\n",
       "      <td>0.252336</td>\n",
       "      <td>0.981818</td>\n",
       "      <td>37</td>\n",
       "      <td>0.0550</td>\n",
       "      <td>0.981818</td>\n",
       "      <td>4</td>\n",
       "    </tr>\n",
       "    <tr>\n",
       "      <th>38</th>\n",
       "      <td>0.254673</td>\n",
       "      <td>0.981982</td>\n",
       "      <td>38</td>\n",
       "      <td>0.0555</td>\n",
       "      <td>0.981982</td>\n",
       "      <td>4</td>\n",
       "    </tr>\n",
       "    <tr>\n",
       "      <th>39</th>\n",
       "      <td>0.257009</td>\n",
       "      <td>0.982143</td>\n",
       "      <td>39</td>\n",
       "      <td>0.0560</td>\n",
       "      <td>0.982143</td>\n",
       "      <td>4</td>\n",
       "    </tr>\n",
       "    <tr>\n",
       "      <th>40</th>\n",
       "      <td>0.259346</td>\n",
       "      <td>0.982301</td>\n",
       "      <td>40</td>\n",
       "      <td>0.0565</td>\n",
       "      <td>0.982301</td>\n",
       "      <td>4</td>\n",
       "    </tr>\n",
       "    <tr>\n",
       "      <th>41</th>\n",
       "      <td>0.261682</td>\n",
       "      <td>0.982456</td>\n",
       "      <td>41</td>\n",
       "      <td>0.0570</td>\n",
       "      <td>0.982456</td>\n",
       "      <td>4</td>\n",
       "    </tr>\n",
       "    <tr>\n",
       "      <th>42</th>\n",
       "      <td>0.264019</td>\n",
       "      <td>0.982609</td>\n",
       "      <td>42</td>\n",
       "      <td>0.0575</td>\n",
       "      <td>0.982609</td>\n",
       "      <td>4</td>\n",
       "    </tr>\n",
       "    <tr>\n",
       "      <th>43</th>\n",
       "      <td>0.266355</td>\n",
       "      <td>0.982759</td>\n",
       "      <td>43</td>\n",
       "      <td>0.0580</td>\n",
       "      <td>0.982759</td>\n",
       "      <td>4</td>\n",
       "    </tr>\n",
       "    <tr>\n",
       "      <th>44</th>\n",
       "      <td>0.268692</td>\n",
       "      <td>0.982906</td>\n",
       "      <td>44</td>\n",
       "      <td>0.0585</td>\n",
       "      <td>0.982906</td>\n",
       "      <td>4</td>\n",
       "    </tr>\n",
       "    <tr>\n",
       "      <th>45</th>\n",
       "      <td>0.271028</td>\n",
       "      <td>0.983051</td>\n",
       "      <td>45</td>\n",
       "      <td>0.0590</td>\n",
       "      <td>0.983051</td>\n",
       "      <td>4</td>\n",
       "    </tr>\n",
       "    <tr>\n",
       "      <th>46</th>\n",
       "      <td>0.273364</td>\n",
       "      <td>0.983193</td>\n",
       "      <td>46</td>\n",
       "      <td>0.0595</td>\n",
       "      <td>0.983193</td>\n",
       "      <td>4</td>\n",
       "    </tr>\n",
       "    <tr>\n",
       "      <th>47</th>\n",
       "      <td>0.275701</td>\n",
       "      <td>0.983333</td>\n",
       "      <td>47</td>\n",
       "      <td>0.0600</td>\n",
       "      <td>0.983333</td>\n",
       "      <td>4</td>\n",
       "    </tr>\n",
       "    <tr>\n",
       "      <th>48</th>\n",
       "      <td>0.278037</td>\n",
       "      <td>0.983471</td>\n",
       "      <td>48</td>\n",
       "      <td>0.0605</td>\n",
       "      <td>0.983471</td>\n",
       "      <td>4</td>\n",
       "    </tr>\n",
       "    <tr>\n",
       "      <th>49</th>\n",
       "      <td>0.280374</td>\n",
       "      <td>0.983607</td>\n",
       "      <td>49</td>\n",
       "      <td>0.0610</td>\n",
       "      <td>0.983607</td>\n",
       "      <td>4</td>\n",
       "    </tr>\n",
       "    <tr>\n",
       "      <th>50</th>\n",
       "      <td>0.282710</td>\n",
       "      <td>0.983740</td>\n",
       "      <td>50</td>\n",
       "      <td>0.0615</td>\n",
       "      <td>0.983740</td>\n",
       "      <td>4</td>\n",
       "    </tr>\n",
       "    <tr>\n",
       "      <th>51</th>\n",
       "      <td>0.285047</td>\n",
       "      <td>0.983871</td>\n",
       "      <td>51</td>\n",
       "      <td>0.0620</td>\n",
       "      <td>0.983871</td>\n",
       "      <td>4</td>\n",
       "    </tr>\n",
       "    <tr>\n",
       "      <th>52</th>\n",
       "      <td>0.287383</td>\n",
       "      <td>0.984000</td>\n",
       "      <td>52</td>\n",
       "      <td>0.0625</td>\n",
       "      <td>0.984000</td>\n",
       "      <td>4</td>\n",
       "    </tr>\n",
       "    <tr>\n",
       "      <th>53</th>\n",
       "      <td>0.289720</td>\n",
       "      <td>0.984127</td>\n",
       "      <td>53</td>\n",
       "      <td>0.0630</td>\n",
       "      <td>0.984127</td>\n",
       "      <td>4</td>\n",
       "    </tr>\n",
       "  </tbody>\n",
       "</table>\n",
       "</div>"
      ],
      "text/plain": [
       "    coverage   density  id    mass      mean res_dim\n",
       "0   1.000000  0.214000   0  1.0000  0.214000       0\n",
       "1   1.000000  0.237778   1  0.9000  0.237778       1\n",
       "2   0.997664  0.263580   2  0.8100  0.263580       1\n",
       "3   0.995327  0.292181   3  0.7290  0.292181       1\n",
       "4   0.990654  0.323171   4  0.6560  0.323171       2\n",
       "5   0.978972  0.355085   5  0.5900  0.355085       2\n",
       "6   0.964953  0.388889   6  0.5310  0.388889       2\n",
       "7   0.960280  0.430366   7  0.4775  0.430366       2\n",
       "8   0.941589  0.469150   8  0.4295  0.469150       2\n",
       "9   0.920561  0.509702   9  0.3865  0.509702       2\n",
       "10  0.894860  0.551079  10  0.3475  0.551079       2\n",
       "11  0.864486  0.592000  11  0.3125  0.592000       2\n",
       "12  0.822430  0.626335  12  0.2810  0.626335       2\n",
       "13  0.785047  0.665347  13  0.2525  0.665347       2\n",
       "14  0.747664  0.704846  14  0.2270  0.704846       2\n",
       "15  0.703271  0.737745  15  0.2040  0.737745       2\n",
       "16  0.654206  0.762943  16  0.1835  0.762943       2\n",
       "17  0.623832  0.809091  17  0.1650  0.809091       2\n",
       "18  0.584112  0.841751  18  0.1485  0.841751       2\n",
       "19  0.546729  0.876404  19  0.1335  0.876404       2\n",
       "20  0.502336  0.895833  20  0.1200  0.895833       2\n",
       "21  0.457944  0.907407  21  0.1080  0.907407       3\n",
       "22  0.415888  0.917526  22  0.0970  0.917526       3\n",
       "23  0.380841  0.936782  23  0.0870  0.936782       3\n",
       "24  0.345794  0.948718  24  0.0780  0.948718       3\n",
       "25  0.315421  0.964286  25  0.0700  0.964286       4\n",
       "26  0.285047  0.968254  26  0.0630  0.968254       4\n",
       "27  0.257009  0.973451  27  0.0565  0.973451       4\n",
       "28  0.231308  0.980198  28  0.0505  0.980198       4\n",
       "29  0.233645  0.980392  29  0.0510  0.980392       4\n",
       "30  0.235981  0.980583  30  0.0515  0.980583       4\n",
       "31  0.238318  0.980769  31  0.0520  0.980769       4\n",
       "32  0.240654  0.980952  32  0.0525  0.980952       4\n",
       "33  0.242991  0.981132  33  0.0530  0.981132       4\n",
       "34  0.245327  0.981308  34  0.0535  0.981308       4\n",
       "35  0.247664  0.981481  35  0.0540  0.981481       4\n",
       "36  0.250000  0.981651  36  0.0545  0.981651       4\n",
       "37  0.252336  0.981818  37  0.0550  0.981818       4\n",
       "38  0.254673  0.981982  38  0.0555  0.981982       4\n",
       "39  0.257009  0.982143  39  0.0560  0.982143       4\n",
       "40  0.259346  0.982301  40  0.0565  0.982301       4\n",
       "41  0.261682  0.982456  41  0.0570  0.982456       4\n",
       "42  0.264019  0.982609  42  0.0575  0.982609       4\n",
       "43  0.266355  0.982759  43  0.0580  0.982759       4\n",
       "44  0.268692  0.982906  44  0.0585  0.982906       4\n",
       "45  0.271028  0.983051  45  0.0590  0.983051       4\n",
       "46  0.273364  0.983193  46  0.0595  0.983193       4\n",
       "47  0.275701  0.983333  47  0.0600  0.983333       4\n",
       "48  0.278037  0.983471  48  0.0605  0.983471       4\n",
       "49  0.280374  0.983607  49  0.0610  0.983607       4\n",
       "50  0.282710  0.983740  50  0.0615  0.983740       4\n",
       "51  0.285047  0.983871  51  0.0620  0.983871       4\n",
       "52  0.287383  0.984000  52  0.0625  0.984000       4\n",
       "53  0.289720  0.984127  53  0.0630  0.984127       4"
      ]
     },
     "execution_count": 35,
     "metadata": {},
     "output_type": "execute_result"
    }
   ],
   "source": [
    "x = experiments\n",
    "y = clustering.labels_== 1\n",
    "\n",
    "prim_obj = prim.Prim(x,y, threshold=0.2, peel_alpha=0.1)\n",
    "box1 = prim_obj.find_box()\n",
    "box1.peeling_trajectory"
   ]
  },
  {
   "cell_type": "code",
   "execution_count": 36,
   "metadata": {},
   "outputs": [
    {
     "data": {
      "image/png": "[encoded data removed]",
      "text/plain": [
       "<Figure size 432x288 with 1 Axes>"
      ]
     },
     "metadata": {
      "needs_background": "light"
     },
     "output_type": "display_data"
    }
   ],
   "source": [
    "box1.inspect(17, style='graph')\n",
    "plt.savefig('cluster2_sd_70%.jpeg',bbox_inches='tight', dpi=200)\n",
    "plt.show()"
   ]
  },
  {
   "cell_type": "code",
   "execution_count": 37,
   "metadata": {},
   "outputs": [
    {
     "name": "stderr",
     "output_type": "stream",
     "text": [
      "[MainProcess/INFO] policy dropped from analysis because only a single category\n",
      "[MainProcess/INFO] model dropped from analysis because only a single category\n",
      "[MainProcess/INFO] 2000 points remaining, containing 602 cases of interest\n",
      "[MainProcess/INFO] mean: 1.0, mass: 0.0565, coverage: 0.1877076411960133, density: 1.0 restricted_dimensions: 7\n"
     ]
    },
    {
     "data": {
      "text/html": [
       "<div>\n",
       "<style scoped>\n",
       "    .dataframe tbody tr th:only-of-type {\n",
       "        vertical-align: middle;\n",
       "    }\n",
       "\n",
       "    .dataframe tbody tr th {\n",
       "        vertical-align: top;\n",
       "    }\n",
       "\n",
       "    .dataframe thead th {\n",
       "        text-align: right;\n",
       "    }\n",
       "</style>\n",
       "<table border=\"1\" class=\"dataframe\">\n",
       "  <thead>\n",
       "    <tr style=\"text-align: right;\">\n",
       "      <th></th>\n",
       "      <th>coverage</th>\n",
       "      <th>density</th>\n",
       "      <th>id</th>\n",
       "      <th>mass</th>\n",
       "      <th>mean</th>\n",
       "      <th>res_dim</th>\n",
       "    </tr>\n",
       "  </thead>\n",
       "  <tbody>\n",
       "    <tr>\n",
       "      <th>0</th>\n",
       "      <td>1.000000</td>\n",
       "      <td>0.301000</td>\n",
       "      <td>0</td>\n",
       "      <td>1.0000</td>\n",
       "      <td>0.301000</td>\n",
       "      <td>0</td>\n",
       "    </tr>\n",
       "    <tr>\n",
       "      <th>1</th>\n",
       "      <td>0.986711</td>\n",
       "      <td>0.330000</td>\n",
       "      <td>1</td>\n",
       "      <td>0.9000</td>\n",
       "      <td>0.330000</td>\n",
       "      <td>1</td>\n",
       "    </tr>\n",
       "    <tr>\n",
       "      <th>2</th>\n",
       "      <td>0.976744</td>\n",
       "      <td>0.362963</td>\n",
       "      <td>2</td>\n",
       "      <td>0.8100</td>\n",
       "      <td>0.362963</td>\n",
       "      <td>1</td>\n",
       "    </tr>\n",
       "    <tr>\n",
       "      <th>3</th>\n",
       "      <td>0.968439</td>\n",
       "      <td>0.399863</td>\n",
       "      <td>3</td>\n",
       "      <td>0.7290</td>\n",
       "      <td>0.399863</td>\n",
       "      <td>1</td>\n",
       "    </tr>\n",
       "    <tr>\n",
       "      <th>4</th>\n",
       "      <td>0.950166</td>\n",
       "      <td>0.435976</td>\n",
       "      <td>4</td>\n",
       "      <td>0.6560</td>\n",
       "      <td>0.435976</td>\n",
       "      <td>1</td>\n",
       "    </tr>\n",
       "    <tr>\n",
       "      <th>5</th>\n",
       "      <td>0.936877</td>\n",
       "      <td>0.477966</td>\n",
       "      <td>5</td>\n",
       "      <td>0.5900</td>\n",
       "      <td>0.477966</td>\n",
       "      <td>1</td>\n",
       "    </tr>\n",
       "    <tr>\n",
       "      <th>6</th>\n",
       "      <td>0.913621</td>\n",
       "      <td>0.517891</td>\n",
       "      <td>6</td>\n",
       "      <td>0.5310</td>\n",
       "      <td>0.517891</td>\n",
       "      <td>2</td>\n",
       "    </tr>\n",
       "    <tr>\n",
       "      <th>7</th>\n",
       "      <td>0.890365</td>\n",
       "      <td>0.561257</td>\n",
       "      <td>7</td>\n",
       "      <td>0.4775</td>\n",
       "      <td>0.561257</td>\n",
       "      <td>2</td>\n",
       "    </tr>\n",
       "    <tr>\n",
       "      <th>8</th>\n",
       "      <td>0.853821</td>\n",
       "      <td>0.598370</td>\n",
       "      <td>8</td>\n",
       "      <td>0.4295</td>\n",
       "      <td>0.598370</td>\n",
       "      <td>2</td>\n",
       "    </tr>\n",
       "    <tr>\n",
       "      <th>9</th>\n",
       "      <td>0.822259</td>\n",
       "      <td>0.640362</td>\n",
       "      <td>9</td>\n",
       "      <td>0.3865</td>\n",
       "      <td>0.640362</td>\n",
       "      <td>2</td>\n",
       "    </tr>\n",
       "    <tr>\n",
       "      <th>10</th>\n",
       "      <td>0.780731</td>\n",
       "      <td>0.676259</td>\n",
       "      <td>10</td>\n",
       "      <td>0.3475</td>\n",
       "      <td>0.676259</td>\n",
       "      <td>3</td>\n",
       "    </tr>\n",
       "    <tr>\n",
       "      <th>11</th>\n",
       "      <td>0.735880</td>\n",
       "      <td>0.708800</td>\n",
       "      <td>11</td>\n",
       "      <td>0.3125</td>\n",
       "      <td>0.708800</td>\n",
       "      <td>3</td>\n",
       "    </tr>\n",
       "    <tr>\n",
       "      <th>12</th>\n",
       "      <td>0.692691</td>\n",
       "      <td>0.741993</td>\n",
       "      <td>12</td>\n",
       "      <td>0.2810</td>\n",
       "      <td>0.741993</td>\n",
       "      <td>3</td>\n",
       "    </tr>\n",
       "    <tr>\n",
       "      <th>13</th>\n",
       "      <td>0.651163</td>\n",
       "      <td>0.776238</td>\n",
       "      <td>13</td>\n",
       "      <td>0.2525</td>\n",
       "      <td>0.776238</td>\n",
       "      <td>3</td>\n",
       "    </tr>\n",
       "    <tr>\n",
       "      <th>14</th>\n",
       "      <td>0.602990</td>\n",
       "      <td>0.799559</td>\n",
       "      <td>14</td>\n",
       "      <td>0.2270</td>\n",
       "      <td>0.799559</td>\n",
       "      <td>3</td>\n",
       "    </tr>\n",
       "    <tr>\n",
       "      <th>15</th>\n",
       "      <td>0.558140</td>\n",
       "      <td>0.823529</td>\n",
       "      <td>15</td>\n",
       "      <td>0.2040</td>\n",
       "      <td>0.823529</td>\n",
       "      <td>4</td>\n",
       "    </tr>\n",
       "    <tr>\n",
       "      <th>16</th>\n",
       "      <td>0.514950</td>\n",
       "      <td>0.844687</td>\n",
       "      <td>16</td>\n",
       "      <td>0.1835</td>\n",
       "      <td>0.844687</td>\n",
       "      <td>4</td>\n",
       "    </tr>\n",
       "    <tr>\n",
       "      <th>17</th>\n",
       "      <td>0.483389</td>\n",
       "      <td>0.881818</td>\n",
       "      <td>17</td>\n",
       "      <td>0.1650</td>\n",
       "      <td>0.881818</td>\n",
       "      <td>4</td>\n",
       "    </tr>\n",
       "    <tr>\n",
       "      <th>18</th>\n",
       "      <td>0.440199</td>\n",
       "      <td>0.892256</td>\n",
       "      <td>18</td>\n",
       "      <td>0.1485</td>\n",
       "      <td>0.892256</td>\n",
       "      <td>4</td>\n",
       "    </tr>\n",
       "    <tr>\n",
       "      <th>19</th>\n",
       "      <td>0.401993</td>\n",
       "      <td>0.906367</td>\n",
       "      <td>19</td>\n",
       "      <td>0.1335</td>\n",
       "      <td>0.906367</td>\n",
       "      <td>4</td>\n",
       "    </tr>\n",
       "    <tr>\n",
       "      <th>20</th>\n",
       "      <td>0.365449</td>\n",
       "      <td>0.916667</td>\n",
       "      <td>20</td>\n",
       "      <td>0.1200</td>\n",
       "      <td>0.916667</td>\n",
       "      <td>4</td>\n",
       "    </tr>\n",
       "    <tr>\n",
       "      <th>21</th>\n",
       "      <td>0.333887</td>\n",
       "      <td>0.930556</td>\n",
       "      <td>21</td>\n",
       "      <td>0.1080</td>\n",
       "      <td>0.930556</td>\n",
       "      <td>5</td>\n",
       "    </tr>\n",
       "    <tr>\n",
       "      <th>22</th>\n",
       "      <td>0.305648</td>\n",
       "      <td>0.948454</td>\n",
       "      <td>22</td>\n",
       "      <td>0.0970</td>\n",
       "      <td>0.948454</td>\n",
       "      <td>6</td>\n",
       "    </tr>\n",
       "    <tr>\n",
       "      <th>23</th>\n",
       "      <td>0.277409</td>\n",
       "      <td>0.959770</td>\n",
       "      <td>23</td>\n",
       "      <td>0.0870</td>\n",
       "      <td>0.959770</td>\n",
       "      <td>6</td>\n",
       "    </tr>\n",
       "    <tr>\n",
       "      <th>24</th>\n",
       "      <td>0.252492</td>\n",
       "      <td>0.974359</td>\n",
       "      <td>24</td>\n",
       "      <td>0.0780</td>\n",
       "      <td>0.974359</td>\n",
       "      <td>6</td>\n",
       "    </tr>\n",
       "    <tr>\n",
       "      <th>25</th>\n",
       "      <td>0.229236</td>\n",
       "      <td>0.985714</td>\n",
       "      <td>25</td>\n",
       "      <td>0.0700</td>\n",
       "      <td>0.985714</td>\n",
       "      <td>7</td>\n",
       "    </tr>\n",
       "    <tr>\n",
       "      <th>26</th>\n",
       "      <td>0.207641</td>\n",
       "      <td>0.992063</td>\n",
       "      <td>26</td>\n",
       "      <td>0.0630</td>\n",
       "      <td>0.992063</td>\n",
       "      <td>7</td>\n",
       "    </tr>\n",
       "    <tr>\n",
       "      <th>27</th>\n",
       "      <td>0.187708</td>\n",
       "      <td>1.000000</td>\n",
       "      <td>27</td>\n",
       "      <td>0.0565</td>\n",
       "      <td>1.000000</td>\n",
       "      <td>7</td>\n",
       "    </tr>\n",
       "  </tbody>\n",
       "</table>\n",
       "</div>"
      ],
      "text/plain": [
       "    coverage   density  id    mass      mean res_dim\n",
       "0   1.000000  0.301000   0  1.0000  0.301000       0\n",
       "1   0.986711  0.330000   1  0.9000  0.330000       1\n",
       "2   0.976744  0.362963   2  0.8100  0.362963       1\n",
       "3   0.968439  0.399863   3  0.7290  0.399863       1\n",
       "4   0.950166  0.435976   4  0.6560  0.435976       1\n",
       "5   0.936877  0.477966   5  0.5900  0.477966       1\n",
       "6   0.913621  0.517891   6  0.5310  0.517891       2\n",
       "7   0.890365  0.561257   7  0.4775  0.561257       2\n",
       "8   0.853821  0.598370   8  0.4295  0.598370       2\n",
       "9   0.822259  0.640362   9  0.3865  0.640362       2\n",
       "10  0.780731  0.676259  10  0.3475  0.676259       3\n",
       "11  0.735880  0.708800  11  0.3125  0.708800       3\n",
       "12  0.692691  0.741993  12  0.2810  0.741993       3\n",
       "13  0.651163  0.776238  13  0.2525  0.776238       3\n",
       "14  0.602990  0.799559  14  0.2270  0.799559       3\n",
       "15  0.558140  0.823529  15  0.2040  0.823529       4\n",
       "16  0.514950  0.844687  16  0.1835  0.844687       4\n",
       "17  0.483389  0.881818  17  0.1650  0.881818       4\n",
       "18  0.440199  0.892256  18  0.1485  0.892256       4\n",
       "19  0.401993  0.906367  19  0.1335  0.906367       4\n",
       "20  0.365449  0.916667  20  0.1200  0.916667       4\n",
       "21  0.333887  0.930556  21  0.1080  0.930556       5\n",
       "22  0.305648  0.948454  22  0.0970  0.948454       6\n",
       "23  0.277409  0.959770  23  0.0870  0.959770       6\n",
       "24  0.252492  0.974359  24  0.0780  0.974359       6\n",
       "25  0.229236  0.985714  25  0.0700  0.985714       7\n",
       "26  0.207641  0.992063  26  0.0630  0.992063       7\n",
       "27  0.187708  1.000000  27  0.0565  1.000000       7"
      ]
     },
     "execution_count": 37,
     "metadata": {},
     "output_type": "execute_result"
    }
   ],
   "source": [
    "x = experiments\n",
    "y = clustering.labels_== 2\n",
    "\n",
    "prim_obj = prim.Prim(x,y, threshold=0.2, peel_alpha=0.1)\n",
    "box1 = prim_obj.find_box()\n",
    "box1.peeling_trajectory"
   ]
  },
  {
   "cell_type": "code",
   "execution_count": 42,
   "metadata": {},
   "outputs": [
    {
     "data": {
      "image/png": "[encoded data removed]",
      "text/plain": [
       "<Figure size 432x288 with 1 Axes>"
      ]
     },
     "metadata": {
      "needs_background": "light"
     },
     "output_type": "display_data"
    }
   ],
   "source": [
    "box1.inspect(5, style='graph')\n",
    "#plt.savefig('cluster_3_sd_70%.jpeg',bbox_inches='tight', dpi=200)\n",
    "plt.show()"
   ]
  },
  {
   "cell_type": "markdown",
   "metadata": {},
   "source": [
    "### Not read from here"
   ]
  },
  {
   "cell_type": "code",
   "execution_count": 23,
   "metadata": {},
   "outputs": [],
   "source": [
    "def calc_probability_map(maps, lu):\n",
    "    num_maps = maps.shape[0]\n",
    "    print(num_maps)\n",
    "    shape = maps.shape\n",
    "    maps_r = np.transpose(maps)\n",
    "    \n",
    "    prob_map = np.zeros((shape[1], shape[2]))\n",
    "    \n",
    "    for i in range(shape[1]):\n",
    "        for j in range(shape[2]):\n",
    "            unique_counts = np.unique(maps_r[:][j][i], return_counts=True)\n",
    "            unique_counts = dict(zip(unique_counts[0], unique_counts[1]))\n",
    "            try:\n",
    "                prob_map[i, j] = unique_counts[lu]\n",
    "            except:\n",
    "                pass\n",
    "    \n",
    "    return prob_map"
   ]
  },
  {
   "cell_type": "code",
   "execution_count": 25,
   "metadata": {},
   "outputs": [
    {
     "name": "stdout",
     "output_type": "stream",
     "text": [
      "1029\n",
      "297\n",
      "674\n"
     ]
    }
   ],
   "source": [
    "triple_prob_map_0 = calc_probability_map(ooi_0, 3)\n",
    "triple_prob_map_1 = calc_probability_map(ooi_1, 3)\n",
    "triple_prob_map_2 = calc_probability_map(ooi_2, 3)"
   ]
  },
  {
   "cell_type": "code",
   "execution_count": 38,
   "metadata": {},
   "outputs": [],
   "source": [
    "ooi_clustered = [triple_prob_map_0, triple_prob_map_1, triple_prob_map_2]"
   ]
  },
  {
   "cell_type": "code",
   "execution_count": 40,
   "metadata": {},
   "outputs": [
    {
     "data": {
      "image/png": "[encoded data removed]",
      "text/plain": [
       "<Figure size 432x288 with 1 Axes>"
      ]
     },
     "metadata": {
      "needs_background": "light"
     },
     "output_type": "display_data"
    },
    {
     "data": {
      "image/png": "[encoded data removed]",
      "text/plain": [
       "<Figure size 432x288 with 1 Axes>"
      ]
     },
     "metadata": {
      "needs_background": "light"
     },
     "output_type": "display_data"
    },
    {
     "data": {
      "image/png": "[encoded data removed]",
      "text/plain": [
       "<Figure size 432x288 with 1 Axes>"
      ]
     },
     "metadata": {
      "needs_background": "light"
     },
     "output_type": "display_data"
    }
   ],
   "source": [
    "import matplotlib.pyplot as plt\n",
    "import seaborn as sns\n",
    "%matplotlib inline\n",
    "\n",
    "plt.imshow(triple_prob_map_0)\n",
    "plt.show()\n",
    "plt.imshow(triple_prob_map_1)\n",
    "plt.show()\n",
    "plt.imshow(triple_prob_map_2)\n",
    "plt.show()"
   ]
  },
  {
   "cell_type": "code",
   "execution_count": 41,
   "metadata": {},
   "outputs": [],
   "source": [
    "from scipy import stats\n",
    "\n",
    "ooi_0_mode = stats.mode(ooi_0).mode[0]\n",
    "ooi_1_mode = stats.mode(ooi_1).mode[0]\n",
    "ooi_2_mode = stats.mode(ooi_2).mode[0]"
   ]
  },
  {
   "cell_type": "code",
   "execution_count": 43,
   "metadata": {},
   "outputs": [],
   "source": [
    "from PIL import Image\n",
    "mask = np.array(Image.open('regionboundary_extents_of_landuse.tif'))[:-1,:]"
   ]
  },
  {
   "cell_type": "code",
   "execution_count": 44,
   "metadata": {},
   "outputs": [],
   "source": [
    "ooi_0_mode = np.where(mask==1, ooi_0_mode, 0)\n",
    "ooi_1_mode = np.where(mask==1, ooi_1_mode, 0)\n",
    "ooi_2_mode = np.where(mask==1, ooi_2_mode, 0)"
   ]
  },
  {
   "cell_type": "code",
   "execution_count": 46,
   "metadata": {},
   "outputs": [],
   "source": [
    "import Kappa_1 as kappa"
   ]
  },
  {
   "cell_type": "code",
   "execution_count": 47,
   "metadata": {},
   "outputs": [
    {
     "name": "stdout",
     "output_type": "stream",
     "text": [
      "2021-09-06 23:05:08.016116\n"
     ]
    },
    {
     "ename": "TypeError",
     "evalue": "kappa_mod() missing 9 required positional arguments: 'row', 'column', 'luc', 'Po_array', 'Pe1_array', 'Pe2_array', 'Pe_array', 'Pmax_array', and 'arg_pairs'",
     "output_type": "error",
     "traceback": [
      "\u001b[1;31m---------------------------------------------------------------------------\u001b[0m",
      "\u001b[1;31mRemoteTraceback\u001b[0m                           Traceback (most recent call last)",
      "\u001b[1;31mRemoteTraceback\u001b[0m: \n\"\"\"\nTraceback (most recent call last):\n  File \"C:\\Users\\teres\\Anaconda3\\lib\\multiprocessing\\pool.py\", line 121, in worker\n    result = (True, func(*args, **kwds))\n  File \"C:\\Users\\teres\\Anaconda3\\lib\\multiprocessing\\pool.py\", line 44, in mapstar\n    return list(map(*args))\nTypeError: kappa_mod() missing 9 required positional arguments: 'row', 'column', 'luc', 'Po_array', 'Pe1_array', 'Pe2_array', 'Pe_array', 'Pmax_array', and 'arg_pairs'\n\"\"\"",
      "\nThe above exception was the direct cause of the following exception:\n",
      "\u001b[1;31mTypeError\u001b[0m                                 Traceback (most recent call last)",
      "\u001b[1;32m<ipython-input-47-682ab265a821>\u001b[0m in \u001b[0;36m<module>\u001b[1;34m\u001b[0m\n\u001b[0;32m      7\u001b[0m \u001b[0mprint\u001b[0m\u001b[1;33m(\u001b[0m\u001b[0mdatetime\u001b[0m\u001b[1;33m.\u001b[0m\u001b[0mdatetime\u001b[0m\u001b[1;33m.\u001b[0m\u001b[0mnow\u001b[0m\u001b[1;33m(\u001b[0m\u001b[1;33m)\u001b[0m\u001b[1;33m)\u001b[0m\u001b[1;33m\u001b[0m\u001b[1;33m\u001b[0m\u001b[0m\n\u001b[0;32m      8\u001b[0m \u001b[1;33m\u001b[0m\u001b[0m\n\u001b[1;32m----> 9\u001b[1;33m \u001b[0mkappa_clustered_df\u001b[0m \u001b[1;33m=\u001b[0m \u001b[0mkappa\u001b[0m\u001b[1;33m.\u001b[0m\u001b[0mkappa_ema_multiprocess\u001b[0m\u001b[1;33m(\u001b[0m\u001b[0mooi_clustered\u001b[0m\u001b[1;33m,\u001b[0m \u001b[0mmask\u001b[0m\u001b[1;33m)\u001b[0m\u001b[1;33m\u001b[0m\u001b[1;33m\u001b[0m\u001b[0m\n\u001b[0m\u001b[0;32m     10\u001b[0m \u001b[0mprint\u001b[0m\u001b[1;33m(\u001b[0m\u001b[0mdatetime\u001b[0m\u001b[1;33m.\u001b[0m\u001b[0mdatetime\u001b[0m\u001b[1;33m.\u001b[0m\u001b[0mnow\u001b[0m\u001b[1;33m(\u001b[0m\u001b[1;33m)\u001b[0m\u001b[1;33m)\u001b[0m\u001b[1;33m\u001b[0m\u001b[1;33m\u001b[0m\u001b[0m\n",
      "\u001b[1;32m~\\Documents\\MasterThesis\\Final_Run_EMA\\Model_2015_2050\\Kappa_1.py\u001b[0m in \u001b[0;36mkappa_ema_multiprocess\u001b[1;34m(outcome, mask)\u001b[0m\n\u001b[0;32m    313\u001b[0m         \u001b[0mpool\u001b[0m \u001b[1;33m=\u001b[0m \u001b[0mPool\u001b[0m\u001b[1;33m(\u001b[0m\u001b[1;36m6\u001b[0m\u001b[1;33m)\u001b[0m\u001b[1;33m\u001b[0m\u001b[1;33m\u001b[0m\u001b[0m\n\u001b[0;32m    314\u001b[0m         \u001b[0mfunc\u001b[0m \u001b[1;33m=\u001b[0m \u001b[0mpartial\u001b[0m\u001b[1;33m(\u001b[0m\u001b[0mkappa_mod\u001b[0m\u001b[1;33m,\u001b[0m \u001b[0mmask\u001b[0m\u001b[1;33m,\u001b[0m \u001b[0mtotal_cells\u001b[0m\u001b[1;33m)\u001b[0m\u001b[1;33m\u001b[0m\u001b[1;33m\u001b[0m\u001b[0m\n\u001b[1;32m--> 315\u001b[1;33m         \u001b[0mall_kappa\u001b[0m \u001b[1;33m=\u001b[0m \u001b[0mpool\u001b[0m\u001b[1;33m.\u001b[0m\u001b[0mmap\u001b[0m\u001b[1;33m(\u001b[0m\u001b[0mfunc\u001b[0m\u001b[1;33m,\u001b[0m \u001b[0marg_pairs\u001b[0m\u001b[1;33m)\u001b[0m\u001b[1;33m\u001b[0m\u001b[1;33m\u001b[0m\u001b[0m\n\u001b[0m\u001b[0;32m    316\u001b[0m \u001b[1;33m\u001b[0m\u001b[0m\n\u001b[0;32m    317\u001b[0m         \u001b[1;32mfor\u001b[0m \u001b[0mitem\u001b[0m \u001b[1;32min\u001b[0m \u001b[0mall_kappa\u001b[0m\u001b[1;33m:\u001b[0m\u001b[1;33m\u001b[0m\u001b[1;33m\u001b[0m\u001b[0m\n",
      "\u001b[1;32m~\\Anaconda3\\lib\\multiprocessing\\pool.py\u001b[0m in \u001b[0;36mmap\u001b[1;34m(self, func, iterable, chunksize)\u001b[0m\n\u001b[0;32m    266\u001b[0m         \u001b[1;32min\u001b[0m \u001b[0ma\u001b[0m \u001b[0mlist\u001b[0m \u001b[0mthat\u001b[0m \u001b[1;32mis\u001b[0m \u001b[0mreturned\u001b[0m\u001b[1;33m.\u001b[0m\u001b[1;33m\u001b[0m\u001b[1;33m\u001b[0m\u001b[0m\n\u001b[0;32m    267\u001b[0m         '''\n\u001b[1;32m--> 268\u001b[1;33m         \u001b[1;32mreturn\u001b[0m \u001b[0mself\u001b[0m\u001b[1;33m.\u001b[0m\u001b[0m_map_async\u001b[0m\u001b[1;33m(\u001b[0m\u001b[0mfunc\u001b[0m\u001b[1;33m,\u001b[0m \u001b[0miterable\u001b[0m\u001b[1;33m,\u001b[0m \u001b[0mmapstar\u001b[0m\u001b[1;33m,\u001b[0m \u001b[0mchunksize\u001b[0m\u001b[1;33m)\u001b[0m\u001b[1;33m.\u001b[0m\u001b[0mget\u001b[0m\u001b[1;33m(\u001b[0m\u001b[1;33m)\u001b[0m\u001b[1;33m\u001b[0m\u001b[1;33m\u001b[0m\u001b[0m\n\u001b[0m\u001b[0;32m    269\u001b[0m \u001b[1;33m\u001b[0m\u001b[0m\n\u001b[0;32m    270\u001b[0m     \u001b[1;32mdef\u001b[0m \u001b[0mstarmap\u001b[0m\u001b[1;33m(\u001b[0m\u001b[0mself\u001b[0m\u001b[1;33m,\u001b[0m \u001b[0mfunc\u001b[0m\u001b[1;33m,\u001b[0m \u001b[0miterable\u001b[0m\u001b[1;33m,\u001b[0m \u001b[0mchunksize\u001b[0m\u001b[1;33m=\u001b[0m\u001b[1;32mNone\u001b[0m\u001b[1;33m)\u001b[0m\u001b[1;33m:\u001b[0m\u001b[1;33m\u001b[0m\u001b[1;33m\u001b[0m\u001b[0m\n",
      "\u001b[1;32m~\\Anaconda3\\lib\\multiprocessing\\pool.py\u001b[0m in \u001b[0;36mget\u001b[1;34m(self, timeout)\u001b[0m\n\u001b[0;32m    655\u001b[0m             \u001b[1;32mreturn\u001b[0m \u001b[0mself\u001b[0m\u001b[1;33m.\u001b[0m\u001b[0m_value\u001b[0m\u001b[1;33m\u001b[0m\u001b[1;33m\u001b[0m\u001b[0m\n\u001b[0;32m    656\u001b[0m         \u001b[1;32melse\u001b[0m\u001b[1;33m:\u001b[0m\u001b[1;33m\u001b[0m\u001b[1;33m\u001b[0m\u001b[0m\n\u001b[1;32m--> 657\u001b[1;33m             \u001b[1;32mraise\u001b[0m \u001b[0mself\u001b[0m\u001b[1;33m.\u001b[0m\u001b[0m_value\u001b[0m\u001b[1;33m\u001b[0m\u001b[1;33m\u001b[0m\u001b[0m\n\u001b[0m\u001b[0;32m    658\u001b[0m \u001b[1;33m\u001b[0m\u001b[0m\n\u001b[0;32m    659\u001b[0m     \u001b[1;32mdef\u001b[0m \u001b[0m_set\u001b[0m\u001b[1;33m(\u001b[0m\u001b[0mself\u001b[0m\u001b[1;33m,\u001b[0m \u001b[0mi\u001b[0m\u001b[1;33m,\u001b[0m \u001b[0mobj\u001b[0m\u001b[1;33m)\u001b[0m\u001b[1;33m:\u001b[0m\u001b[1;33m\u001b[0m\u001b[1;33m\u001b[0m\u001b[0m\n",
      "\u001b[1;31mTypeError\u001b[0m: kappa_mod() missing 9 required positional arguments: 'row', 'column', 'luc', 'Po_array', 'Pe1_array', 'Pe2_array', 'Pe_array', 'Pmax_array', and 'arg_pairs'"
     ]
    }
   ],
   "source": [
    "try:\n",
    "    ooi_clustered = [ooi_0_mode, ooi_1_mode, ooi_2_mode]\n",
    "except:\n",
    "    ooi_clustered = [ooi_0_mode, ooi_1_mode, ooi_2_mode]\n",
    "\n",
    "import datetime\n",
    "print(datetime.datetime.now())\n",
    "\n",
    "kappa_clustered_df = kappa.kappa_ema_multiprocess(ooi_clustered, mask)\n",
    "print(datetime.datetime.now())"
   ]
  },
  {
   "cell_type": "code",
   "execution_count": null,
   "metadata": {},
   "outputs": [],
   "source": []
  }
 ],
 "metadata": {
  "kernelspec": {
   "display_name": "Python 3",
   "language": "python",
   "name": "python3"
  },
  "language_info": {
   "codemirror_mode": {
    "name": "ipython",
    "version": 3
   },
   "file_extension": ".py",
   "mimetype": "text/x-python",
   "name": "python",
   "nbconvert_exporter": "python",
   "pygments_lexer": "ipython3",
   "version": "3.7.3"
  }
 },
 "nbformat": 4,
 "nbformat_minor": 4
}
